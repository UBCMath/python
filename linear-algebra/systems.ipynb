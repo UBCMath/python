{
 "cells": [
  {
   "cell_type": "markdown",
   "id": "063f2ff0-cfe9-4795-b4a1-7d133a67ada3",
   "metadata": {},
   "source": [
    "# Systems of Linear Equations"
   ]
  },
  {
   "cell_type": "code",
   "execution_count": 1,
   "id": "272b7515-6322-4830-a1b1-ac3b0886b372",
   "metadata": {
    "tags": []
   },
   "outputs": [],
   "source": [
    "import numpy as np\n",
    "import scipy.linalg as la\n",
    "import matplotlib.pyplot as plt"
   ]
  },
  {
   "cell_type": "markdown",
   "id": "b9d68740-762a-467c-a6c3-f2352abf7c18",
   "metadata": {},
   "source": [
    "## Terminology\n",
    "\n",
    "A **system of linear equations** is a collection of equations of the form\n",
    "\n",
    "$$\n",
    "\\begin{array}{ccccccccc}\n",
    "a_{0,0}x_0 & + & a_{0,1}x_1 & + & \\cdots & + & a_{0,n-1} x_{n-1} & = & b_0 \\\\\n",
    "a_{1,0}x_0 & + & a_{1,1}x_1 & + & \\cdots & + & a_{1,n-1} x_{n-1} & = & b_1 \\\\\n",
    "\\vdots & & & & & & & & \\vdots & \\\\\n",
    "a_{m-1,0}x_0 & + & a_{m-1,1}x_1 & + & \\cdots & + & a_{m-1,n-1} x_{n-1} & = & b_{m-1}\n",
    "\\end{array}\n",
    "$$\n",
    "\n",
    "where the numbers $a_{i,j}$ and $b_i$ are known coefficients, and $x_j$ are the variables. We can write the equation is matrix form as\n",
    "\n",
    "$$\n",
    "A \\mathbf{x} = \\mathbf{b}\n",
    "$$\n",
    "\n",
    "where\n",
    "\n",
    "$$\n",
    "A = \\begin{bmatrix}\n",
    "a_{0,0} & a_{0,1} & \\cdots & a_{0,n-1} \\\\\n",
    "a_{1,0} & a_{1,1} & \\cdots & a_{1,n-1} \\\\\n",
    "\\vdots & \\vdots & \\ddots & \\vdots \\\\\n",
    "a_{m-1,0} & a_{m-1,1} & \\cdots & a_{m-1,n-1} \\\\\n",
    "\\end{bmatrix}\n",
    "\\hspace{20mm}\n",
    "\\mathbf{b} = \\begin{bmatrix} b_0 \\\\ b_1 \\\\ \\vdots \\\\ b_{m-1} \\end{bmatrix}\n",
    "\\hspace{20mm}\n",
    "\\mathbf{x} = \\begin{bmatrix} x_0 \\\\ x_1 \\\\ \\vdots \\\\ x_{n-1} \\end{bmatrix}\n",
    "$$\n",
    "\n",
    "Combine the matrix $A$ and the vector $\\mathbf{b}$ to form the **augmented matrix**\n",
    "\n",
    "$$\n",
    "[ A \\ | \\ \\mathbf{b} ] = \\begin{bmatrix}\n",
    "a_{0,0} & a_{0,1} & \\cdots & a_{0,n-1} & b_0 \\\\\n",
    "a_{1,0} & a_{1,1} & \\cdots & a_{1,n-1} & b_1 \\\\\n",
    "\\vdots & \\vdots & \\ddots & \\vdots & \\vdots \\\\\n",
    "a_{m-1,0} & a_{m-1,1} & \\cdots & a_{m-1,n-1} & b_{m-1} \\\\\n",
    "\\end{bmatrix}\n",
    "$$"
   ]
  },
  {
   "cell_type": "markdown",
   "id": "1005a9d2-fa23-4ecc-b8e2-0cd415bbce17",
   "metadata": {},
   "source": [
    "## Elementary Row Operations\n",
    "\n",
    "There are three types of row operations:\n",
    "\n",
    "1. Add a multiple of one row to another\n",
    "2. Multiply a row by a scalar\n",
    "3. Switch rows\n",
    "\n",
    "Write a function called `add_row` which takes `A`, `c`, `i` and `j` and returns the matrix $B$ obtained from $A$ by adding $c$ times row $i$ to row $j$ in $A$."
   ]
  },
  {
   "cell_type": "code",
   "execution_count": 62,
   "id": "a5cc060f-9b31-41c7-9c57-b99c01a23601",
   "metadata": {
    "tags": []
   },
   "outputs": [],
   "source": [
    "def add_row(A,c,i,j):\n",
    "    B = A.astype(np.float64).copy() # Create a copy of the input matrix\n",
    "    B[j,:] = c*A[i,:] + A[j,:]\n",
    "    return B"
   ]
  },
  {
   "cell_type": "code",
   "execution_count": 63,
   "id": "3fa37717-1e78-4d60-9164-d8a77f7747e1",
   "metadata": {
    "tags": []
   },
   "outputs": [
    {
     "name": "stdout",
     "output_type": "stream",
     "text": [
      "[[ 1  2  3]\n",
      " [-2  2  2]]\n"
     ]
    }
   ],
   "source": [
    "A = np.array([[1,2,3],[-2,2,2]])\n",
    "print(A)"
   ]
  },
  {
   "cell_type": "code",
   "execution_count": 64,
   "id": "0dd1b0fa-8657-4e2a-95f6-4b0e51d65ed6",
   "metadata": {
    "tags": []
   },
   "outputs": [
    {
     "name": "stdout",
     "output_type": "stream",
     "text": [
      "[[1. 2. 3.]\n",
      " [0. 6. 8.]]\n"
     ]
    }
   ],
   "source": [
    "A1 = add_row(A,2,0,1)\n",
    "print(A1)"
   ]
  },
  {
   "cell_type": "markdown",
   "id": "55d3efbd-2bdc-413f-98d8-3b747c434db0",
   "metadata": {},
   "source": [
    "Write a function called `scale_row` which takes `A`, `c` and `i` and returns the matrix $B$ obtained from $A$ by multiplying $c$ times row $i$."
   ]
  },
  {
   "cell_type": "code",
   "execution_count": 65,
   "id": "c106b8dd-8d73-4c53-b401-c97b6b8fd6cb",
   "metadata": {
    "tags": []
   },
   "outputs": [],
   "source": [
    "def scale_row(A,c,i):\n",
    "    B = A.astype(np.float64).copy() # Create a copy of the input matrix\n",
    "    B[i,:] = c*A[i,:]\n",
    "    return B"
   ]
  },
  {
   "cell_type": "code",
   "execution_count": 66,
   "id": "c481e996-9b25-40dc-9b01-c60706d326c3",
   "metadata": {
    "tags": []
   },
   "outputs": [
    {
     "name": "stdout",
     "output_type": "stream",
     "text": [
      "[[1.         2.         3.        ]\n",
      " [0.         1.         1.33333333]]\n"
     ]
    }
   ],
   "source": [
    "A2 = scale_row(A1,1/6,1)\n",
    "print(A2)"
   ]
  },
  {
   "cell_type": "markdown",
   "id": "aea025d5-d1eb-43b0-b8bd-8c3a75701b1e",
   "metadata": {},
   "source": [
    "Write a function called `switch_rows` which takes `A`, `i` and `j` and returns the matrix $B$ obtained from $A$ by switching rows `i` and `j`."
   ]
  },
  {
   "cell_type": "code",
   "execution_count": 67,
   "id": "d9291dea-23bb-4844-8f07-d471df91aed2",
   "metadata": {
    "tags": []
   },
   "outputs": [],
   "source": [
    "def switch_rows(A,i,j):\n",
    "    B = A.astype(np.float64).copy() # Create a copy of the input matrix\n",
    "    B[i,:] = A[j,:]\n",
    "    B[j,:] = A[i,:]\n",
    "    return B"
   ]
  },
  {
   "cell_type": "code",
   "execution_count": 68,
   "id": "758b4503-eaf1-48ae-aeb7-001356cb2bb6",
   "metadata": {
    "tags": []
   },
   "outputs": [
    {
     "name": "stdout",
     "output_type": "stream",
     "text": [
      "[[ 0 -1]\n",
      " [ 1  0]]\n"
     ]
    }
   ],
   "source": [
    "A = np.array([[0,-1],[1,0]])\n",
    "print(A)"
   ]
  },
  {
   "cell_type": "code",
   "execution_count": 69,
   "id": "9b7d5d89-c872-43bf-80fc-cd3722184c76",
   "metadata": {
    "tags": []
   },
   "outputs": [
    {
     "data": {
      "text/plain": [
       "array([[ 1.,  0.],\n",
       "       [ 0., -1.]])"
      ]
     },
     "execution_count": 69,
     "metadata": {},
     "output_type": "execute_result"
    }
   ],
   "source": [
    "switch_rows(A,0,1)"
   ]
  },
  {
   "cell_type": "markdown",
   "id": "ccfe90aa-ed94-464f-824f-b3cf7696ba55",
   "metadata": {},
   "source": [
    "## Row Echelon Form\n",
    "\n",
    "A **pivot** is the first nonzero entry of a row of a matrix. A matrix is in **row echelon form** if:\n",
    "\n",
    "1. All zero rows are at the bottom.\n",
    "2. Each pivot is to the right of the pivot in each row above.\n",
    "3. All entries are zero below each pivot.\n",
    "\n",
    "A matrix is in **reduced row echelon form** if it is in row echelon form and:\n",
    "\n",
    "4. Each pivot is equal to 1.\n",
    "5. Each pivot is the only nonzero entry in its column.\n",
    "\n",
    "Apply elementary row operations to transform the following matrix into row echelon form:\n",
    "\n",
    "$$\n",
    "M = \\left[ \\begin{array}{rrrr} -2 & 1 & 0 & 1 \\\\ 1 & -2 & 1 & 1 \\\\ 0 & 1 & -2 & 1 \\end{array} \\right]\n",
    "$$"
   ]
  },
  {
   "cell_type": "code",
   "execution_count": 70,
   "id": "4943ceb5-68ce-4097-bb06-c2f47896fdbb",
   "metadata": {
    "tags": []
   },
   "outputs": [
    {
     "name": "stdout",
     "output_type": "stream",
     "text": [
      "[[-2  1  0  1]\n",
      " [ 1 -2  1  1]\n",
      " [ 0  1 -2  1]]\n"
     ]
    }
   ],
   "source": [
    "M = np.array([[-2,1,0,1],[1,-2,1,1],[0,1,-2,1]])\n",
    "print(M)"
   ]
  },
  {
   "cell_type": "code",
   "execution_count": 71,
   "id": "395c7f44-6b7f-4b41-adc3-91fb45a4bb2c",
   "metadata": {
    "tags": []
   },
   "outputs": [
    {
     "name": "stdout",
     "output_type": "stream",
     "text": [
      "[[-2.   1.   0.   1. ]\n",
      " [ 0.  -1.5  1.   1.5]\n",
      " [ 0.   1.  -2.   1. ]]\n"
     ]
    }
   ],
   "source": [
    "M1 = add_row(M,1/2,0,1)\n",
    "print(M1)"
   ]
  },
  {
   "cell_type": "code",
   "execution_count": 72,
   "id": "3da1a114-b5e7-4340-9ae8-91f9ad2f89fe",
   "metadata": {
    "tags": []
   },
   "outputs": [
    {
     "name": "stdout",
     "output_type": "stream",
     "text": [
      "[[-2.          1.          0.          1.        ]\n",
      " [ 0.         -1.5         1.          1.5       ]\n",
      " [ 0.          0.         -1.33333333  2.        ]]\n"
     ]
    }
   ],
   "source": [
    "M2 = add_row(M1,2/3,1,2)\n",
    "print(M2)"
   ]
  },
  {
   "cell_type": "markdown",
   "id": "2d2dc859-a6f0-44a5-b660-0d646aaa159d",
   "metadata": {},
   "source": [
    "Success! Now let's take it a few steps farther and compute the reduced row echelon form:"
   ]
  },
  {
   "cell_type": "code",
   "execution_count": 73,
   "id": "f1783968-6b21-47f3-8795-9d8d488718af",
   "metadata": {
    "tags": []
   },
   "outputs": [
    {
     "name": "stdout",
     "output_type": "stream",
     "text": [
      "[[ 1.         -0.5        -0.         -0.5       ]\n",
      " [ 0.         -1.5         1.          1.5       ]\n",
      " [ 0.          0.         -1.33333333  2.        ]]\n"
     ]
    }
   ],
   "source": [
    "M3 = scale_row(M2,-1/2,0)\n",
    "print(M3)"
   ]
  },
  {
   "cell_type": "code",
   "execution_count": 75,
   "id": "d9952895-f549-47ff-b2d0-fefe0b37eeae",
   "metadata": {
    "tags": []
   },
   "outputs": [
    {
     "name": "stdout",
     "output_type": "stream",
     "text": [
      "[[ 1.         -0.5        -0.         -0.5       ]\n",
      " [-0.          1.         -0.66666667 -1.        ]\n",
      " [ 0.          0.         -1.33333333  2.        ]]\n"
     ]
    }
   ],
   "source": [
    "M4 = scale_row(M3,-2/3,1)\n",
    "print(M4)"
   ]
  },
  {
   "cell_type": "code",
   "execution_count": 76,
   "id": "bf18b1b3-9bf9-4c77-a7ce-c0541ede7aa6",
   "metadata": {
    "tags": []
   },
   "outputs": [
    {
     "name": "stdout",
     "output_type": "stream",
     "text": [
      "[[ 1.          0.         -0.33333333 -1.        ]\n",
      " [-0.          1.         -0.66666667 -1.        ]\n",
      " [ 0.          0.         -1.33333333  2.        ]]\n"
     ]
    }
   ],
   "source": [
    "M5 = add_row(M4,1/2,1,0)\n",
    "print(M5)"
   ]
  },
  {
   "cell_type": "code",
   "execution_count": 77,
   "id": "3de41ffa-59c2-4b83-92ab-71044224fe17",
   "metadata": {
    "tags": []
   },
   "outputs": [
    {
     "name": "stdout",
     "output_type": "stream",
     "text": [
      "[[ 1.          0.         -0.33333333 -1.        ]\n",
      " [-0.          1.         -0.66666667 -1.        ]\n",
      " [-0.         -0.          1.         -1.5       ]]\n"
     ]
    }
   ],
   "source": [
    "M6 = scale_row(M5,-3/4,2)\n",
    "print(M6)"
   ]
  },
  {
   "cell_type": "code",
   "execution_count": 78,
   "id": "e90abba8-9ae3-4564-ae9d-5275d8ec0594",
   "metadata": {
    "tags": []
   },
   "outputs": [
    {
     "name": "stdout",
     "output_type": "stream",
     "text": [
      "[[ 1.          0.         -0.33333333 -1.        ]\n",
      " [-0.          1.          0.         -2.        ]\n",
      " [-0.         -0.          1.         -1.5       ]]\n"
     ]
    }
   ],
   "source": [
    "M7 = add_row(M6,2/3,2,1)\n",
    "print(M7)"
   ]
  },
  {
   "cell_type": "code",
   "execution_count": 79,
   "id": "767a82e6-fda0-4953-ab09-5bb976892c35",
   "metadata": {
    "tags": []
   },
   "outputs": [
    {
     "name": "stdout",
     "output_type": "stream",
     "text": [
      "[[ 1.   0.   0.  -1.5]\n",
      " [-0.   1.   0.  -2. ]\n",
      " [-0.  -0.   1.  -1.5]]\n"
     ]
    }
   ],
   "source": [
    "M8 = add_row(M7,1/3,2,0)\n",
    "print(M8)"
   ]
  },
  {
   "cell_type": "markdown",
   "id": "bac508b1-89d1-4385-b257-feb8c666424e",
   "metadata": {},
   "source": [
    "Success! In fact, we have cmputed the solution $\\mathbf{x}$ of the system $A \\mathbf{x} = \\mathbf{b}$ where\n",
    "\n",
    "$$\n",
    "A = \\left[ \\begin{array}{rrrr} -2 & 1 & 0 \\\\ 1 & -2 & 1 \\\\ 0 & 1 & -2 \\end{array} \\right]\n",
    "\\hspace{10mm}\n",
    "\\mathbf{b} = \\begin{bmatrix} 1 \\\\ 1 \\\\ 1 \\end{bmatrix}\n",
    "\\hspace{10mm}\n",
    "\\mathbf{x} = \\begin{bmatrix} -1.5 \\\\ -2 \\\\ -1.5 \\end{bmatrix}\n",
    "$$"
   ]
  },
  {
   "cell_type": "markdown",
   "id": "19f42306-6fe9-4f30-b329-f323c5fe36ca",
   "metadata": {},
   "source": [
    "## Computing Solutions with SciPy\n",
    "\n",
    "The function `scipy.linalg.solve` computes the unique solution of the system $A \\mathbf{x} = \\mathbf{b}$ for a nonsingular matrix $A$. See the [SciPy documentation](https://docs.scipy.org/doc/scipy/reference/generated/scipy.linalg.solve.html) for more information. For example, let's compute the solution of the example from the previous section."
   ]
  },
  {
   "cell_type": "code",
   "execution_count": 80,
   "id": "109aeae2-978d-4db9-8df3-109abe4cfbfd",
   "metadata": {
    "tags": []
   },
   "outputs": [
    {
     "name": "stdout",
     "output_type": "stream",
     "text": [
      "[[-2  1  0]\n",
      " [ 1 -2  1]\n",
      " [ 0  1 -2]]\n"
     ]
    }
   ],
   "source": [
    "A = np.array([[-2,1,0],[1,-2,1],[0,1,-2]])\n",
    "print(A)"
   ]
  },
  {
   "cell_type": "code",
   "execution_count": 81,
   "id": "14b18fb1-49c2-4dad-83dd-14d08db950f7",
   "metadata": {
    "tags": []
   },
   "outputs": [
    {
     "name": "stdout",
     "output_type": "stream",
     "text": [
      "[1 1 1]\n"
     ]
    }
   ],
   "source": [
    "b = np.array([1,1,1])\n",
    "print(b)"
   ]
  },
  {
   "cell_type": "code",
   "execution_count": 84,
   "id": "426392f1-3f5f-41bb-8f13-a68f77358456",
   "metadata": {
    "tags": []
   },
   "outputs": [
    {
     "name": "stdout",
     "output_type": "stream",
     "text": [
      "[-1.5 -2.  -1.5]\n"
     ]
    }
   ],
   "source": [
    "x = la.solve(A,b)\n",
    "print(x)"
   ]
  },
  {
   "cell_type": "markdown",
   "id": "b4f26bcc-4aaf-42be-9f01-d4a854e9a4e6",
   "metadata": {},
   "source": [
    ":::{seealso}\n",
    "Check out [Mathematical Python > Linear Algebra](https://patrickwalls.github.io/mathematicalpython/linear-algebra/solving-linear-systems/) for more about solving linear systems with Python.\n",
    ":::"
   ]
  }
 ],
 "metadata": {
  "kernelspec": {
   "display_name": "Python 3 (ipykernel)",
   "language": "python",
   "name": "python3"
  },
  "language_info": {
   "codemirror_mode": {
    "name": "ipython",
    "version": 3
   },
   "file_extension": ".py",
   "mimetype": "text/x-python",
   "name": "python",
   "nbconvert_exporter": "python",
   "pygments_lexer": "ipython3",
   "version": "3.10.12"
  }
 },
 "nbformat": 4,
 "nbformat_minor": 5
}
