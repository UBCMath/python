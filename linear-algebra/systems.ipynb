{
 "cells": [
  {
   "cell_type": "markdown",
   "id": "063f2ff0-cfe9-4795-b4a1-7d133a67ada3",
   "metadata": {},
   "source": [
    "# Systems of Linear Equations\n",
    "\n",
    "*Under construction*"
   ]
  }
 ],
 "metadata": {
  "kernelspec": {
   "display_name": "Python 3 (ipykernel)",
   "language": "python",
   "name": "python3"
  },
  "language_info": {
   "codemirror_mode": {
    "name": "ipython",
    "version": 3
   },
   "file_extension": ".py",
   "mimetype": "text/x-python",
   "name": "python",
   "nbconvert_exporter": "python",
   "pygments_lexer": "ipython3",
   "version": "3.10.12"
  }
 },
 "nbformat": 4,
 "nbformat_minor": 5
}
