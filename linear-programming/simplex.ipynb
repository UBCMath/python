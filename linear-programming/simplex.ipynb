{
 "cells": [
  {
   "cell_type": "markdown",
   "id": "2359bacd-d980-49cc-bcfa-f1a396b78887",
   "metadata": {},
   "source": [
    "# Simplex Method"
   ]
  },
  {
   "cell_type": "code",
   "execution_count": 1,
   "id": "5bc64bec-6057-41d2-943e-2e1d2cc69e4d",
   "metadata": {
    "tags": []
   },
   "outputs": [],
   "source": [
    "import numpy as np\n",
    "import matplotlib.pyplot as plt\n",
    "import scipy.linalg as la"
   ]
  },
  {
   "cell_type": "markdown",
   "id": "f95046df-011d-4803-9083-c481aab35442",
   "metadata": {},
   "source": [
    "## Standard Form\n",
    "\n",
    "The **standard form** of a linear optimization problem is:\n",
    "\n",
    "$$\n",
    "\\begin{array}{rc}\n",
    "\\text{maximize:} & \\mathbf{c}^T \\mathbf{x} \\\\\n",
    "\\text{subject to:} & A \\mathbf{x} \\leq \\mathbf{b} \\\\\n",
    "& \\mathbf{x} \\geq 0\n",
    "\\end{array}\n",
    "$$\n",
    "\n",
    "where:\n",
    "\n",
    "* $\\mathbf{x} \\in \\mathbb{R}^n$ is the vector of decision variables $x_0,\\dots,x_{n-1}$\n",
    "* $\\mathbf{c} \\in \\mathbb{R}^n$ defines the objective function $f(\\mathbf{x}) = \\mathbf{c}^T \\mathbf{x}$\n",
    "* $A$ is a $m \\times n$ matrix defining the coefficients of the linear constraint inequalities\n",
    "* $\\mathbf{b} \\in \\mathbb{R}^m$ defines the right side of the linear constraint inequalities\n",
    "\n",
    "Note: vector inequality $\\mathbf{u} \\leq \\mathbf{v}$ means $u_i \\leq v_i$ for each $i$."
   ]
  },
  {
   "cell_type": "markdown",
   "id": "648cfb20-289b-4aa7-8fc1-6d5029a9d8a5",
   "metadata": {},
   "source": [
    "The matrix equations above can be written explicitly as:\n",
    "\n",
    "$$\n",
    "\\begin{array}{rc}\n",
    "\\text{maximize:} & c_0x_0 + \\cdots + c_{n-1}x_{n-1} \\\\\n",
    "\\text{subject to:} & a_{0,0}x_0 + \\cdots + a_{0,n-1}x_{n-1} \\leq b_0 \\\\\n",
    "& a_{1,0}x_0 + \\cdots + a_{1,n-1}x_{n-1} \\leq b_1 \\\\\n",
    "& \\vdots \\\\\n",
    "& a_{m-1,0}x_0 + \\cdots + a_{m-1,n-1}x_{n-1} \\leq b_{m-1} \\\\\n",
    "& x_0 \\geq 0, \\dots , x_{n-1} \\geq 0\n",
    "\\end{array}\n",
    "$$\n",
    "\n",
    "Note: we use 0-indexing therefore vectors in $\\mathbb{R}^n$ begin at index 0\n",
    "\n",
    "$$\n",
    "\\mathbf{x} = \\begin{bmatrix} x_0 \\\\ x_1 \\\\ \\vdots \\\\ x_{n-1} \\end{bmatrix}\n",
    "$$"
   ]
  },
  {
   "cell_type": "markdown",
   "id": "946070fd-7718-49aa-9e9e-0d496f78eaad",
   "metadata": {},
   "source": [
    "## Feasible Solutions\n",
    "\n",
    "A vector $\\mathbf{x} \\in \\mathbb{R}^n$ is a **feasible solution** if it satisfies the constraints: $A \\mathbf{x} \\leq \\mathbf{b}$ and $\\mathbf{x} \\geq 0$. A feasible solution $\\mathbf{x} \\in \\mathbb{R}^n$ is **optimal** if $\\mathbf{c}^T \\mathbf{y} \\leq \\mathbf{c}^T \\mathbf{x}$ for all other feasible solutions $\\mathbf{y} \\in \\mathbb{R}^n$. A linear optimization problem is **infeasible** if there are no feasible solutions. A linear optimization problem is **unbounded** if the set of feasible solutions is unbounded.\n",
    "\n",
    "A set $S \\subset \\mathbb{R}^n$ is **convex** if for all $\\mathbf{x},\\mathbf{y} \\in S$ the line connecting $\\mathbf{x}$ and $\\mathbf{y}$ is also contained in $S$. The set of feasible solutions $S = \\{ \\mathbf{x} \\in \\mathbb{R}^n : A \\mathbf{x} \\leq \\mathbf{b} \\ , \\ \\mathbf{x} \\geq 0 \\}$ is a convex set. A **polytope** in $\\mathbb{R}^n$ is a bounded set such that the boundary consists of hyperplanes (of dimension n-1). A **vertex** of a polytope in $\\mathbb{R}^n$ is a point on the boundary which lies in the intersection of $n$ hyperplanes (of dimension n-1) on the boundary.\n",
    "\n",
    "*What's the point?!* The set of feasible solutions of a bounded linear optimization problem is a convex polytope and an optimal solution exists at a vertex."
   ]
  },
  {
   "cell_type": "markdown",
   "id": "f3ad8a82-e4e3-4361-87ee-c5bf7ea8530d",
   "metadata": {},
   "source": [
    "## Slack Variables\n",
    "\n",
    "Introduce **slack variables** $w_0,\\dots,w_{m-1}$ for each inequality constraint:\n",
    "\n",
    "$$\n",
    "\\begin{array}{rc}\n",
    "\\text{maximize:} & c_0x_0 + \\cdots + c_{n-1}x_{n-1} \\\\\n",
    "\\text{subject to:} & a_{0,0}x_0 + \\cdots + a_{0,n-1}x_{n-1} + w_0 = b_0 \\\\\n",
    "& a_{1,0}x_0 + \\cdots + a_{1,n-1}x_{n-1} + w_1 = b_1 \\\\\n",
    "& \\vdots \\\\\n",
    "& a_{m-1,0}x_0 + \\cdots + a_{m-1,n-1}x_{n-1} + w_{m-1} = b_{m-1} \\\\\n",
    "& x_0 \\geq 0, \\dots , x_{n-1} \\geq 0, w_0 \\geq 0, \\dots , w_{m-1} \\geq 0\n",
    "\\end{array}\n",
    "$$\n",
    "\n",
    "The equality constraints can be written in matrix notation:\n",
    "\n",
    "$$\n",
    "A \\mathbf{x} + I \\mathbf{w} = \\mathbf{b}\n",
    "$$\n",
    "\n",
    "Equivalently, we can write the equality constraints as matrix multiplication:\n",
    "\n",
    "$$\n",
    "[ \\ A \\ I \\ ] \\begin{bmatrix} \\mathbf{x} \\\\ \\mathbf{w} \\end{bmatrix} = \\mathbf{b}\n",
    "$$"
   ]
  },
  {
   "cell_type": "markdown",
   "id": "7ededd55-c1d3-4506-93ae-628b30829ee2",
   "metadata": {},
   "source": [
    "Let's make some obervations:\n",
    "\n",
    "* The equation $x_j = 0$ defines a hyperplane in $\\mathbb{R}^n$ for each $j$\n",
    "* The equation $w_i = 0$ defines the hyperplane $\\langle \\mathbf{a}_i, \\mathbf{x} \\rangle = b_i$ in $\\mathbb{R}^n$ for each $i$ (where $\\mathbf{a}_i$ is the $i$th row of $A$)\n",
    "* The slack variable $w_i$ is the \"distance\" to the constraint $\\langle \\mathbf{a}_i, \\mathbf{x} \\rangle = b_i$\n",
    "* The intersection of $n$ hyperplanes in $\\mathbb{R}^n$ defines a vertex on the boundary of the convex polytope of feasible solutions (or the intersection is empty or outside the feasible set)"
   ]
  },
  {
   "cell_type": "markdown",
   "id": "a447aad5-85a7-4e2a-b30c-33c6a7a4b375",
   "metadata": {},
   "source": [
    "## Basic Variables\n",
    "\n",
    "An optimal solution exists at a vertex therefore we want to systematically identify vertices:\n",
    "\n",
    "* Choose any $m$ variables from the list $x_0,\\dots,x_{n-1},w_0,\\dots,w_{m-1}$ and call them **basic variables**\n",
    "* The remaining $n$ variables are called **nonbasic variables**\n",
    "* Set all nonbasic variables to 0 and solve for *positive* values of basic variables (if possible)\n",
    "* The result $\\mathbf{x} = (x_0,\\dots,x_{n-1})^T$ is a vertex of the convex polytope of feasible solutions"
   ]
  },
  {
   "cell_type": "markdown",
   "id": "956b80b4-7dd9-4abf-871a-74e68709261a",
   "metadata": {},
   "source": [
    "## Tableau Matrix\n",
    "\n",
    "Construct the initial **tableau** matrix:\n",
    "\n",
    "$$\n",
    "T = \n",
    "\\begin{bmatrix}\n",
    "A & I & \\mathbf{b} \\\\\n",
    "\\mathbf{c}^T & 0 & 0\n",
    "\\end{bmatrix}\n",
    "$$\n",
    "\n",
    "This definition is different from other sources. The vector $\\mathbf{c}^T$ is in the bottom row so that the row indices of $T$ match the indices of the slack variables. For example, row 0 of $T$ corresponds to $w_0$, row 1 corresponds to $w_1$, etc."
   ]
  },
  {
   "cell_type": "code",
   "execution_count": 2,
   "id": "d95eedde-3aae-4366-8002-50484b9525c8",
   "metadata": {
    "tags": []
   },
   "outputs": [],
   "source": [
    "def tableau(A,b,c):\n",
    "    m,n = A.shape\n",
    "    I = np.eye(m)\n",
    "    T = np.vstack([ np.hstack([A,I,b.reshape((m,1))]) , np.hstack([c,np.zeros(m+1)]) ])\n",
    "    return T"
   ]
  },
  {
   "cell_type": "markdown",
   "id": "2f11ab45-3eb2-4f37-b5fd-1959e9035374",
   "metadata": {},
   "source": [
    "The **basic variables** correspond to the columns of $T$ which are columns of the identity matrix (in the first $m$ rows). In the initial tableau, the slack variables $w_0,\\dots,w_{m-1}$ are the basic variables and the decision variables $x_0,\\dots,x_{n-1}$ are the nonbasic variables. The corresponding vertex is $\\mathbf{x}=0$."
   ]
  },
  {
   "cell_type": "markdown",
   "id": "d43e4abe-e380-4c6d-a81e-38fae4e748c8",
   "metadata": {},
   "source": [
    "Let's do an example with the following $A$, $\\mathbf{b}$ and $\\mathbf{c}$:\n",
    "\n",
    "$$\n",
    "A = \\begin{bmatrix} 2 & 1 & 1 & 3 \\\\ 1 & 3 & 1 & 2 \\end{bmatrix}\n",
    "\\hspace{1in}\n",
    "\\mathbf{b} = \\begin{bmatrix} 5 \\\\ 3 \\end{bmatrix}\n",
    "\\hspace{1in}\n",
    "\\mathbf{c} = \\begin{bmatrix} 6 \\\\ 8 \\\\ 5 \\\\ 9 \\end{bmatrix}\n",
    "$$"
   ]
  },
  {
   "cell_type": "code",
   "execution_count": 3,
   "id": "a72d3b34-f402-489d-b9df-0ba36e55e61d",
   "metadata": {},
   "outputs": [
    {
     "name": "stdout",
     "output_type": "stream",
     "text": [
      "[[2. 1. 1. 3. 1. 0. 5.]\n",
      " [1. 3. 1. 2. 0. 1. 3.]\n",
      " [6. 8. 5. 9. 0. 0. 0.]]\n"
     ]
    }
   ],
   "source": [
    "A = np.array([[2.,1.,1.,3.],[1.,3.,1.,2.]])\n",
    "c = np.array([6.,8.,5.,9.])\n",
    "b = np.array([5.,3.])\n",
    "T = tableau(A,b,c)\n",
    "print(T)"
   ]
  },
  {
   "cell_type": "markdown",
   "id": "9f7369e1-25bc-41e0-bc87-818cee2b2692",
   "metadata": {},
   "source": [
    "## Pivot Operation\n",
    "\n",
    "We want to move to an adjacent vertex by selecting a new basic variable (the **entering variable**) and removing an existing basic variable (the **leaving variable**).\n",
    "\n",
    "We choose the entering and leaving variables such that:\n",
    "\n",
    "* The value of the objective function increases.\n",
    "* The new list of basic variables defines a vertex. In other words, the values of the basic variables (with nonbasic variables set to 0) are all *positive*."
   ]
  },
  {
   "cell_type": "markdown",
   "id": "f02a6ff6-62c3-4b51-b8d0-1fa05374fdb2",
   "metadata": {},
   "source": [
    "How do we do this? Choose the entering variable such that it has a positive coefficient in the objective function. That is, choose a column with a positive value in the last row. Increasing the value of this variable will increase the value of the objective function.\n",
    "\n",
    "Choose the leaving variable such that the values of the basic variables (with nonbasic variables set to 0) are all positive. To do this, let $k$ be the column index of the entering variable. Look at the ratios\n",
    "\n",
    "$$\n",
    "\\frac{t_{i,n+m}}{t_{i,k}} \\ , \\ i = 0,\\dots,m-1\n",
    "$$\n",
    "\n",
    "where $t_{i,n+m}$ are the entries in the last column of $T$, and $t_{i,k}$ are the entries in the $k$th column of $T$. Select row $i$ such that this ratio is postive and minimal."
   ]
  },
  {
   "cell_type": "markdown",
   "id": "cd24ad10-b296-4439-af5a-26d93c824117",
   "metadata": {},
   "source": [
    "Let $k$ be the column index of the entering variable. Let $\\ell$ be the row index of the leaving variable. The pivot operation applies row operations to the tableau $T$ such that column $k$ has 1 in row $\\ell$ and all other entries 0. The last column of the tableau should always have positive entries in rows $0,\\dots,m-1$."
   ]
  },
  {
   "cell_type": "markdown",
   "id": "e4a17bc7-a617-421d-b180-225add01c0c0",
   "metadata": {},
   "source": [
    "## Simplex Method \n",
    "\n",
    "Let $A$ be an $m \\times n$ matrix, $\\mathbf{b} \\in \\mathbb{R}^m$ and $\\mathbf{c} \\in \\mathbb{R}^n$. Consider the linear optimization problem: maximize $\\mathbf{c}^T \\mathbf{x}$ subject to $A \\mathbf{x} \\leq \\mathbf{b}$, $\\mathbf{x} \\geq 0$.\n",
    "\n",
    "The **simplex algorithm** is:\n",
    "\n",
    "* Phase I: Find any vertex\n",
    "    * If $\\mathbf{b} \\geq 0$ then choose $\\mathbf{x} = 0$.\n",
    "    * Otherwise, solve initialization problem.\n",
    "* Phase II: Move from vertex to vertex to increase the value of objective function\n",
    "    * Identify entering and leaving variables.\n",
    "    * Perform pivot operation.\n",
    "    * Repeat!"
   ]
  },
  {
   "cell_type": "markdown",
   "id": "4912b214-cdd7-4f74-a528-7d37c1043c61",
   "metadata": {},
   "source": [
    "## Implementation\n",
    "\n",
    "Write a function called `pivot` which takes a tableau matrix $T$ and indices `k` and `l`. The function performs the pivot operation on $T$ and returns the new tableau matrix."
   ]
  },
  {
   "cell_type": "code",
   "execution_count": 4,
   "id": "0d6c5889-bd07-45e3-a33a-36d337bfd700",
   "metadata": {},
   "outputs": [],
   "source": [
    "def pivot(T,k,l):\n",
    "    E = np.eye(T.shape[0])\n",
    "    E[:,l] = -T[:,k]/T[l,k]\n",
    "    E[l,l] = 1/T[l,k]\n",
    "    return E@T"
   ]
  },
  {
   "cell_type": "markdown",
   "id": "cce1433b-0474-4253-836a-8922b58996ad",
   "metadata": {},
   "source": [
    "Let's do an example with the following $A$, $\\mathbf{b}$ and $\\mathbf{c}$:\n",
    "\n",
    "$$\n",
    "A = \\begin{bmatrix} 2 & 1 & 1 & 3 \\\\ 1 & 3 & 1 & 2 \\end{bmatrix}\n",
    "\\hspace{1in}\n",
    "\\mathbf{b} = \\begin{bmatrix} 5 \\\\ 3 \\end{bmatrix}\n",
    "\\hspace{1in}\n",
    "\\mathbf{c} = \\begin{bmatrix} 6 \\\\ 8 \\\\ 5 \\\\ 9 \\end{bmatrix}\n",
    "$$"
   ]
  },
  {
   "cell_type": "code",
   "execution_count": 5,
   "id": "66b9f904-4743-4e4a-b48e-71d31808a383",
   "metadata": {},
   "outputs": [
    {
     "name": "stdout",
     "output_type": "stream",
     "text": [
      "[[2. 1. 1. 3. 1. 0. 5.]\n",
      " [1. 3. 1. 2. 0. 1. 3.]\n",
      " [6. 8. 5. 9. 0. 0. 0.]]\n"
     ]
    }
   ],
   "source": [
    "A = np.array([[2.,1.,1.,3.],[1.,3.,1.,2.]])\n",
    "c = np.array([6.,8.,5.,9.])\n",
    "b = np.array([5.,3.])\n",
    "T = tableau(A,b,c)\n",
    "print(T)"
   ]
  },
  {
   "cell_type": "markdown",
   "id": "4c74c2c8-b02f-472d-a652-aa4faeb50ee0",
   "metadata": {},
   "source": [
    "We see that column $k=3$ has the largest positive entry in the last row. Look at the ratios $\\frac{t_{0,6}}{t_{0,3}}=5/3$ and $\\frac{t_{1,6}}{t_{1,3}}=2/3$. Since the ratio for $i=1$ is positive and minimal we choose $\\ell=1$."
   ]
  },
  {
   "cell_type": "code",
   "execution_count": 6,
   "id": "483aae7c-1fdd-46ee-bfb6-f6273964bad7",
   "metadata": {},
   "outputs": [
    {
     "name": "stdout",
     "output_type": "stream",
     "text": [
      "[[  0.5  -3.5  -0.5   0.    1.   -1.5   0.5]\n",
      " [  0.5   1.5   0.5   1.    0.    0.5   1.5]\n",
      " [  1.5  -5.5   0.5   0.    0.   -4.5 -13.5]]\n"
     ]
    }
   ],
   "source": [
    "T1 = pivot(T,3,1)\n",
    "print(T1)"
   ]
  },
  {
   "cell_type": "markdown",
   "id": "4a641ead-9c8e-4217-a638-fc3253b364fd",
   "metadata": {},
   "source": [
    "Repeat!"
   ]
  },
  {
   "cell_type": "code",
   "execution_count": 7,
   "id": "ebb454d5-b289-42ab-b725-32f69625af89",
   "metadata": {},
   "outputs": [
    {
     "name": "stdout",
     "output_type": "stream",
     "text": [
      "[[  1.  -7.  -1.   0.   2.  -3.   1.]\n",
      " [  0.   5.   1.   1.  -1.   2.   1.]\n",
      " [  0.   5.   2.   0.  -3.   0. -15.]]\n"
     ]
    }
   ],
   "source": [
    "T2 = pivot(T1,0,0)\n",
    "print(T2)"
   ]
  },
  {
   "cell_type": "code",
   "execution_count": 8,
   "id": "9e73178d-4b23-4a40-abf6-11da10b49698",
   "metadata": {},
   "outputs": [
    {
     "name": "stdout",
     "output_type": "stream",
     "text": [
      "[[  1.    0.    0.4   1.4   0.6  -0.2   2.4]\n",
      " [  0.    1.    0.2   0.2  -0.2   0.4   0.2]\n",
      " [  0.    0.    1.   -1.   -2.   -2.  -16. ]]\n"
     ]
    }
   ],
   "source": [
    "T3 = pivot(T2,1,1)\n",
    "print(T3)"
   ]
  },
  {
   "cell_type": "code",
   "execution_count": 9,
   "id": "040cca57-ae68-487e-ba54-84a65b957a60",
   "metadata": {},
   "outputs": [
    {
     "name": "stdout",
     "output_type": "stream",
     "text": [
      "[[  1.  -2.   0.   1.   1.  -1.   2.]\n",
      " [  0.   5.   1.   1.  -1.   2.   1.]\n",
      " [  0.  -5.   0.  -2.  -1.  -4. -17.]]\n"
     ]
    }
   ],
   "source": [
    "T4 = pivot(T3,2,1)\n",
    "print(T4)"
   ]
  },
  {
   "cell_type": "markdown",
   "id": "e69e98fb-7257-490a-8452-96f5b2ec2d8a",
   "metadata": {},
   "source": [
    "All the entries in the bottom row are negative therefore we have arrived! The optimal value is $17$ and occurs at $\\mathbf{x} = (2,0,1,0)$."
   ]
  },
  {
   "cell_type": "markdown",
   "id": "b8c4c001-51cf-4c91-aadc-566b82faccab",
   "metadata": {},
   "source": [
    "Let's try another example:\n",
    "\n",
    "$$\n",
    "A = \\left[ \\begin{array}{rrr} 0 & 2 & 3 \\\\ 1 & 1 & 2 \\\\ 1 & 2 & 3 \\\\  \\end{array} \\right]\n",
    "\\hspace{1in}\n",
    "\\mathbf{b} = \\left[ \\begin{array}{r} 5 \\\\ 4 \\\\ 7 \\end{array} \\right]\n",
    "\\hspace{1in}\n",
    "\\mathbf{c} = \\left[ \\begin{array}{r} 2 \\\\ 3 \\\\ 4 \\end{array} \\right]\n",
    "$$"
   ]
  },
  {
   "cell_type": "code",
   "execution_count": 10,
   "id": "21945e3a-2c9b-48cf-ba7e-943dabe68253",
   "metadata": {
    "tags": []
   },
   "outputs": [],
   "source": [
    "A = np.array([[0,2,3],[1,1,2],[1,2,3]])\n",
    "b = np.array([5,4,7])\n",
    "c = np.array([2,3,4])\n",
    "T = tableau(A,b,c)"
   ]
  },
  {
   "cell_type": "code",
   "execution_count": 11,
   "id": "802a7e67-b8c3-484f-b1c0-d5b45dfd2102",
   "metadata": {
    "tags": []
   },
   "outputs": [
    {
     "data": {
      "text/plain": [
       "array([[0., 2., 3., 1., 0., 0., 5.],\n",
       "       [1., 1., 2., 0., 1., 0., 4.],\n",
       "       [1., 2., 3., 0., 0., 1., 7.],\n",
       "       [2., 3., 4., 0., 0., 0., 0.]])"
      ]
     },
     "execution_count": 11,
     "metadata": {},
     "output_type": "execute_result"
    }
   ],
   "source": [
    "T"
   ]
  },
  {
   "cell_type": "code",
   "execution_count": 12,
   "id": "67fc875e-3a33-43f2-bc87-c8c593b7cf38",
   "metadata": {
    "tags": []
   },
   "outputs": [
    {
     "data": {
      "text/plain": [
       "array([[ 0.  ,  0.67,  1.  ,  0.33,  0.  ,  0.  ,  1.67],\n",
       "       [ 1.  , -0.33,  0.  , -0.67,  1.  ,  0.  ,  0.67],\n",
       "       [ 1.  ,  0.  ,  0.  , -1.  ,  0.  ,  1.  ,  2.  ],\n",
       "       [ 2.  ,  0.33,  0.  , -1.33,  0.  ,  0.  , -6.67]])"
      ]
     },
     "execution_count": 12,
     "metadata": {},
     "output_type": "execute_result"
    }
   ],
   "source": [
    "T1 = pivot(T,2,0)\n",
    "T1.round(2)"
   ]
  },
  {
   "cell_type": "code",
   "execution_count": 13,
   "id": "2684b58a-3587-4eae-aa9c-01d2769f3a1d",
   "metadata": {
    "tags": []
   },
   "outputs": [
    {
     "data": {
      "text/plain": [
       "array([[ 0.  ,  0.67,  1.  ,  0.33,  0.  ,  0.  ,  1.67],\n",
       "       [ 1.  , -0.33,  0.  , -0.67,  1.  ,  0.  ,  0.67],\n",
       "       [ 0.  ,  0.33,  0.  , -0.33, -1.  ,  1.  ,  1.33],\n",
       "       [ 0.  ,  1.  ,  0.  ,  0.  , -2.  ,  0.  , -8.  ]])"
      ]
     },
     "execution_count": 13,
     "metadata": {},
     "output_type": "execute_result"
    }
   ],
   "source": [
    "T2 = pivot(T1,0,1)\n",
    "T2.round(2)"
   ]
  },
  {
   "cell_type": "code",
   "execution_count": 14,
   "id": "c20bda9a-4d19-4d5b-adf2-ff4006b5154c",
   "metadata": {
    "tags": []
   },
   "outputs": [
    {
     "data": {
      "text/plain": [
       "array([[  0. ,   1. ,   1.5,   0.5,   0. ,   0. ,   2.5],\n",
       "       [  1. ,   0. ,   0.5,  -0.5,   1. ,   0. ,   1.5],\n",
       "       [  0. ,   0. ,  -0.5,  -0.5,  -1. ,   1. ,   0.5],\n",
       "       [  0. ,   0. ,  -1.5,  -0.5,  -2. ,   0. , -10.5]])"
      ]
     },
     "execution_count": 14,
     "metadata": {},
     "output_type": "execute_result"
    }
   ],
   "source": [
    "T3 = pivot(T2,1,0)\n",
    "T3.round(2)"
   ]
  },
  {
   "cell_type": "markdown",
   "id": "6769b1e6-f445-4cfc-94a7-eb172be3fe15",
   "metadata": {},
   "source": [
    "Optimial value $10.5$ occurs at $\\mathbf{x} = (1.5,2.5,0.0)$."
   ]
  },
  {
   "cell_type": "markdown",
   "id": "daf1a7e7-6617-482a-90f4-c2fe8238db3a",
   "metadata": {},
   "source": [
    "## Initialization\n",
    "\n",
    "If $\\mathbf{b}$ has negative entries then $\\mathbf{x} = 0$ is not a feasible solution. The initialization process simply adds a scalar $y$ to each constraint to define the **auxiliary problem**:\n",
    "\n",
    "$$\n",
    "\\begin{array}{rc}\n",
    "\\text{maximize:} & -y \\\\\n",
    "\\text{subject to:} & a_{0,0}x_0 + \\cdots + a_{0,n-1}x_{n-1} - y \\leq b_0 \\\\\n",
    "& a_{1,0}x_0 + \\cdots + a_{1,n-1}x_{n-1} - y \\leq b_1 \\\\\n",
    "& \\vdots \\\\\n",
    "& a_{m-1,0}x_0 + \\cdots + a_{m-1,n-1}x_{n-1} - y \\leq b_{m-1} \\\\\n",
    "& y \\geq 0, x_0 \\geq 0, \\dots , x_{n-1} \\geq 0, w_0 \\geq 0, \\dots , w_{m-1} \\geq 0\n",
    "\\end{array}\n",
    "$$\n",
    "\n",
    "You can think of $y$ as moving each constraint towards the origin. The solution of the auxiliary problem finds a vertex \"nearest\" to the origin. When the auxiliary problem is solved, drop variable $y$ and the result is a vertex of the original problem. Proceed to Phase II."
   ]
  },
  {
   "cell_type": "markdown",
   "id": "96b2eef7-82b6-47cd-922d-f3d9f28bba85",
   "metadata": {},
   "source": [
    "Let's try the following example:\n",
    "\n",
    "$$\n",
    "A = \\left[ \\begin{array}{rrr} -1 & -1 & -1 \\\\ 2 & -1 & 1 \\end{array} \\right]\n",
    "\\hspace{1in}\n",
    "\\mathbf{b} = \\left[ \\begin{array}{r} -2 \\\\ 1 \\end{array} \\right]\n",
    "\\hspace{1in}\n",
    "\\mathbf{c} = \\left[ \\begin{array}{r} 2 \\\\ -6 \\\\ 0 \\end{array} \\right]\n",
    "$$"
   ]
  },
  {
   "cell_type": "markdown",
   "id": "6fe01ae4-c476-46f1-9620-1dd21e2c91b9",
   "metadata": {},
   "source": [
    "Append column to $A$ for variable $y$ and construct the tableau."
   ]
  },
  {
   "cell_type": "code",
   "execution_count": 15,
   "id": "9fae5f57-12c9-4098-9685-14070aa68a65",
   "metadata": {
    "tags": []
   },
   "outputs": [
    {
     "name": "stdout",
     "output_type": "stream",
     "text": [
      "[[-1. -1. -1. -1.  1.  0. -2.]\n",
      " [ 2. -1.  1. -1.  0.  1.  1.]\n",
      " [ 0.  0.  0. -1.  0.  0.  0.]]\n"
     ]
    }
   ],
   "source": [
    "Ax = np.array([[-1,-1,-1,-1],[2,-1,1,-1]])\n",
    "bx = np.array([-2,1])\n",
    "cx = np.array([0,0,0,-1])\n",
    "Tx = tableau(Ax,bx,cx)\n",
    "print(Tx)"
   ]
  },
  {
   "cell_type": "markdown",
   "id": "70294457-5e86-4d33-a713-f8714e16ce3a",
   "metadata": {},
   "source": [
    "Apply pivot operations to solve:"
   ]
  },
  {
   "cell_type": "code",
   "execution_count": 16,
   "id": "eed5391b-5b48-4802-a6cf-c737d575c523",
   "metadata": {
    "tags": []
   },
   "outputs": [
    {
     "data": {
      "text/plain": [
       "array([[ 1.,  1.,  1.,  1., -1.,  0.,  2.],\n",
       "       [ 3.,  0.,  2.,  0., -1.,  1.,  3.],\n",
       "       [ 1.,  1.,  1.,  0., -1.,  0.,  2.]])"
      ]
     },
     "execution_count": 16,
     "metadata": {},
     "output_type": "execute_result"
    }
   ],
   "source": [
    "Tx1 = pivot(Tx,3,0)\n",
    "Tx1"
   ]
  },
  {
   "cell_type": "code",
   "execution_count": 17,
   "id": "fb9942b6-4a62-4ef4-847c-ec5aee008b19",
   "metadata": {
    "tags": []
   },
   "outputs": [
    {
     "data": {
      "text/plain": [
       "array([[ 0.  ,  1.  ,  0.33,  1.  , -0.67, -0.33,  1.  ],\n",
       "       [ 1.  ,  0.  ,  0.67,  0.  , -0.33,  0.33,  1.  ],\n",
       "       [ 0.  ,  1.  ,  0.33,  0.  , -0.67, -0.33,  1.  ]])"
      ]
     },
     "execution_count": 17,
     "metadata": {},
     "output_type": "execute_result"
    }
   ],
   "source": [
    "Tx2 = pivot(Tx1,0,1)\n",
    "Tx2.round(2)"
   ]
  },
  {
   "cell_type": "code",
   "execution_count": 18,
   "id": "9a165e9d-d42f-4d4f-af66-5298a3bba534",
   "metadata": {
    "tags": []
   },
   "outputs": [
    {
     "data": {
      "text/plain": [
       "array([[ 0.  ,  1.  ,  0.33,  1.  , -0.67, -0.33,  1.  ],\n",
       "       [ 1.  ,  0.  ,  0.67,  0.  , -0.33,  0.33,  1.  ],\n",
       "       [ 0.  ,  0.  ,  0.  , -1.  ,  0.  ,  0.  ,  0.  ]])"
      ]
     },
     "execution_count": 18,
     "metadata": {},
     "output_type": "execute_result"
    }
   ],
   "source": [
    "Tx3 = pivot(Tx2,1,0)\n",
    "Tx3.round(2)"
   ]
  },
  {
   "cell_type": "markdown",
   "id": "2a14f0a5-88e4-4401-8f51-ed77e4cf597d",
   "metadata": {},
   "source": [
    "Found solution $\\mathbf{x} = (1,1,0)$ and $y=0$. Now setup the tableau for the original problem:"
   ]
  },
  {
   "cell_type": "code",
   "execution_count": 19,
   "id": "ad7fb5aa-3e30-4005-a22d-8f734ab83646",
   "metadata": {
    "tags": []
   },
   "outputs": [
    {
     "name": "stdout",
     "output_type": "stream",
     "text": [
      "[[-1. -1. -1.  1.  0. -2.]\n",
      " [ 2. -1.  1.  0.  1.  1.]\n",
      " [ 2. -6.  0.  0.  0.  0.]]\n"
     ]
    }
   ],
   "source": [
    "A = np.array([[-1,-1,-1],[2,-1,1]])\n",
    "b = np.array([-2,1])\n",
    "c = np.array([2,-6,0])\n",
    "T = tableau(A,b,c)\n",
    "print(T)"
   ]
  },
  {
   "cell_type": "markdown",
   "id": "c80784f4-8872-4d78-8293-015ebfa58e24",
   "metadata": {},
   "source": [
    "The solution of the initializatin problem tells us that we want to start with $x_0$ and $x_1$ as basic variables."
   ]
  },
  {
   "cell_type": "code",
   "execution_count": 20,
   "id": "90dec483-f85d-4382-b205-dcf36a74e873",
   "metadata": {},
   "outputs": [
    {
     "data": {
      "text/plain": [
       "array([[ 0. , -1.5, -0.5,  1. ,  0.5, -1.5],\n",
       "       [ 1. , -0.5,  0.5,  0. ,  0.5,  0.5],\n",
       "       [ 0. , -5. , -1. ,  0. , -1. , -1. ]])"
      ]
     },
     "execution_count": 20,
     "metadata": {},
     "output_type": "execute_result"
    }
   ],
   "source": [
    "T1 = pivot(T,0,1)\n",
    "T1.round(2)"
   ]
  },
  {
   "cell_type": "code",
   "execution_count": 21,
   "id": "e652fb23-c2a1-46f3-81aa-5077e01ed236",
   "metadata": {},
   "outputs": [
    {
     "data": {
      "text/plain": [
       "array([[ 0.  ,  1.  ,  0.33, -0.67, -0.33,  1.  ],\n",
       "       [ 1.  ,  0.  ,  0.67, -0.33,  0.33,  1.  ],\n",
       "       [ 0.  ,  0.  ,  0.67, -3.33, -2.67,  4.  ]])"
      ]
     },
     "execution_count": 21,
     "metadata": {},
     "output_type": "execute_result"
    }
   ],
   "source": [
    "T2 = pivot(T1,1,0)\n",
    "T2.round(2)"
   ]
  },
  {
   "cell_type": "markdown",
   "id": "024d9228-1038-4905-9d99-67a26e687d39",
   "metadata": {},
   "source": [
    "This is a feasible solution. Apply simplex method."
   ]
  },
  {
   "cell_type": "code",
   "execution_count": 22,
   "id": "9c2d9326-ffc8-451e-9ca3-f0b6945ef81a",
   "metadata": {
    "tags": []
   },
   "outputs": [
    {
     "data": {
      "text/plain": [
       "array([[-0.5,  1. ,  0. , -0.5, -0.5,  0.5],\n",
       "       [ 1.5,  0. ,  1. , -0.5,  0.5,  1.5],\n",
       "       [-1. ,  0. ,  0. , -3. , -3. ,  3. ]])"
      ]
     },
     "execution_count": 22,
     "metadata": {},
     "output_type": "execute_result"
    }
   ],
   "source": [
    "T3 = pivot(T2,2,1)\n",
    "T3.round(2)"
   ]
  },
  {
   "cell_type": "markdown",
   "id": "097bddad-d13c-49b7-884f-7ff798b247de",
   "metadata": {},
   "source": [
    "Soluiton is $\\mathbf{x} = (0,0.5,1.5)$ with $\\mathbf{c}^T \\mathbf{x} = -3$."
   ]
  }
 ],
 "metadata": {
  "kernelspec": {
   "display_name": "Python 3 (ipykernel)",
   "language": "python",
   "name": "python3"
  },
  "language_info": {
   "codemirror_mode": {
    "name": "ipython",
    "version": 3
   },
   "file_extension": ".py",
   "mimetype": "text/x-python",
   "name": "python",
   "nbconvert_exporter": "python",
   "pygments_lexer": "ipython3",
   "version": "3.10.12"
  }
 },
 "nbformat": 4,
 "nbformat_minor": 5
}
