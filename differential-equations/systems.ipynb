{
 "cells": [
  {
   "cell_type": "markdown",
   "id": "dee8e288-9d02-4d70-a08f-cd7e131781d8",
   "metadata": {},
   "source": [
    "# Systems of Differential Equations\n",
    "\n",
    "*Under construction*"
   ]
  }
 ],
 "metadata": {
  "kernelspec": {
   "display_name": "Python 3 (ipykernel)",
   "language": "python",
   "name": "python3"
  },
  "language_info": {
   "codemirror_mode": {
    "name": "ipython",
    "version": 3
   },
   "file_extension": ".py",
   "mimetype": "text/x-python",
   "name": "python",
   "nbconvert_exporter": "python",
   "pygments_lexer": "ipython3",
   "version": "3.10.12"
  }
 },
 "nbformat": 4,
 "nbformat_minor": 5
}
