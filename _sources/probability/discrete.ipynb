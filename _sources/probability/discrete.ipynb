{
 "cells": [
  {
   "cell_type": "markdown",
   "id": "26d66fcd-23ba-44a8-976f-f2fa0261ead6",
   "metadata": {},
   "source": [
    "# Discrete Distributions"
   ]
  },
  {
   "cell_type": "code",
   "execution_count": 1,
   "id": "8f2a88d6-4e54-4b80-a89c-d2b90281e79c",
   "metadata": {
    "tags": []
   },
   "outputs": [],
   "source": [
    "import numpy as np\n",
    "import matplotlib.pyplot as plt\n",
    "import scipy.special as sp"
   ]
  },
  {
   "cell_type": "markdown",
   "id": "20ca4c2c-bf8f-4cf6-955d-6d9ad0f141fa",
   "metadata": {},
   "source": [
    "## Binomial Coefficient\n",
    "\n",
    "The Python package `scipy.special` includes the function `scipy.special.factorial` to compute the factorial\n",
    "\n",
    "$$\n",
    "n! = n(n-1)(n-2) \\cdots (2)(1)\n",
    "$$\n",
    "\n",
    "and the function `scipy.special.comb` to compute the [binomial coefficient](https://en.wikipedia.org/wiki/Binomial_coefficient)\n",
    "\n",
    "$$\n",
    "{ n \\choose k } = \\frac{n!}{k!(n-k)!}\n",
    "$$\n",
    "\n",
    "The binomial coefficient ${n \\choose k}$ is the number of combinations of $k$ elements chosen from a set of $n$ elements."
   ]
  },
  {
   "cell_type": "markdown",
   "id": "7237b222-32b0-48b8-bf12-7a75d290d8da",
   "metadata": {},
   "source": [
    "For example, compute $7!$:"
   ]
  },
  {
   "cell_type": "code",
   "execution_count": 2,
   "id": "fa0dff29-42d8-4d88-b4d9-403a86406264",
   "metadata": {
    "tags": []
   },
   "outputs": [
    {
     "data": {
      "text/plain": [
       "5040.0"
      ]
     },
     "execution_count": 2,
     "metadata": {},
     "output_type": "execute_result"
    }
   ],
   "source": [
    "sp.factorial(7)"
   ]
  },
  {
   "cell_type": "markdown",
   "id": "ba4fe17f-ca67-4c5f-8e93-d4f5dff6ac88",
   "metadata": {},
   "source": [
    "Compute ${5 \\choose 2}$:"
   ]
  },
  {
   "cell_type": "code",
   "execution_count": 3,
   "id": "93bbaee5-c906-445f-a3e5-ca28d63bcc50",
   "metadata": {
    "tags": []
   },
   "outputs": [
    {
     "data": {
      "text/plain": [
       "10.0"
      ]
     },
     "execution_count": 3,
     "metadata": {},
     "output_type": "execute_result"
    }
   ],
   "source": [
    "sp.comb(5,2)"
   ]
  },
  {
   "cell_type": "markdown",
   "id": "7d8ec417-c517-4903-91ba-dc2df800690d",
   "metadata": {},
   "source": [
    "Compute ${5 \\choose 2}$ using the formula $\\frac{5!}{2!(5-2)!}$:"
   ]
  },
  {
   "cell_type": "code",
   "execution_count": 4,
   "id": "c8a2a6c6-64aa-4ebd-abef-d3495e366df9",
   "metadata": {
    "tags": []
   },
   "outputs": [
    {
     "data": {
      "text/plain": [
       "10.0"
      ]
     },
     "execution_count": 4,
     "metadata": {},
     "output_type": "execute_result"
    }
   ],
   "source": [
    "sp.factorial(5)/(sp.factorial(5-2)*sp.factorial(2))"
   ]
  },
  {
   "cell_type": "markdown",
   "id": "b5b5c1b5-517b-4181-9c08-4cecaf55666c",
   "metadata": {},
   "source": [
    "Let's plot the binomial coefficient (for fixed `n`) as a function of `k`."
   ]
  },
  {
   "cell_type": "code",
   "execution_count": 5,
   "id": "78fb0e1c-debe-4b32-93e6-709eb564e72d",
   "metadata": {
    "tags": []
   },
   "outputs": [
    {
     "data": {
      "image/png": "[encoded data removed]",
      "text/plain": [
       "<Figure size 640x480 with 1 Axes>"
      ]
     },
     "metadata": {},
     "output_type": "display_data"
    }
   ],
   "source": [
    "n = 10\n",
    "k = np.arange(0,n+1)\n",
    "b = sp.comb(n,k)\n",
    "plt.bar(k,b)\n",
    "plt.show()"
   ]
  },
  {
   "cell_type": "markdown",
   "id": "10cd4794-1a9e-48e1-a508-695d530d763e",
   "metadata": {},
   "source": [
    "Look at the array of binomial coefficients:"
   ]
  },
  {
   "cell_type": "code",
   "execution_count": 6,
   "id": "1e7595c0-7048-4001-b46b-2d87e600d037",
   "metadata": {
    "tags": []
   },
   "outputs": [
    {
     "name": "stdout",
     "output_type": "stream",
     "text": [
      "[  1.  10.  45. 120. 210. 252. 210. 120.  45.  10.   1.]\n"
     ]
    }
   ],
   "source": [
    "print(b)"
   ]
  },
  {
   "cell_type": "markdown",
   "id": "ae04695c-f239-44de-aaaf-09271f814ddc",
   "metadata": {},
   "source": [
    "## Random Sampling\n",
    "\n",
    "The Python package NumPy contains a subpackage `numpy.random` which includes functions to generate random numbers. For example, the function `np.random.randint(a,b,size=(n,m))` generates a $n \\times m$ matrix of integers sampled from the half-closed interval $[a,b)$ with equal probability."
   ]
  },
  {
   "cell_type": "markdown",
   "id": "593e3f63-3431-46a6-bd19-6b613ae5da95",
   "metadata": {},
   "source": [
    "### Flipping Coins\n",
    "\n",
    "Simulate flipping 2 coins 5 times (where tails is 0 and heads is 1):"
   ]
  },
  {
   "cell_type": "code",
   "execution_count": 7,
   "id": "d104178a-041b-4718-8ab9-0f918912d7eb",
   "metadata": {
    "tags": []
   },
   "outputs": [
    {
     "name": "stdout",
     "output_type": "stream",
     "text": [
      "[[1 1]\n",
      " [0 0]\n",
      " [1 0]\n",
      " [0 1]\n",
      " [0 1]]\n"
     ]
    }
   ],
   "source": [
    "flips = np.random.randint(0,2,size=(5,2))\n",
    "print(flips)"
   ]
  },
  {
   "cell_type": "markdown",
   "id": "c9b46107-1119-479f-9400-b99ce53079e3",
   "metadata": {},
   "source": [
    "### Rolling Dice\n",
    "\n",
    "Simulate rolling 3 dice 10 times:"
   ]
  },
  {
   "cell_type": "code",
   "execution_count": 8,
   "id": "9e173f96-bfe3-437b-90c0-e421ac83fe4d",
   "metadata": {
    "tags": []
   },
   "outputs": [
    {
     "name": "stdout",
     "output_type": "stream",
     "text": [
      "[[4 3 5]\n",
      " [2 1 1]\n",
      " [5 1 2]\n",
      " [1 5 4]\n",
      " [1 4 3]\n",
      " [4 3 4]\n",
      " [2 6 1]\n",
      " [6 6 2]\n",
      " [5 3 3]\n",
      " [4 6 2]]\n"
     ]
    }
   ],
   "source": [
    "rolls = np.random.randint(1,7,size=(10,3))\n",
    "print(rolls)"
   ]
  },
  {
   "cell_type": "markdown",
   "id": "77a17b22-9eb3-4466-8140-f43e0d211869",
   "metadata": {},
   "source": [
    "### Drawing Cards\n",
    "\n",
    "Use the function `numpy.random.choice` to randomly choose elements from a set. For example, we can create a deck of cards as a Python list with text entries (each text entry represents a card in the standard deck) and then draw a certain number of them (without replacement)."
   ]
  },
  {
   "cell_type": "code",
   "execution_count": 9,
   "id": "2ef159b2-fc22-48d9-93bb-7baf2dc7ba66",
   "metadata": {
    "tags": []
   },
   "outputs": [
    {
     "name": "stdout",
     "output_type": "stream",
     "text": [
      "['JS' 'AC' 'KC' '10D' '10H']\n"
     ]
    }
   ],
   "source": [
    "deck = ['2H','3H','4H','5H','6H','7H','8H','9H','10H','JH','QH','KH','AH',\n",
    "        '2D','3D','4D','5D','6D','7D','8D','9D','10D','JD','QD','KD','AD',\n",
    "        '2S','3S','4S','5S','6S','7S','8S','9S','10S','JS','QS','KS','AS',\n",
    "        '2C','3C','4C','5C','6C','7C','8C','9C','10C','JC','QC','KC','AC']\n",
    "\n",
    "hand = np.random.choice(deck,size=5,replace=False)\n",
    "print(hand)"
   ]
  },
  {
   "cell_type": "markdown",
   "id": "b876b01d-3102-42b2-a873-28405a2b6867",
   "metadata": {},
   "source": [
    "Write a list comprehension to simulate drawing 5 cards 10 times:"
   ]
  },
  {
   "cell_type": "code",
   "execution_count": 10,
   "id": "dc2a1a1f-1b26-4d99-b5d5-90b047d5691d",
   "metadata": {
    "tags": []
   },
   "outputs": [
    {
     "name": "stdout",
     "output_type": "stream",
     "text": [
      "[['JC' 'JS' '2D' '10S' '4S']\n",
      " ['8H' '10D' '9D' '8S' '3D']\n",
      " ['8H' '8D' '10S' '6H' '2D']\n",
      " ['3H' '10D' '6D' 'KD' 'AH']\n",
      " ['JD' '7S' 'KC' '5D' '3H']\n",
      " ['JD' '8S' '8D' '4H' '4C']\n",
      " ['AS' 'JC' 'AH' '4H' '10S']\n",
      " ['QS' '10H' '9D' '6D' 'JC']\n",
      " ['5D' '9D' 'QC' '8D' '4H']\n",
      " ['QC' '4C' 'AC' 'QH' '5H']]\n"
     ]
    }
   ],
   "source": [
    "hands = np.array([np.random.choice(deck,size=5,replace=False) for _ in range(10)])\n",
    "print(hands)"
   ]
  },
  {
   "cell_type": "markdown",
   "id": "3363ab9f-5417-4cde-bcef-e922c9b3f95d",
   "metadata": {},
   "source": [
    "### Custom Distributions\n",
    "\n",
    "We can also define our own custom distributions using the fucntion `np.random.choice`. We specify the sample space `omega` and the corresponding vector of probabilities `probs`.\n",
    "\n",
    "For example, let's consider a weighted coin such that flips result in heads with probability 2/3 and tails with probability 1/3. Genreate 10 samples of flipping the weighted coin three times."
   ]
  },
  {
   "cell_type": "code",
   "execution_count": 36,
   "id": "9e0750a1-6e41-40f4-b2ff-6bfb326726b4",
   "metadata": {
    "tags": []
   },
   "outputs": [
    {
     "name": "stdout",
     "output_type": "stream",
     "text": [
      "[[1 0 1]\n",
      " [0 1 0]\n",
      " [0 1 1]\n",
      " [0 1 0]\n",
      " [0 0 1]\n",
      " [1 1 0]\n",
      " [1 1 0]\n",
      " [1 1 1]\n",
      " [0 0 1]\n",
      " [1 1 1]]\n"
     ]
    }
   ],
   "source": [
    "omega = [0,1]\n",
    "probs = [1/3,2/3]\n",
    "n = 10\n",
    "t = 3\n",
    "samples = np.random.choice(omega,size=(n,t),p=probs)\n",
    "print(samples)"
   ]
  },
  {
   "cell_type": "markdown",
   "id": "1b07d3b1-cd98-44ad-8fa0-af98ef535632",
   "metadata": {},
   "source": [
    "## Random Variables\n",
    "\n",
    "A **random variable** on a sample space $\\Omega$ is a function $X : \\Omega \\to \\mathbb{R}$. In the previous section, we constructed random samples as NumPy arrays where each row was the result of a random experiment. In other words, each row was an element in the sample space $\\Omega$. Apply NumPy functions such as `np.sum`, `np.max`, `np.min` and `np.any` to simulate random variables.\n",
    "\n",
    "For example, let's generate random samples of rolling 4 dice."
   ]
  },
  {
   "cell_type": "code",
   "execution_count": 29,
   "id": "62e56d4d-5c9c-4c87-8845-d33f8c7f333d",
   "metadata": {
    "tags": []
   },
   "outputs": [
    {
     "name": "stdout",
     "output_type": "stream",
     "text": [
      "[[2 1 3 2]\n",
      " [1 2 4 5]\n",
      " [1 2 5 5]\n",
      " [6 3 2 2]\n",
      " [5 1 1 6]\n",
      " [4 3 6 5]\n",
      " [5 2 4 6]\n",
      " [2 1 4 2]\n",
      " [2 2 2 1]\n",
      " [1 3 6 2]]\n"
     ]
    }
   ],
   "source": [
    "rolls = np.random.randint(1,7,size=(10,4))\n",
    "print(rolls)"
   ]
  },
  {
   "cell_type": "markdown",
   "id": "fb562f57-c7af-46c4-9717-97873ce19e3a",
   "metadata": {},
   "source": [
    "Use the function `np.sum` to compute the sum of each row."
   ]
  },
  {
   "cell_type": "code",
   "execution_count": 12,
   "id": "099f7aaf-e641-47ed-977b-3f036b9a930c",
   "metadata": {
    "tags": []
   },
   "outputs": [
    {
     "name": "stdout",
     "output_type": "stream",
     "text": [
      "[15 17 20 14 16 13 16 20 12 16]\n"
     ]
    }
   ],
   "source": [
    "sum_rolls = np.sum(rolls,axis=1)\n",
    "print(sum_rolls)"
   ]
  },
  {
   "cell_type": "markdown",
   "id": "efa79aa6-d366-4ac3-8578-9c2d2ed15fae",
   "metadata": {},
   "source": [
    "The parameter `axis=1` specifies that we sum the values of `rolls` across the rows. If we had entered `axis=0` then the result would be the sum down the columns, and if we don't specify then the result is the sum of all values in the array."
   ]
  },
  {
   "cell_type": "markdown",
   "id": "c4578723-22dc-4f9b-9360-9daeea48b5cf",
   "metadata": {},
   "source": [
    "We can also use `np.max` and `np.min` to comute the maximum and minimum values in each roll:"
   ]
  },
  {
   "cell_type": "code",
   "execution_count": 13,
   "id": "f903d408-d0ca-459d-b5b5-da30d69eaad7",
   "metadata": {
    "tags": []
   },
   "outputs": [
    {
     "name": "stdout",
     "output_type": "stream",
     "text": [
      "[5 6 5 6 5 5 5 6 6 6]\n"
     ]
    }
   ],
   "source": [
    "max_rolls = np.max(rolls,axis=1)\n",
    "print(max_rolls)"
   ]
  },
  {
   "cell_type": "markdown",
   "id": "16432063-3adc-424c-9e09-821684e57567",
   "metadata": {},
   "source": [
    "The following code computes the random variable which returns 1 if the roll includes a 3 and 0 otherwise."
   ]
  },
  {
   "cell_type": "code",
   "execution_count": 14,
   "id": "45c61f3e-d140-4194-b4d4-b307e0c871e8",
   "metadata": {
    "tags": []
   },
   "outputs": [
    {
     "name": "stdout",
     "output_type": "stream",
     "text": [
      "[1 0 0 0 0 1 0 0 0 0]\n"
     ]
    }
   ],
   "source": [
    "roll_3 = np.any(rolls == 3,axis=1).astype(int)\n",
    "print(roll_3)"
   ]
  },
  {
   "cell_type": "markdown",
   "id": "8a6401e8-4fd4-4024-a251-ed0b4a8d3ca8",
   "metadata": {},
   "source": [
    "## Histograms\n",
    "\n",
    "Now that we can compute values of random variables on sample spaces of rolling dice and flipping coins, let's visualize results as [histograms](https://en.wikipedia.org/wiki/Histogram).\n",
    "\n",
    "For example, construct the histogram of 5000 random samples of flipping 5 coins and counting the number of heads."
   ]
  },
  {
   "cell_type": "code",
   "execution_count": 15,
   "id": "d0f6a7cc-8c9b-4fa7-a7cc-2eac733df7d3",
   "metadata": {
    "tags": []
   },
   "outputs": [],
   "source": [
    "ncoins = 5\n",
    "nsamples = 5000\n",
    "flips = np.random.randint(0,2,size=(nsamples,ncoins))\n",
    "heads = np.sum(flips,axis=1)"
   ]
  },
  {
   "cell_type": "markdown",
   "id": "a5730734-a183-44d6-9914-895e4c10625e",
   "metadata": {},
   "source": [
    "Look at the first 10 samples:"
   ]
  },
  {
   "cell_type": "code",
   "execution_count": 16,
   "id": "27814c72-dd3d-4eaf-84c2-bd8b753a3b35",
   "metadata": {
    "tags": []
   },
   "outputs": [
    {
     "data": {
      "text/plain": [
       "array([[1, 1, 0, 0, 0],\n",
       "       [1, 1, 0, 0, 0],\n",
       "       [0, 1, 1, 1, 0],\n",
       "       [0, 0, 0, 1, 1],\n",
       "       [0, 1, 0, 0, 1],\n",
       "       [0, 0, 0, 0, 1],\n",
       "       [0, 1, 1, 0, 1],\n",
       "       [0, 1, 0, 1, 1],\n",
       "       [0, 0, 0, 0, 0],\n",
       "       [1, 0, 0, 1, 0]])"
      ]
     },
     "execution_count": 16,
     "metadata": {},
     "output_type": "execute_result"
    }
   ],
   "source": [
    "flips[:10]"
   ]
  },
  {
   "cell_type": "markdown",
   "id": "c89322e7-a838-4219-8957-ec0b82b21ead",
   "metadata": {},
   "source": [
    "Look at the sum of the first 10 samples to verify:"
   ]
  },
  {
   "cell_type": "code",
   "execution_count": 17,
   "id": "9fed640b-ba68-4047-bcc0-4b85f71f1811",
   "metadata": {
    "tags": []
   },
   "outputs": [
    {
     "data": {
      "text/plain": [
       "array([2, 2, 3, 2, 2, 1, 3, 3, 0, 2])"
      ]
     },
     "execution_count": 17,
     "metadata": {},
     "output_type": "execute_result"
    }
   ],
   "source": [
    "heads[:10]"
   ]
  },
  {
   "cell_type": "markdown",
   "id": "4427b6f6-c158-4ca7-8468-b0e18167bcd7",
   "metadata": {},
   "source": [
    "Now let's contruct the histogram:"
   ]
  },
  {
   "cell_type": "code",
   "execution_count": 18,
   "id": "21c516e4-8788-4b5a-bcdb-7a1ba289488b",
   "metadata": {
    "tags": []
   },
   "outputs": [
    {
     "data": {
      "image/png": "[encoded data removed]",
      "text/plain": [
       "<Figure size 640x480 with 1 Axes>"
      ]
     },
     "metadata": {},
     "output_type": "display_data"
    }
   ],
   "source": [
    "freqs,bins,fig = plt.hist(heads,bins=range(0,ncoins+2),density=True,align='left',rwidth=0.5)"
   ]
  },
  {
   "cell_type": "markdown",
   "id": "efdcb7a8-918f-4207-b803-2b1b58ce0c3a",
   "metadata": {},
   "source": [
    "Take a closer look at the values of the parameters entered in \n",
    "\n",
    "* `bins=range(0,ncoins+2)` specifies the limits of the bins are the integers from `0` to `ncoins+2` (exclusive). Therefore the bins in this case are $[0,1),[1,2),[2,3),[3,4),[4,5),[5,6)$.\n",
    "* `density=True` specifies that the height of each bar is the relative frequency of each value as opposed to the total count of each value.\n",
    "* `align='left'` and `rwidth=0.5` specify that the center of each bar is located at the edge of the bin and the width of each bar is 0.5 times the width of the bin.\n",
    "\n",
    "Finally, the function `plt.hist` returns 3 objects:\n",
    "\n",
    "* `freqs` is the array of relative frequencies (in other words, the height of each bar in the graph)\n",
    "* `bins` is the array of limits of the bins\n",
    "* `fig` is the Matplotlib figure object (in case we want to further modify or style the figure)"
   ]
  },
  {
   "cell_type": "code",
   "execution_count": 19,
   "id": "a8e60a7c-e5f1-487c-a717-7faa2ce99466",
   "metadata": {
    "tags": []
   },
   "outputs": [
    {
     "name": "stdout",
     "output_type": "stream",
     "text": [
      "[0.0306 0.1532 0.3148 0.3152 0.1562 0.03  ]\n"
     ]
    }
   ],
   "source": [
    "print(freqs)"
   ]
  },
  {
   "cell_type": "code",
   "execution_count": 20,
   "id": "cd67d383-399d-42a9-bf7d-548c246714aa",
   "metadata": {
    "tags": []
   },
   "outputs": [
    {
     "name": "stdout",
     "output_type": "stream",
     "text": [
      "[0. 1. 2. 3. 4. 5. 6.]\n"
     ]
    }
   ],
   "source": [
    "print(bins)"
   ]
  },
  {
   "cell_type": "markdown",
   "id": "ffe3132c-7f61-4c52-ab3e-b5153b9d0156",
   "metadata": {},
   "source": [
    "We know that the probability of getting $k$ heads when flipping $n$ coins is given by\n",
    "\n",
    "$$\n",
    "\\frac{n \\choose k}{2^n}\n",
    "$$\n",
    "\n",
    "Therefore the histogram above should match approximately the figure below:"
   ]
  },
  {
   "cell_type": "code",
   "execution_count": 21,
   "id": "ff3acb2f-272e-4645-8756-3220ad9760ed",
   "metadata": {
    "tags": []
   },
   "outputs": [
    {
     "data": {
      "image/png": "[encoded data removed]",
      "text/plain": [
       "<Figure size 640x480 with 1 Axes>"
      ]
     },
     "metadata": {},
     "output_type": "display_data"
    }
   ],
   "source": [
    "n = ncoins\n",
    "k = np.arange(0,n+1)\n",
    "b = sp.comb(n,k)\n",
    "plt.bar(k,b/2**n)\n",
    "plt.show()"
   ]
  },
  {
   "cell_type": "code",
   "execution_count": 22,
   "id": "d1d3a962-2c47-4545-ba3b-4c5d66e61cf8",
   "metadata": {
    "tags": []
   },
   "outputs": [
    {
     "name": "stdout",
     "output_type": "stream",
     "text": [
      "[0.03125 0.15625 0.3125  0.3125  0.15625 0.03125]\n"
     ]
    }
   ],
   "source": [
    "print(b/2**n)"
   ]
  },
  {
   "cell_type": "markdown",
   "id": "61c6e09c-d979-459d-b15d-710b3149b858",
   "metadata": {},
   "source": [
    "## Examples"
   ]
  },
  {
   "cell_type": "markdown",
   "id": "b60c1f19-f861-4ec3-b730-21dc98b49f2f",
   "metadata": {},
   "source": [
    "### Rolling Dice\n",
    "\n",
    "Generate 10000 random samples of the sum of 3 dice and construct the histogram."
   ]
  },
  {
   "cell_type": "code",
   "execution_count": 43,
   "id": "6026f7cc-650b-418f-9099-6a95b5f1c97a",
   "metadata": {
    "tags": []
   },
   "outputs": [
    {
     "data": {
      "image/png": "[encoded data removed]",
      "text/plain": [
       "<Figure size 640x480 with 1 Axes>"
      ]
     },
     "metadata": {},
     "output_type": "display_data"
    }
   ],
   "source": [
    "ndice = 3\n",
    "nsides = 6\n",
    "nsamples = 10000\n",
    "samples = np.random.randint(1,nsides+1,size=(nsamples,ndice))\n",
    "results = np.sum(samples,axis=1)\n",
    "freqs,bins,fig = plt.hist(results,bins=range(ndice,nsides*ndice+2),density=True,align='left',rwidth=0.5)\n",
    "plt.grid(True)\n",
    "plt.show()"
   ]
  },
  {
   "cell_type": "code",
   "execution_count": 44,
   "id": "3adaf892-8c88-446b-8568-3109860976da",
   "metadata": {
    "tags": []
   },
   "outputs": [
    {
     "name": "stdout",
     "output_type": "stream",
     "text": [
      "Relative Frequencies: [0.0046 0.0147 0.0256 0.0459 0.0698 0.0987 0.1109 0.133  0.1226 0.117\n",
      " 0.0939 0.0724 0.0458 0.0275 0.0126 0.005 ]\n"
     ]
    }
   ],
   "source": [
    "print(\"Relative Frequencies:\",freqs)"
   ]
  },
  {
   "cell_type": "markdown",
   "id": "bc4aa01d-8296-499a-8a43-61d853694195",
   "metadata": {},
   "source": [
    "### Weighted Coin\n",
    "\n",
    "Consider an unfair coin which flips to heads with probability 2/3. Generate 1000 random samples of 7 flips, count the number of heads and construct the histogram."
   ]
  },
  {
   "cell_type": "code",
   "execution_count": 46,
   "id": "ea69784a-f4f8-4bcc-be34-37848401b6cf",
   "metadata": {
    "tags": []
   },
   "outputs": [
    {
     "data": {
      "image/png": "[encoded data removed]",
      "text/plain": [
       "<Figure size 640x480 with 1 Axes>"
      ]
     },
     "metadata": {},
     "output_type": "display_data"
    }
   ],
   "source": [
    "omega = [0,1]\n",
    "probs = [1/3,2/3]\n",
    "nsamples = 1000\n",
    "nflips = 7\n",
    "samples = np.random.choice(omega,size=(nsamples,nflips),p=probs)\n",
    "results = np.sum(samples,axis=1)\n",
    "freqs,bins,fig = plt.hist(results,bins=range(0,nflips+2),density=True,align='left',rwidth=0.5)\n",
    "plt.grid(True)\n",
    "plt.show()"
   ]
  },
  {
   "cell_type": "code",
   "execution_count": 48,
   "id": "27084941-69a1-4885-a68b-e300244c3d11",
   "metadata": {
    "tags": []
   },
   "outputs": [
    {
     "name": "stdout",
     "output_type": "stream",
     "text": [
      "[0.    0.001 0.053 0.124 0.253 0.318 0.186 0.065]\n"
     ]
    }
   ],
   "source": [
    "print(freqs)"
   ]
  }
 ],
 "metadata": {
  "kernelspec": {
   "display_name": "Python 3 (ipykernel)",
   "language": "python",
   "name": "python3"
  },
  "language_info": {
   "codemirror_mode": {
    "name": "ipython",
    "version": 3
   },
   "file_extension": ".py",
   "mimetype": "text/x-python",
   "name": "python",
   "nbconvert_exporter": "python",
   "pygments_lexer": "ipython3",
   "version": "3.10.12"
  }
 },
 "nbformat": 4,
 "nbformat_minor": 5
}
