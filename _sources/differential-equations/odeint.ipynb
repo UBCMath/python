{
 "cells": [
  {
   "cell_type": "markdown",
   "id": "cfe7ed5b-1f80-4cda-9a6e-3781e47c6e1c",
   "metadata": {},
   "source": [
    "# Numerical Solutions with odeint\n",
    "\n",
    "*Under construction*"
   ]
  }
 ],
 "metadata": {
  "kernelspec": {
   "display_name": "Python 3 (ipykernel)",
   "language": "python",
   "name": "python3"
  },
  "language_info": {
   "codemirror_mode": {
    "name": "ipython",
    "version": 3
   },
   "file_extension": ".py",
   "mimetype": "text/x-python",
   "name": "python",
   "nbconvert_exporter": "python",
   "pygments_lexer": "ipython3",
   "version": "3.10.12"
  }
 },
 "nbformat": 4,
 "nbformat_minor": 5
}
