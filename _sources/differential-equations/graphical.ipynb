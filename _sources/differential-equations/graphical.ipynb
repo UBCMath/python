{
 "cells": [
  {
   "cell_type": "markdown",
   "id": "99f7feb4-6679-4694-ba85-3aaf2f8bb724",
   "metadata": {},
   "source": [
    "# Slope Fields\n",
    "\n",
    "*Under construction*"
   ]
  }
 ],
 "metadata": {
  "kernelspec": {
   "display_name": "Python 3 (ipykernel)",
   "language": "python",
   "name": "python3"
  },
  "language_info": {
   "codemirror_mode": {
    "name": "ipython",
    "version": 3
   },
   "file_extension": ".py",
   "mimetype": "text/x-python",
   "name": "python",
   "nbconvert_exporter": "python",
   "pygments_lexer": "ipython3",
   "version": "3.10.12"
  }
 },
 "nbformat": 4,
 "nbformat_minor": 5
}
