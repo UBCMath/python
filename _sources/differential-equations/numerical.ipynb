{
 "cells": [
  {
   "cell_type": "markdown",
   "id": "6e81804b-a4db-458f-be3d-9f8e361dbb8f",
   "metadata": {},
   "source": [
    "# Euler's Method\n",
    "\n",
    "*Under construction*"
   ]
  }
 ],
 "metadata": {
  "kernelspec": {
   "display_name": "Python 3 (ipykernel)",
   "language": "python",
   "name": "python3"
  },
  "language_info": {
   "codemirror_mode": {
    "name": "ipython",
    "version": 3
   },
   "file_extension": ".py",
   "mimetype": "text/x-python",
   "name": "python",
   "nbconvert_exporter": "python",
   "pygments_lexer": "ipython3",
   "version": "3.10.12"
  }
 },
 "nbformat": 4,
 "nbformat_minor": 5
}
