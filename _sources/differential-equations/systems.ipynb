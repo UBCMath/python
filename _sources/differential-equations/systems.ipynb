{
 "cells": [
  {
   "cell_type": "markdown",
   "id": "dee8e288-9d02-4d70-a08f-cd7e131781d8",
   "metadata": {},
   "source": [
    "# Systems of Equations"
   ]
  },
  {
   "cell_type": "code",
   "execution_count": 1,
   "id": "a27537e3-dcaa-4f58-ad65-24467b6e9f5c",
   "metadata": {
    "tags": []
   },
   "outputs": [],
   "source": [
    "import numpy as np\n",
    "import matplotlib.pyplot as plt\n",
    "import scipy.integrate as spi"
   ]
  },
  {
   "cell_type": "markdown",
   "id": "4a076953-184b-4151-895f-a05c7af98047",
   "metadata": {},
   "source": [
    "## First Order Systems\n",
    "\n",
    "An $d$-dimensional first order system of differential equations is of the form\n",
    "\n",
    "$$\n",
    "\\begin{align*}\n",
    "x_0' &= f_0(x_0,\\dots,x_{d-1},t) \\\\\n",
    "x_1' &= f_1(x_0,\\dots,x_{d-1},t) \\\\\n",
    "& \\ \\  \\vdots \\\\\n",
    "x_{d-1}' &= f_{d-1}(x_0,\\dots,x_{d-1},t)\n",
    "\\end{align*}\n",
    "$$\n",
    "\n",
    "Write the system as a vector equation\n",
    "\n",
    "$$\n",
    "\\begin{bmatrix} x_0' \\\\ x_1' \\\\ \\vdots \\\\ x_{d-1}' \\end{bmatrix}\n",
    "=\n",
    "\\begin{bmatrix} f_0(x_0,\\dots,x_{d-1},t) \\\\ f_1(x_0,\\dots,x_{d-1},t) \\\\ \\vdots \\\\ f_{d-1}(x_0,\\dots,x_{d-1},t) \\end{bmatrix}\n",
    "$$\n",
    "\n",
    "Write the system in vector notation\n",
    "\n",
    "$$\n",
    "\\frac{d \\mathbf{x}}{dt} = \\mathbf{f}(\\mathbf{x},t)\n",
    "$$\n",
    "\n",
    "where $\\mathbf{x}$ is a vector of $d$ unknown functions\n",
    "\n",
    "$$\n",
    "\\mathbf{x}(t) = \\begin{bmatrix} x_0(t) \\\\ x_1(t) \\\\ \\vdots \\\\ x_{d-1}(t) \\end{bmatrix}\n",
    "\\hspace{20mm}\n",
    "\\frac{d\\mathbf{x}}{dt} = \\begin{bmatrix} x_0'(t) \\\\ x_1'(t) \\\\ \\vdots \\\\ x_{d-1}'(t) \\end{bmatrix}\n",
    "$$\n",
    "\n",
    "and $\\mathbf{f}$ is a vector of functions\n",
    "\n",
    "$$\n",
    "\\mathbf{f}(\\mathbf{x},t) = \\begin{bmatrix} f_0(x_0,x_1,\\dots,x_{d-1},t) \\\\ f_1(x_0,x_1,\\dots,x_{d-1},t) \\\\ \\vdots \\\\ f_{d-1}(x_0,x_1,\\dots,x_{d-1},t) \\end{bmatrix}\n",
    "$$\n",
    "\n",
    "For example, consider the 2-dimensional first order system of differential equations\n",
    "\n",
    "$$\n",
    "\\begin{align*}\n",
    "x_0' &= x_1 \\\\\n",
    "x_1' &= x_0\n",
    "\\end{align*}\n",
    "$$\n",
    "\n",
    "Represent the right side of the system as a vector function\n",
    "\n",
    "$$\n",
    "\\mathbf{f}(\\mathbf{x},t) = \\begin{bmatrix} x_1 \\\\ x_0 \\end{bmatrix}\n",
    "$$\n",
    "\n",
    "In this example, the variable $t$ does not appear in the expression for $\\mathbf{f}$ but we include it anyway because we want a standard form for first order systems. Create a Python function which represents the right hand side of the system of equations."
   ]
  },
  {
   "cell_type": "code",
   "execution_count": 2,
   "id": "50405ad4-901b-4d4e-bfe8-407de6b50a5d",
   "metadata": {
    "tags": []
   },
   "outputs": [],
   "source": [
    "f = lambda x,t: np.array([ x[1] , x[0] ])"
   ]
  },
  {
   "cell_type": "markdown",
   "id": "db295e76-492b-49b4-956e-bc8b9cd69a7b",
   "metadata": {},
   "source": [
    "Plug in some values to verify that `f` returns the array $[x_1 , x_0]$ for the input $\\mathbf{x} = [x_0,x_1]$."
   ]
  },
  {
   "cell_type": "code",
   "execution_count": 3,
   "id": "7c8a604c-0ae9-48dc-b589-2d3dfd9135b4",
   "metadata": {
    "tags": []
   },
   "outputs": [
    {
     "data": {
      "text/plain": [
       "array([2., 1.])"
      ]
     },
     "execution_count": 3,
     "metadata": {},
     "output_type": "execute_result"
    }
   ],
   "source": [
    "f([1.,2.],0)"
   ]
  },
  {
   "cell_type": "code",
   "execution_count": 4,
   "id": "f93dbbd7-7522-41a5-996d-d698a826bf93",
   "metadata": {
    "tags": []
   },
   "outputs": [
    {
     "data": {
      "text/plain": [
       "array([ 2., -3.])"
      ]
     },
     "execution_count": 4,
     "metadata": {},
     "output_type": "execute_result"
    }
   ],
   "source": [
    "f([-3.,2.],1)"
   ]
  },
  {
   "cell_type": "markdown",
   "id": "30dd5061-0ffc-4a58-a117-f9db2fd8bc50",
   "metadata": {},
   "source": [
    "## Numerical Solutions\n",
    "\n",
    "The function `scipy.integrate.odeint` approximates the solution of a system of first order differential equations with an initial condition:\n",
    "\n",
    "$$\n",
    "\\frac{d\\mathbf{x}}{dt} = \\mathbf{f}(\\mathbf{x},t) \\ , \\ \\ \\mathbf{x}(t_0) = \\mathbf{x}_0 = \\begin{bmatrix} x_0(t_0) \\\\ x_1(t_0) \\\\ \\vdots \\\\ x_{d-1}(t_0) \\end{bmatrix}\n",
    "$$\n",
    "\n",
    "The function `scipy.integrate.odeint` takes input parameters `f`, `x0` and `t` where:\n",
    "\n",
    "* `f` is a Python function which represents the right hand side of the system $\\mathbf{f}(\\mathbf{x},t)$\n",
    "* `x0` is the vector of initial values $\\mathbf{x}(t_0) = \\mathbf{x}_0$\n",
    "* `t` is a NumPy array of $t$ values such that the first entry is $t_0$\n",
    "\n",
    "The fuction `scipy.integrate.odeint` returns a NumPy array `x` such that:\n",
    "\n",
    "* the number of rows of `x` is equal to the length of `t`\n",
    "* the number of columns of `x` is equal to the dimension $d$ of the system\n",
    "* the first row `x[0,:]` is the vector of initial values $\\mathbf{x}(t_0) = \\mathbf{x}_0$\n",
    "* the row `x[n,:]` at index $n$ is the vector of approximations of the solution $\\mathbf{x}(t_n)$ at time $t_n$\n",
    "* the value $t_n$ is the entry `t[n]` at index $n$ in the input array `t`\n",
    "* the column `x[:,i]` is the vector of approximations of the function $x_i(t)$\n",
    "\n",
    "Given a differential equation with initial value, it is up to us to construct the input vector `t`. We need to choose a final value $t_f$ and the number of values in the input vector `t`."
   ]
  },
  {
   "cell_type": "markdown",
   "id": "921c5841-51e7-4b5c-ba81-0ee23b69992f",
   "metadata": {},
   "source": [
    "## Examples"
   ]
  },
  {
   "cell_type": "markdown",
   "id": "e5390573-88f3-421d-a6b7-a66b7ef48167",
   "metadata": {},
   "source": [
    "### 2D Linear System\n",
    "\n",
    "Approximate the unique solution of the 2-dimensional first order system of differential equations\n",
    "\n",
    "$$\n",
    "\\begin{align*}\n",
    "x_0' &= x_0 - x_1 \\\\\n",
    "x_1' &= 5x_0 - 3x_1\n",
    "\\end{align*}\n",
    "$$\n",
    "\n",
    "with initial conditions $x_0(0) = 0$, $x_1(0) = 1$. Approximate the solution over the interval $[0,5]$.\n",
    "\n",
    "Represent the right side of the system as a vector function\n",
    "\n",
    "$$\n",
    "\\mathbf{f}(\\mathbf{x},t) = \\begin{bmatrix}  x_0 - x_1 \\\\ 5x_0 - 3x_1 \\end{bmatrix}\n",
    "$$\n",
    "\n",
    "Define the function `f` to represent the right side of the system of equations:"
   ]
  },
  {
   "cell_type": "code",
   "execution_count": 18,
   "id": "cd827979-dd60-44db-a21e-1f55a24b9ed2",
   "metadata": {
    "tags": []
   },
   "outputs": [],
   "source": [
    "f = lambda x,t: np.array([ x[0] - x[1] , 5*x[0] - 3*x[1] ])"
   ]
  },
  {
   "cell_type": "markdown",
   "id": "71532e3b-ed70-4d56-a44b-75d698b769a8",
   "metadata": {},
   "source": [
    "Plug in some values to verify that the function returns the vector $[x_0 - x_1, 5x_0 - 3x_1]$."
   ]
  },
  {
   "cell_type": "code",
   "execution_count": 19,
   "id": "864f2900-72e9-4391-875d-557f751a2a9d",
   "metadata": {
    "tags": []
   },
   "outputs": [
    {
     "data": {
      "text/plain": [
       "array([1., 7.])"
      ]
     },
     "execution_count": 19,
     "metadata": {},
     "output_type": "execute_result"
    }
   ],
   "source": [
    "f([2.,1.],0)"
   ]
  },
  {
   "cell_type": "code",
   "execution_count": 20,
   "id": "d1e32353-1a86-4f9c-9714-79a563941dc8",
   "metadata": {
    "tags": []
   },
   "outputs": [
    {
     "data": {
      "text/plain": [
       "array([ -7., -29.])"
      ]
     },
     "execution_count": 20,
     "metadata": {},
     "output_type": "execute_result"
    }
   ],
   "source": [
    "f([-4.,3.],1)"
   ]
  },
  {
   "cell_type": "markdown",
   "id": "517ef2b1-5ede-40b3-a577-ce6b305dccce",
   "metadata": {},
   "source": [
    "Define the vector of intial values $\\mathbf{x}_0 = [x_0(0),x_1(0)] = [0,1]$."
   ]
  },
  {
   "cell_type": "code",
   "execution_count": 21,
   "id": "5eea09ee-b6be-468e-bc78-fdda616f2275",
   "metadata": {
    "tags": []
   },
   "outputs": [],
   "source": [
    "x0 = np.array([0.,1.])"
   ]
  },
  {
   "cell_type": "markdown",
   "id": "19fe66a6-dfa4-4e31-a19a-61432febfe79",
   "metadata": {},
   "source": [
    "Construct a NumPy array of $t$ values from $t_0 = 0$ to $t_f = 5$. The number of points in the array is our decision. The number of points does not change the accuracy of the results. It only changes the number of rows in the ouput matrix `x` and we need enough to plot the approximation smoothly. Let's choose $N=101$ values so that the step size between $t$ values is 0.05."
   ]
  },
  {
   "cell_type": "code",
   "execution_count": 46,
   "id": "77390af1-0282-4414-9f97-c9ef1cd14d3f",
   "metadata": {
    "tags": []
   },
   "outputs": [],
   "source": [
    "t = np.linspace(0,5,101)"
   ]
  },
  {
   "cell_type": "markdown",
   "id": "c094aad2-f055-40d8-b802-ac6222d462e1",
   "metadata": {},
   "source": [
    "Look at the first few values of `t`."
   ]
  },
  {
   "cell_type": "code",
   "execution_count": 47,
   "id": "08148ed9-9874-4756-9603-6d0f5e64d938",
   "metadata": {
    "tags": []
   },
   "outputs": [
    {
     "data": {
      "text/plain": [
       "array([0.  , 0.05, 0.1 , 0.15, 0.2 ])"
      ]
     },
     "execution_count": 47,
     "metadata": {},
     "output_type": "execute_result"
    }
   ],
   "source": [
    "t[:5]"
   ]
  },
  {
   "cell_type": "markdown",
   "id": "fde42a5a-03ff-441e-a066-e8a559448835",
   "metadata": {},
   "source": [
    "Compute the matrix of approximations of $\\mathbf{x}(t)$."
   ]
  },
  {
   "cell_type": "code",
   "execution_count": 48,
   "id": "2c06f510-12e5-48e2-b6b3-c7f7b176a640",
   "metadata": {
    "tags": []
   },
   "outputs": [],
   "source": [
    "x = spi.odeint(f,x0,t)"
   ]
  },
  {
   "cell_type": "markdown",
   "id": "4b0b19ef-b378-4c4f-a36f-778e32eab583",
   "metadata": {},
   "source": [
    "Look at the shape of the array `x`."
   ]
  },
  {
   "cell_type": "code",
   "execution_count": 49,
   "id": "32ccddd9-e64d-4fd2-b00e-38f9456726b5",
   "metadata": {
    "tags": []
   },
   "outputs": [
    {
     "data": {
      "text/plain": [
       "(101, 2)"
      ]
     },
     "execution_count": 49,
     "metadata": {},
     "output_type": "execute_result"
    }
   ],
   "source": [
    "x.shape"
   ]
  },
  {
   "cell_type": "markdown",
   "id": "63901112-4c09-4bf8-b39b-df71d5745c41",
   "metadata": {},
   "source": [
    "The row `x[n,:]` corresponds to $[x_0(t_n),x_1(t_n)]$ for value `t[n]` at index $n$ in array `t`. The column `x[:,0]` corresponds to the values of the function $x_0(t)$ and column `x[:,1]` corresponds to the values of the function $x_1(t)$. Plot the approximations:"
   ]
  },
  {
   "cell_type": "code",
   "execution_count": 50,
   "id": "54cf8274-294b-4b12-8ba7-307e2f028676",
   "metadata": {
    "tags": []
   },
   "outputs": [
    {
     "data": {
      "image/png": "[encoded data removed]",
      "text/plain": [
       "<Figure size 640x480 with 1 Axes>"
      ]
     },
     "metadata": {},
     "output_type": "display_data"
    }
   ],
   "source": [
    "plt.plot(t,x[:,0],label='$x_0(t)$')\n",
    "plt.plot(t,x[:,1],label='$x_1(t)$')\n",
    "plt.show()"
   ]
  },
  {
   "cell_type": "markdown",
   "id": "3ee36d46-9474-4965-a1f8-ff7473bac7cd",
   "metadata": {},
   "source": [
    "Plot the trajectory $\\mathbf{x}(t) = (x_0(t),x_t(t))$."
   ]
  },
  {
   "cell_type": "code",
   "execution_count": 51,
   "id": "cb9cd215-3bd5-4e64-96ec-5e4ee86ed448",
   "metadata": {
    "tags": []
   },
   "outputs": [
    {
     "data": {
      "image/png": "[encoded data removed]",
      "text/plain": [
       "<Figure size 640x480 with 1 Axes>"
      ]
     },
     "metadata": {},
     "output_type": "display_data"
    }
   ],
   "source": [
    "plt.plot(x[:,0],x[:,1])\n",
    "plt.xlim([-.5,.5]), plt.ylim([-1.1,1.1]), plt.grid(True)\n",
    "plt.show()"
   ]
  },
  {
   "cell_type": "markdown",
   "id": "2e537648-76d1-4c38-96f6-eafe52b152a0",
   "metadata": {},
   "source": [
    "## 2D Nonlinear System\n",
    "\n",
    "Approximate the unique solution of the 2-dimensional first order system of differential equations\n",
    "\n",
    "$$\n",
    "\\begin{align*}\n",
    "x_0' &= x_0^2 - x_1^2 \\\\\n",
    "x_1' &= x_1 - x_0^2\n",
    "\\end{align*}\n",
    "$$\n",
    "\n",
    "with initial conditions $x_0(0) = 2$, $x_1(0) = 0$. Approximate the solution over the interval $[0,5]$.\n",
    "\n",
    "Represent the right side of the system as a vector function\n",
    "\n",
    "$$\n",
    "\\mathbf{f}(\\mathbf{x},t) = \\begin{bmatrix}  x_0^2 - x_1^2 \\\\ x_1 - x_0^2 \\end{bmatrix}\n",
    "$$\n",
    "\n",
    "Define the function `f` to represent the right side of the system of equations:"
   ]
  },
  {
   "cell_type": "code",
   "execution_count": 57,
   "id": "cb4a361d-118c-4ad1-97e2-9d3e516118f3",
   "metadata": {
    "tags": []
   },
   "outputs": [
    {
     "name": "stderr",
     "output_type": "stream",
     "text": [
      "/Users/patrickwalls/anaconda3/lib/python3.10/site-packages/scipy/integrate/_odepack_py.py:248: ODEintWarning: Excess work done on this call (perhaps wrong Dfun type). Run with full_output = 1 to get quantitative information.\n",
      "  warnings.warn(warning_msg, ODEintWarning)\n"
     ]
    },
    {
     "data": {
      "image/png": "[encoded data removed]",
      "text/plain": [
       "<Figure size 640x480 with 1 Axes>"
      ]
     },
     "metadata": {},
     "output_type": "display_data"
    }
   ],
   "source": [
    "f = lambda x,t: np.array([ x[0]**2 - x[1]**2 , x[1] - x[0]**2 ])\n",
    "t = np.linspace(0,20,501)\n",
    "\n",
    "x0 = np.array([0.,1.])\n",
    "x = spi.odeint(f,x0,t)\n",
    "plt.plot(x[:,0],x[:,1])\n",
    "\n",
    "x0 = np.array([2.,0.])\n",
    "x = spi.odeint(f,x0,t)\n",
    "plt.plot(x[:,0],x[:,1])\n",
    "\n",
    "plt.show()"
   ]
  },
  {
   "cell_type": "code",
   "execution_count": null,
   "id": "212fb50a-0b9e-467e-8065-4a339509a0fe",
   "metadata": {},
   "outputs": [],
   "source": []
  }
 ],
 "metadata": {
  "kernelspec": {
   "display_name": "Python 3 (ipykernel)",
   "language": "python",
   "name": "python3"
  },
  "language_info": {
   "codemirror_mode": {
    "name": "ipython",
    "version": 3
   },
   "file_extension": ".py",
   "mimetype": "text/x-python",
   "name": "python",
   "nbconvert_exporter": "python",
   "pygments_lexer": "ipython3",
   "version": "3.10.12"
  }
 },
 "nbformat": 4,
 "nbformat_minor": 5
}
