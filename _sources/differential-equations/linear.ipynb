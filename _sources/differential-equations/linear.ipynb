{
 "cells": [
  {
   "cell_type": "markdown",
   "id": "0f2c58ae-7f23-4c7b-8855-ef603ab0e5ca",
   "metadata": {},
   "source": [
    "# Linear Systems\n",
    "\n",
    "A $d$-dimensional first order linear homogeneous system of differential equations is of the form $\\mathbf{x}' = A \\mathbf{x}$ for a matrix $A$ of size $d \\times d$. Solutions of such a system are determined by the eigenvalues and eigenvectors of the matrix $A$ and so let's construct solutions by computing eigenvalues and eigenvectors."
   ]
  },
  {
   "cell_type": "code",
   "execution_count": 2,
   "id": "1f92447c-345c-444b-83f0-bde8e2441226",
   "metadata": {
    "tags": []
   },
   "outputs": [],
   "source": [
    "import numpy as np\n",
    "import scipy.linalg as la\n",
    "import matplotlib.pyplot as plt"
   ]
  },
  {
   "cell_type": "markdown",
   "id": "2d747fff-2bc1-4943-a7c7-53a6b485ad84",
   "metadata": {},
   "source": [
    "## Eigenvalues and Eigenvectors\n",
    "\n",
    "The function `scipy.linalg.eig` computes the eigenvalues and eigenvectors of a matrix $A$. The function returns an array `evals` of eigenvalues and a matrix `evecs` of eigenvectors such that column `evecs[:,i]` corresponds to the eigenvalue `evals[i]`. Note that eigenvalues are always returned as complex numbers even if the values are (theoretically) real numbers.\n",
    "\n",
    "For example, consider the matrix\n",
    "\n",
    "$$\n",
    "A = \\begin{bmatrix} 1 & 2 \\\\ 2 & 1 \\end{bmatrix}\n",
    "$$\n",
    "\n",
    "The characteristic polynomial is\n",
    "\n",
    "$$\n",
    "p(x) = x^2 - 2x + 3 = (x - 3)(x + 1)\n",
    "$$\n",
    "\n",
    "The eigenvalues are $\\lambda_0 = 3$ and $\\lambda_1 = -1$ with corresponding (unit) eigenvalues\n",
    "\n",
    "$$\n",
    "\\mathbf{v}_0 = \\frac{1}{\\sqrt{2}} \\begin{bmatrix} 1 \\\\ 1 \\end{bmatrix}\n",
    "\\hspace{20mm}\n",
    "\\mathbf{v}_1 = \\frac{1}{\\sqrt{2}} \\begin{bmatrix} -1 \\\\ 1 \\end{bmatrix}\n",
    "$$\n",
    "\n",
    "Compute the eigenvalues and eigenvectors:"
   ]
  },
  {
   "cell_type": "code",
   "execution_count": 3,
   "id": "1304ad65-c56f-44d3-acac-d66893184df4",
   "metadata": {
    "tags": []
   },
   "outputs": [],
   "source": [
    "A = np.array([[1,2],[2,1]])\n",
    "evals,evecs = la.eig(A)"
   ]
  },
  {
   "cell_type": "code",
   "execution_count": 4,
   "id": "91c5f5de-a010-4f01-ba59-d8037775f8f1",
   "metadata": {
    "tags": []
   },
   "outputs": [
    {
     "data": {
      "text/plain": [
       "array([ 3.+0.j, -1.+0.j])"
      ]
     },
     "execution_count": 4,
     "metadata": {},
     "output_type": "execute_result"
    }
   ],
   "source": [
    "evals"
   ]
  },
  {
   "cell_type": "code",
   "execution_count": 5,
   "id": "1de6ccd2-8129-4796-89f0-f6ffc6d9a3bf",
   "metadata": {
    "tags": []
   },
   "outputs": [
    {
     "data": {
      "text/plain": [
       "array([[ 0.70710678, -0.70710678],\n",
       "       [ 0.70710678,  0.70710678]])"
      ]
     },
     "execution_count": 5,
     "metadata": {},
     "output_type": "execute_result"
    }
   ],
   "source": [
    "evecs"
   ]
  },
  {
   "cell_type": "markdown",
   "id": "90d2e280-5d63-4710-8331-8837f961b002",
   "metadata": {},
   "source": [
    "Compute the eigenvalues and eigenvectors of the matrix\n",
    "\n",
    "$$\n",
    "A = \\begin{bmatrix} 1 & -1 \\\\ 5 & -3 \\end{bmatrix}\n",
    "$$"
   ]
  },
  {
   "cell_type": "code",
   "execution_count": 6,
   "id": "d5503011-b2f7-48cf-97a7-8fbd9705607b",
   "metadata": {
    "tags": []
   },
   "outputs": [],
   "source": [
    "A = np.array([[1,-1],[5,-3]])\n",
    "evals,evecs = la.eig(A)"
   ]
  },
  {
   "cell_type": "code",
   "execution_count": 7,
   "id": "3c0f1fb3-4414-4b4b-82a9-478de951730f",
   "metadata": {
    "tags": []
   },
   "outputs": [
    {
     "data": {
      "text/plain": [
       "array([-1.+1.j, -1.-1.j])"
      ]
     },
     "execution_count": 7,
     "metadata": {},
     "output_type": "execute_result"
    }
   ],
   "source": [
    "evals"
   ]
  },
  {
   "cell_type": "code",
   "execution_count": 8,
   "id": "48d89135-a837-42f0-834c-0e009c131f31",
   "metadata": {
    "tags": []
   },
   "outputs": [
    {
     "data": {
      "text/plain": [
       "array([[0.36514837+0.18257419j, 0.36514837-0.18257419j],\n",
       "       [0.91287093+0.j        , 0.91287093-0.j        ]])"
      ]
     },
     "execution_count": 8,
     "metadata": {},
     "output_type": "execute_result"
    }
   ],
   "source": [
    "evecs"
   ]
  },
  {
   "cell_type": "markdown",
   "id": "6e7e2fe7-1985-4881-94cc-9560d4f09c0d",
   "metadata": {},
   "source": [
    "## Constructing Solutions\n",
    "\n",
    "Let $A$ be a $d \\times d$ matrix with distinct eigenvalues. The general solution of the $d$-dimensional first order linear homogeneous system of differential equations $\\mathbf{x}' = A \\mathbf{x}$ is given by\n",
    "\n",
    "$$\n",
    "\\mathbf{x}(t) = c_0 e^{\\lambda_0 t} \\mathbf{v}_0 + c_1 e^{\\lambda_1 t} \\mathbf{v}_1 + \\cdots + c_{d-1} e^{\\lambda_{d-1} t} \\mathbf{v}_{d-1}\n",
    "$$\n",
    "\n",
    "where $\\lambda_0,\\lambda_1,\\dots,\\lambda_{d-1}$ are the eigenvalues and $\\mathbf{v}_0,\\mathbf{v}_1,\\dots,\\mathbf{v}_{d-1}$ are the corresponding eigenvectors of $A$. Note that we can write the solution as\n",
    "\n",
    "$$\n",
    "\\mathbf{x}(t)\n",
    "=\n",
    "\\begin{bmatrix}\n",
    "& & & \\\\\n",
    "\\mathbf{v}_0 & \\mathbf{v}_1 & \\cdots & \\mathbf{v}_{d-1} \\\\\n",
    "& & &\n",
    "\\end{bmatrix}\n",
    "\\begin{bmatrix} c_0 e^{\\lambda_0 t} \\\\ c_1 e^{\\lambda_1 t} \\\\ \\vdots \\\\ c_{d-1} e^{\\lambda_{d-1} t} \\end{bmatrix}\n",
    "$$\n",
    "\n",
    "The constants $c_0,c_1,\\dots,c_{d-1}$ are determined by the initial conditions. For example\n",
    "\n",
    "$$\n",
    "\\mathbf{x}(0) =\n",
    "\\begin{bmatrix} x_0(0) \\\\ x_1(0) \\\\ \\vdots \\\\ x_{d-1}(0) \\end{bmatrix}\n",
    "=\n",
    "\\begin{bmatrix}\n",
    "& & & \\\\\n",
    "\\mathbf{v}_0 & \\mathbf{v}_1 & \\cdots & \\mathbf{v}_{d-1} \\\\\n",
    "& & &\n",
    "\\end{bmatrix}\n",
    "\\begin{bmatrix} c_0 \\\\ c_1 \\\\ \\vdots \\\\ c_{d-1} \\end{bmatrix}\n",
    "$$"
   ]
  },
  {
   "cell_type": "markdown",
   "id": "9d7c116b-ebb9-42fa-a7b2-068417ffde89",
   "metadata": {},
   "source": [
    "Let $V$ be the matrix eigenvectors\n",
    "\n",
    "$$\n",
    "V = \\begin{bmatrix}\n",
    "& & & \\\\\n",
    "\\mathbf{v}_0 & \\mathbf{v}_1 & \\cdots & \\mathbf{v}_{d-1} \\\\\n",
    "& & &\n",
    "\\end{bmatrix}\n",
    "$$\n",
    "\n",
    "let  $C$ be the matrix with the values $c_0,\\dots,c_{d-1}$ along the diagonal\n",
    "\n",
    "$$\n",
    "C = \\begin{bmatrix}\n",
    "c_0 &     &        & \\\\\n",
    "    & c_1 &        & \\\\\n",
    "    &     & \\ddots & \\\\ \n",
    "    &     &        & c_{d-1}\n",
    "\\end{bmatrix}\n",
    "$$\n",
    "\n",
    "and let $\\lambda$ be the vector of eigenvalues\n",
    "\n",
    "$$\n",
    "\\boldsymbol{\\lambda} = \\begin{bmatrix} \\lambda_0 \\\\ \\lambda_1 \\\\ \\vdots \\\\ \\lambda_{d-1} \\end{bmatrix}\n",
    "$$\n",
    "\n",
    "Then the general solution is\n",
    "\n",
    "$$\n",
    "\\mathbf{x}(t) = VCe^{\\boldsymbol{\\lambda} t}\n",
    "$$"
   ]
  },
  {
   "cell_type": "markdown",
   "id": "ee192825-7f5f-41e3-8b84-c0f9ebd2591c",
   "metadata": {},
   "source": [
    "## Function `odeLS`\n",
    "\n",
    "Construct a function called `odeLS` which takes input parameters `A`, `x0` and `t` where:\n",
    "\n",
    "* `A` is a square matrix (assumed to have distinct eigenvalues)"
   ]
  },
  {
   "cell_type": "code",
   "execution_count": 43,
   "id": "8831e327-26ae-467c-b18d-db7c361d72c2",
   "metadata": {
    "tags": []
   },
   "outputs": [],
   "source": [
    "def odeLS(A,x0,t):\n",
    "    D,V = la.eig(A)\n",
    "    c = la.solve(V,x0)\n",
    "    C = np.diag(c)\n",
    "    x = (V@C@np.exp(np.outer(D,t))).T.real\n",
    "    return x"
   ]
  },
  {
   "cell_type": "code",
   "execution_count": 44,
   "id": "1d57227d-2287-4d6f-9179-4f37b61cde76",
   "metadata": {
    "tags": []
   },
   "outputs": [],
   "source": [
    "A = np.array([[1,-1],[5,-3]])\n",
    "D,V = la.eig(A)"
   ]
  },
  {
   "cell_type": "code",
   "execution_count": 45,
   "id": "b9dac6b2-92d2-4ecd-a33c-e4ebd3864392",
   "metadata": {
    "tags": []
   },
   "outputs": [
    {
     "data": {
      "text/plain": [
       "array([-1.+1.j, -1.-1.j])"
      ]
     },
     "execution_count": 45,
     "metadata": {},
     "output_type": "execute_result"
    }
   ],
   "source": [
    "D"
   ]
  },
  {
   "cell_type": "code",
   "execution_count": 37,
   "id": "1c1fdd87-ec8c-4942-bd67-8da96024694a",
   "metadata": {
    "tags": []
   },
   "outputs": [
    {
     "data": {
      "text/plain": [
       "array([[0.36514837+0.18257419j, 0.36514837-0.18257419j],\n",
       "       [0.91287093+0.j        , 0.91287093-0.j        ]])"
      ]
     },
     "execution_count": 37,
     "metadata": {},
     "output_type": "execute_result"
    }
   ],
   "source": [
    "V"
   ]
  },
  {
   "cell_type": "code",
   "execution_count": 38,
   "id": "51a81c32-25b4-46f1-87cb-433261118349",
   "metadata": {
    "tags": []
   },
   "outputs": [],
   "source": [
    "x0 = [1,2]\n",
    "C = la.solve(V,x0)"
   ]
  },
  {
   "cell_type": "code",
   "execution_count": 39,
   "id": "71ef59e3-fe42-4361-99c8-939ad075e20d",
   "metadata": {
    "tags": []
   },
   "outputs": [
    {
     "data": {
      "text/plain": [
       "array([1.09544512-0.54772256j, 1.09544512+0.54772256j])"
      ]
     },
     "execution_count": 39,
     "metadata": {},
     "output_type": "execute_result"
    }
   ],
   "source": [
    "C"
   ]
  },
  {
   "cell_type": "code",
   "execution_count": 46,
   "id": "2e939702-9335-4c50-9945-8044f3f6b643",
   "metadata": {
    "tags": []
   },
   "outputs": [],
   "source": [
    "t = np.linspace(0,5,51)\n",
    "x = (V@np.diag(C)@np.exp(np.outer(D,t))).T.real\n",
    "x1 = odeLS(A,x0,t)"
   ]
  },
  {
   "cell_type": "code",
   "execution_count": 47,
   "id": "b819245a-ca90-4838-b90f-000c8542d714",
   "metadata": {
    "tags": []
   },
   "outputs": [
    {
     "data": {
      "text/plain": [
       "[<matplotlib.lines.Line2D at 0x7fef7a2db0a0>,\n",
       " <matplotlib.lines.Line2D at 0x7fef7a2db130>]"
      ]
     },
     "execution_count": 47,
     "metadata": {},
     "output_type": "execute_result"
    },
    {
     "data": {
      "image/png": "[encoded data removed]",
      "text/plain": [
       "<Figure size 640x480 with 1 Axes>"
      ]
     },
     "metadata": {},
     "output_type": "display_data"
    }
   ],
   "source": [
    "plt.plot(t,x)\n",
    "plt.plot(t,x1,'.')"
   ]
  },
  {
   "cell_type": "code",
   "execution_count": null,
   "id": "cfb5e537-d5fc-4c4f-9b39-b995d3f56f0e",
   "metadata": {},
   "outputs": [],
   "source": []
  }
 ],
 "metadata": {
  "kernelspec": {
   "display_name": "Python 3 (ipykernel)",
   "language": "python",
   "name": "python3"
  },
  "language_info": {
   "codemirror_mode": {
    "name": "ipython",
    "version": 3
   },
   "file_extension": ".py",
   "mimetype": "text/x-python",
   "name": "python",
   "nbconvert_exporter": "python",
   "pygments_lexer": "ipython3",
   "version": "3.10.12"
  }
 },
 "nbformat": 4,
 "nbformat_minor": 5
}
