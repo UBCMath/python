{
 "cells": [
  {
   "cell_type": "markdown",
   "id": "b45effde-b455-424d-b91f-4e508604aa0a",
   "metadata": {},
   "source": [
    "# Computing with PuLP\n",
    "\n",
    "[PuLP](https://coin-or.github.io/pulp/) is a Python package for computing solutions of linear programming problems. Let's learn how to setup a problem with variables and constraints and how to call the solvers to find optimial solutions."
   ]
  },
  {
   "cell_type": "code",
   "execution_count": 1,
   "id": "e675d63b-6b16-407a-8873-66d16d5336a1",
   "metadata": {},
   "outputs": [],
   "source": [
    "from pulp import *"
   ]
  },
  {
   "cell_type": "markdown",
   "id": "0733d7a7-b985-44a0-bf60-e03d4c94d26b",
   "metadata": {},
   "source": [
    "## Example\n",
    "\n",
    "Consider the following linear programming problem in standard form:\n",
    "\n",
    "$$\n",
    "\\begin{array}{rc}\n",
    "\\text{maximize:} & 5x_1 + 4x_2 + 3x_3 \\\\\n",
    "\\text{subject to:} & 2x_1 + 3x_2 + x_3 \\leq 5 \\\\\n",
    "& 4x_1 + x_2 + 2x_3 \\leq 11 \\\\\n",
    "& 3x_1 +4x_2 +2x_3 \\leq 8 \\\\\n",
    "& x_1, x_2, x_3 \\geq 0\n",
    "\\end{array}\n",
    "$$\n",
    "\n",
    "The function $f(x_1,x_2,x_3) = 5x_1 + 4x_2 + 3x_3$ is called the **objective function**. The inequalities are **constraints**. Our goal is to find values $x_1$, $x_2$, $x_3$ which maxmize the objective function and which satisfies all the contraints."
   ]
  },
  {
   "cell_type": "markdown",
   "id": "bce10cb4-838b-46e1-abd8-7cec8bd59cd8",
   "metadata": {},
   "source": [
    "## Define the Problem\n",
    "\n",
    "We begin by defining a problem object using the function `LpProblem`:"
   ]
  },
  {
   "cell_type": "code",
   "execution_count": 2,
   "id": "a1e44805-4e71-46f3-9412-92f9fb7498bc",
   "metadata": {},
   "outputs": [],
   "source": [
    "problem = LpProblem(\"Example\",LpMaximize)"
   ]
  },
  {
   "cell_type": "markdown",
   "id": "bcc8fed1-6ba8-443d-b17d-9224f2943d36",
   "metadata": {},
   "source": [
    "where:\n",
    "\n",
    "* `\"Example\"` is the name of the problem\n",
    "* `LpMaximize` sets the objective to a maximization problem (as ooposed to `LpMinimize`)\n",
    "* `LpProblem` creates a `pulp` problem object and we save it to a variable called `problem`\n",
    "\n",
    "Note that `LpMaximize` is literally the integer value `-1`:"
   ]
  },
  {
   "cell_type": "code",
   "execution_count": 3,
   "id": "635f2fe3-3bf0-4d02-8fa0-86571fcbbd87",
   "metadata": {},
   "outputs": [
    {
     "name": "stdout",
     "output_type": "stream",
     "text": [
      "-1\n"
     ]
    }
   ],
   "source": [
    "print(LpMaximize)"
   ]
  },
  {
   "cell_type": "code",
   "execution_count": 4,
   "id": "441c69a3-c7c7-413d-befb-5b3cbb1139fe",
   "metadata": {},
   "outputs": [
    {
     "data": {
      "text/plain": [
       "int"
      ]
     },
     "execution_count": 4,
     "metadata": {},
     "output_type": "execute_result"
    }
   ],
   "source": [
    "type(LpMaximize)"
   ]
  },
  {
   "cell_type": "markdown",
   "id": "985f2cb4-e8eb-436b-81cc-b2b4b73ae812",
   "metadata": {},
   "source": [
    "And `LpMinimize` is the integer value `1`:"
   ]
  },
  {
   "cell_type": "code",
   "execution_count": 5,
   "id": "2fb4ccf7-3d04-47a9-884a-d646ad33dd52",
   "metadata": {},
   "outputs": [
    {
     "name": "stdout",
     "output_type": "stream",
     "text": [
      "1\n"
     ]
    }
   ],
   "source": [
    "print(LpMinimize)"
   ]
  },
  {
   "cell_type": "code",
   "execution_count": 6,
   "id": "c63cd390-e0a0-4417-8900-2917d848b605",
   "metadata": {},
   "outputs": [
    {
     "data": {
      "text/plain": [
       "int"
      ]
     },
     "execution_count": 6,
     "metadata": {},
     "output_type": "execute_result"
    }
   ],
   "source": [
    "type(LpMinimize)"
   ]
  },
  {
   "cell_type": "markdown",
   "id": "e1b8b312-8185-41b9-9318-fb6a94188c87",
   "metadata": {},
   "source": [
    "Therefore we could write equivalently:"
   ]
  },
  {
   "cell_type": "code",
   "execution_count": 7,
   "id": "2d2f40f6-41eb-49cc-874c-d14e4eb92335",
   "metadata": {},
   "outputs": [],
   "source": [
    "problem = LpProblem(\"Example\",-1)"
   ]
  },
  {
   "cell_type": "markdown",
   "id": "591883e0-cb38-4954-b54e-37473f74fe0b",
   "metadata": {},
   "source": [
    "But the variable `LpMaximize` makes the `pulp` code more explicit."
   ]
  },
  {
   "cell_type": "markdown",
   "id": "4c3f3f73-e704-4f73-9554-d73fb91ff39f",
   "metadata": {},
   "source": [
    "## Define Variables\n",
    "\n",
    "Define variables using the function `LpVariable`:\n",
    "\n",
    "```\n",
    "x = LpVariable(\"varName\",lowBound,upBound,cat)\n",
    "```\n",
    "\n",
    "where:\n",
    "\n",
    "* `x` is the Python variable we use to reference the `pulp` variable\n",
    "* `varName` is the name we choose for the variable\n",
    "* `lowBound` is a lower bound (default is `None`)\n",
    "* `upBound` is an upper bound (default is `None`)\n",
    "* `cat` is the category of variable: `Continuous`, `Integer` or `Binary` (default is `Continuous`)\n",
    "\n",
    "For example, we could create a continuous variable with no bounds:"
   ]
  },
  {
   "cell_type": "code",
   "execution_count": 8,
   "id": "359254b3-604f-4f65-b91a-5af12a141406",
   "metadata": {},
   "outputs": [],
   "source": [
    "x = LpVariable(\"xVariable\")"
   ]
  },
  {
   "cell_type": "code",
   "execution_count": 9,
   "id": "da405e42-f160-413b-8577-893461ace987",
   "metadata": {},
   "outputs": [
    {
     "name": "stdout",
     "output_type": "stream",
     "text": [
      "xVariable\n"
     ]
    }
   ],
   "source": [
    "print(x.name)"
   ]
  },
  {
   "cell_type": "code",
   "execution_count": 10,
   "id": "5e5a99ee-97ff-4a43-b1f8-5ffba7f9d08c",
   "metadata": {},
   "outputs": [
    {
     "name": "stdout",
     "output_type": "stream",
     "text": [
      "None\n"
     ]
    }
   ],
   "source": [
    "print(x.lowBound)"
   ]
  },
  {
   "cell_type": "code",
   "execution_count": 11,
   "id": "82ceb4ea-1c93-4981-af07-abf17f81a9e2",
   "metadata": {},
   "outputs": [
    {
     "name": "stdout",
     "output_type": "stream",
     "text": [
      "None\n"
     ]
    }
   ],
   "source": [
    "print(x.upBound)"
   ]
  },
  {
   "cell_type": "code",
   "execution_count": 12,
   "id": "929ee049-ac79-4ae0-9f02-03bedb0dc1fe",
   "metadata": {},
   "outputs": [
    {
     "name": "stdout",
     "output_type": "stream",
     "text": [
      "Continuous\n"
     ]
    }
   ],
   "source": [
    "print(x.cat)"
   ]
  },
  {
   "cell_type": "markdown",
   "id": "51ba1830-2f82-436e-adbb-310e15fdc6bd",
   "metadata": {},
   "source": [
    "Let's create the variables for our example problem and include the lower bounds:"
   ]
  },
  {
   "cell_type": "code",
   "execution_count": 13,
   "id": "b690e772-6526-4faa-a3e1-9464eed08e19",
   "metadata": {},
   "outputs": [],
   "source": [
    "x1 = LpVariable(\"x1\",0)\n",
    "x2 = LpVariable(\"x2\",0)\n",
    "x3 = LpVariable(\"x3\",0)"
   ]
  },
  {
   "cell_type": "code",
   "execution_count": null,
   "id": "ecf0f131-e144-48b2-8dc6-9a4686fa59c4",
   "metadata": {},
   "outputs": [],
   "source": []
  },
  {
   "cell_type": "markdown",
   "id": "ffe00622-c70e-40ca-8c6c-89a34def624a",
   "metadata": {},
   "source": [
    "## Add Objective Function\n",
    "\n",
    "We treat a `pulp` problem object as a list-type object and *append* the objective and constraints using the `+=` operator. For example, use the variables we defined above for our example problem:"
   ]
  },
  {
   "cell_type": "code",
   "execution_count": 14,
   "id": "a0de38cc-1415-492b-8d1d-7dc0d1e4c762",
   "metadata": {},
   "outputs": [],
   "source": [
    "problem += 5*x1 + 4*x2 + 3*x3"
   ]
  },
  {
   "cell_type": "markdown",
   "id": "86b22f54-32cc-4ed0-9ecf-aff6d0673075",
   "metadata": {},
   "source": [
    "Print the problem object to see its current formulation:"
   ]
  },
  {
   "cell_type": "code",
   "execution_count": 15,
   "id": "b9682516-093c-494c-8e38-c4d818522817",
   "metadata": {},
   "outputs": [
    {
     "name": "stdout",
     "output_type": "stream",
     "text": [
      "Example:\n",
      "MAXIMIZE\n",
      "5*x1 + 4*x2 + 3*x3 + 0\n",
      "VARIABLES\n",
      "x1 Continuous\n",
      "x2 Continuous\n",
      "x3 Continuous\n",
      "\n"
     ]
    }
   ],
   "source": [
    "print(problem)"
   ]
  },
  {
   "cell_type": "markdown",
   "id": "e25c62e9-3315-465d-bd12-feb564601e65",
   "metadata": {},
   "source": [
    "## Add Constraints\n",
    "\n",
    "Use the operator `+=` to append constraints to the problem. Constraints are expressions involving the variables which represent the linear inequalities:"
   ]
  },
  {
   "cell_type": "code",
   "execution_count": 16,
   "id": "39a3107b-f326-41ed-aa6c-66d9cdbf6840",
   "metadata": {},
   "outputs": [
    {
     "name": "stdout",
     "output_type": "stream",
     "text": [
      "Example:\n",
      "MAXIMIZE\n",
      "5*x1 + 4*x2 + 3*x3 + 0\n",
      "SUBJECT TO\n",
      "_C1: 2 x1 + 3 x2 + x3 <= 5\n",
      "\n",
      "_C2: 4 x1 + x2 + 2 x3 <= 11\n",
      "\n",
      "_C3: 3 x1 + 4 x2 + 2 x3 <= 8\n",
      "\n",
      "VARIABLES\n",
      "x1 Continuous\n",
      "x2 Continuous\n",
      "x3 Continuous\n",
      "\n"
     ]
    }
   ],
   "source": [
    "problem += 2*x1 + 3*x2 + x3 <= 5\n",
    "problem += 4*x1 + x2 + 2*x3 <= 11\n",
    "problem += 3*x1 + 4*x2 + 2*x3 <= 8\n",
    "\n",
    "print(problem)"
   ]
  },
  {
   "cell_type": "markdown",
   "id": "4167d39b-e4c5-4013-b05d-da43576a3ef9",
   "metadata": {},
   "source": [
    "## Solve\n",
    "\n",
    "Call the method `.solve()` on the problem to compute the optimal solution (if it exists):"
   ]
  },
  {
   "cell_type": "code",
   "execution_count": 24,
   "id": "5f664d0b-504c-415e-97bd-ed31e93c2b63",
   "metadata": {},
   "outputs": [
    {
     "name": "stdout",
     "output_type": "stream",
     "text": [
      "Welcome to the CBC MILP Solver \n",
      "Version: 2.10.3 \n",
      "Build Date: Dec 15 2019 \n",
      "\n",
      "command line - /opt/miniconda3/lib/python3.13/site-packages/pulp/apis/../solverdir/cbc/osx/i64/cbc /var/folders/2h/25vcwmr52mvfqs1h92028rph0000gn/T/0da9418903a248649d39a564505d05ff-pulp.mps -max -timeMode elapsed -branch -printingOptions all -solution /var/folders/2h/25vcwmr52mvfqs1h92028rph0000gn/T/0da9418903a248649d39a564505d05ff-pulp.sol (default strategy 1)\n",
      "At line 2 NAME          MODEL\n",
      "At line 3 ROWS\n",
      "At line 8 COLUMNS\n",
      "At line 21 RHS\n",
      "At line 25 BOUNDS\n",
      "At line 26 ENDATA\n",
      "Problem MODEL has 3 rows, 3 columns and 9 elements\n",
      "Coin0008I MODEL read with 0 errors\n",
      "Option for timeMode changed from cpu to elapsed\n",
      "Presolve 3 (0) rows, 3 (0) columns and 9 (0) elements\n",
      "0  Obj -0 Dual inf 15 (3)\n",
      "0  Obj -0 Dual inf 15 (3)\n",
      "2  Obj 13\n",
      "Optimal - objective value 13\n",
      "Optimal objective 13 - 2 iterations time 0.002\n",
      "Option for printingOptions changed from normal to all\n",
      "Total time (CPU seconds):       0.00   (Wallclock seconds):       0.02\n",
      "\n"
     ]
    },
    {
     "data": {
      "text/plain": [
       "1"
      ]
     },
     "execution_count": 24,
     "metadata": {},
     "output_type": "execute_result"
    }
   ],
   "source": [
    "problem.solve()"
   ]
  },
  {
   "cell_type": "markdown",
   "id": "a5a61661-2c53-4341-83e3-e5bb5ae83a96",
   "metadata": {},
   "source": [
    "Inspect the status of the problem. The dictionary object `LpStatus` translates the value:"
   ]
  },
  {
   "cell_type": "code",
   "execution_count": 27,
   "id": "c7b7be76-577e-4271-a468-694560cee423",
   "metadata": {},
   "outputs": [
    {
     "data": {
      "text/plain": [
       "1"
      ]
     },
     "execution_count": 27,
     "metadata": {},
     "output_type": "execute_result"
    }
   ],
   "source": [
    "problem.status"
   ]
  },
  {
   "cell_type": "code",
   "execution_count": 28,
   "id": "eebd4401-0efe-4b75-bd04-0af85f3d2b45",
   "metadata": {},
   "outputs": [
    {
     "data": {
      "text/plain": [
       "{0: 'Not Solved',\n",
       " 1: 'Optimal',\n",
       " -1: 'Infeasible',\n",
       " -2: 'Unbounded',\n",
       " -3: 'Undefined'}"
      ]
     },
     "execution_count": 28,
     "metadata": {},
     "output_type": "execute_result"
    }
   ],
   "source": [
    "LpStatus"
   ]
  },
  {
   "cell_type": "code",
   "execution_count": 29,
   "id": "4fba5aad-e094-47ba-a384-58966732e5f8",
   "metadata": {},
   "outputs": [
    {
     "data": {
      "text/plain": [
       "'Optimal'"
      ]
     },
     "execution_count": 29,
     "metadata": {},
     "output_type": "execute_result"
    }
   ],
   "source": [
    "LpStatus[problem.status]"
   ]
  },
  {
   "cell_type": "markdown",
   "id": "e9f91e54-b755-48bd-835f-65aafe7b3404",
   "metadata": {},
   "source": [
    "Therefore the solution computed by the solver is optimal. Let's inspect the value of each of the variables and the objective function:"
   ]
  },
  {
   "cell_type": "code",
   "execution_count": 31,
   "id": "43efdc59-b317-48ea-9876-73f7d5ab2566",
   "metadata": {},
   "outputs": [
    {
     "data": {
      "text/plain": [
       "2.0"
      ]
     },
     "execution_count": 31,
     "metadata": {},
     "output_type": "execute_result"
    }
   ],
   "source": [
    "x1.value()"
   ]
  },
  {
   "cell_type": "code",
   "execution_count": 32,
   "id": "c90b2caf-16e7-4a58-9392-db074171a958",
   "metadata": {},
   "outputs": [
    {
     "data": {
      "text/plain": [
       "0.0"
      ]
     },
     "execution_count": 32,
     "metadata": {},
     "output_type": "execute_result"
    }
   ],
   "source": [
    "x2.value()"
   ]
  },
  {
   "cell_type": "code",
   "execution_count": 33,
   "id": "594993d1-215e-467c-95fc-4e2cf908999b",
   "metadata": {},
   "outputs": [
    {
     "data": {
      "text/plain": [
       "1.0"
      ]
     },
     "execution_count": 33,
     "metadata": {},
     "output_type": "execute_result"
    }
   ],
   "source": [
    "x3.value()"
   ]
  },
  {
   "cell_type": "code",
   "execution_count": 34,
   "id": "cee1849f-9e27-4634-875e-a5beefd88e7a",
   "metadata": {},
   "outputs": [
    {
     "data": {
      "text/plain": [
       "13.0"
      ]
     },
     "execution_count": 34,
     "metadata": {},
     "output_type": "execute_result"
    }
   ],
   "source": [
    "problem.objective.value()"
   ]
  },
  {
   "cell_type": "markdown",
   "id": "146a2186-38c0-4486-8ab5-18544ac28398",
   "metadata": {},
   "source": [
    "## Put It All Together\n",
    "\n",
    "Let's combine all the code into a single cell to see how it all works:"
   ]
  },
  {
   "cell_type": "code",
   "execution_count": 41,
   "id": "662e2f66-bf0a-4841-a4e4-7f26bedcfaac",
   "metadata": {},
   "outputs": [
    {
     "name": "stdout",
     "output_type": "stream",
     "text": [
      "Welcome to the CBC MILP Solver \n",
      "Version: 2.10.3 \n",
      "Build Date: Dec 15 2019 \n",
      "\n",
      "command line - /opt/miniconda3/lib/python3.13/site-packages/pulp/apis/../solverdir/cbc/osx/i64/cbc /var/folders/2h/25vcwmr52mvfqs1h92028rph0000gn/T/b27f73ae26f14e90889455e90e3f0b6e-pulp.mps -max -timeMode elapsed -branch -printingOptions all -solution /var/folders/2h/25vcwmr52mvfqs1h92028rph0000gn/T/b27f73ae26f14e90889455e90e3f0b6e-pulp.sol (default strategy 1)\n",
      "At line 2 NAME          MODEL\n",
      "At line 3 ROWS\n",
      "At line 8 COLUMNS\n",
      "At line 21 RHS\n",
      "At line 25 BOUNDS\n",
      "At line 26 ENDATA\n",
      "Problem MODEL has 3 rows, 3 columns and 9 elements\n",
      "Coin0008I MODEL read with 0 errors\n",
      "Option for timeMode changed from cpu to elapsed\n",
      "Presolve 3 (0) rows, 3 (0) columns and 9 (0) elements\n",
      "0  Obj -0 Dual inf 15 (3)\n",
      "0  Obj -0 Dual inf 15 (3)\n",
      "2  Obj 13\n",
      "Optimal - objective value 13\n",
      "Optimal objective 13 - 2 iterations time 0.002\n",
      "Option for printingOptions changed from normal to all\n",
      "Total time (CPU seconds):       0.00   (Wallclock seconds):       0.02\n",
      "\n",
      "Status : Optimal\n",
      "x1 : 2.0\n",
      "x2 : 2.0\n",
      "x3 : 2.0\n",
      "Objective : 13.0\n"
     ]
    }
   ],
   "source": [
    "# Initialize the problem\n",
    "problem = LpProblem(\"Example\",LpMaximize)\n",
    "\n",
    "# Define variables (each with lower bound 0)\n",
    "x1 = LpVariable(\"x1\",0)\n",
    "x2 = LpVariable(\"x2\",0)\n",
    "x3 = LpVariable(\"x3\",0)\n",
    "\n",
    "# Define objective function\n",
    "problem += 5*x1 + 4*x2 + 3*x3\n",
    "\n",
    "# Define constraints\n",
    "problem += 2*x1 + 3*x2 + x3 <= 5\n",
    "problem += 4*x1 + x2 + 2*x3 <= 11\n",
    "problem += 3*x1 + 4*x2 + 2*x3 <= 8\n",
    "\n",
    "# Solve and inspect status\n",
    "problem.solve()\n",
    "print(\"Status :\", LpStatus[problem.status])\n",
    "\n",
    "# Inspect optimal values of variables and objective function\n",
    "print(x1.name,\":\",x1.value())\n",
    "print(x2.name,\":\",x2.value())\n",
    "print(x3.name,\":\",x3.value())\n",
    "print(\"Objective :\",problem.objective.value())"
   ]
  }
 ],
 "metadata": {
  "kernelspec": {
   "display_name": "Python 3 (ipykernel)",
   "language": "python",
   "name": "python3"
  },
  "language_info": {
   "codemirror_mode": {
    "name": "ipython",
    "version": 3
   },
   "file_extension": ".py",
   "mimetype": "text/x-python",
   "name": "python",
   "nbconvert_exporter": "python",
   "pygments_lexer": "ipython3",
   "version": "3.13.2"
  }
 },
 "nbformat": 4,
 "nbformat_minor": 5
}
