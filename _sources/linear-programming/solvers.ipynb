{
 "cells": [
  {
   "cell_type": "markdown",
   "id": "0f7c98ad-95ad-458d-aaec-a2d974377745",
   "metadata": {},
   "source": [
    "# LP Solvers"
   ]
  },
  {
   "cell_type": "code",
   "execution_count": 1,
   "id": "6ecbe535-c592-4074-b63d-9924251660b0",
   "metadata": {
    "tags": []
   },
   "outputs": [],
   "source": [
    "import numpy as np\n",
    "import matplotlib.pyplot as plt"
   ]
  },
  {
   "cell_type": "markdown",
   "id": "22733d19-7ff5-440f-a55e-9bf449a1f13a",
   "metadata": {},
   "source": [
    "## SciPy Solver\n",
    "\n",
    "[SciPy](https://scipy.org) is a library of Python packages for scientific computing. The subackage `scipy.optimize` includes the function `linprog` to compute solutions of linear optimization problems. See the [SciPy tutorial on optimization](https://docs.scipy.org/doc/scipy/tutorial/optimize.html)."
   ]
  },
  {
   "cell_type": "code",
   "execution_count": 20,
   "id": "546e5a69-b1d4-4c93-ad84-3dd28911e252",
   "metadata": {},
   "outputs": [],
   "source": [
    "from scipy.optimize import linprog"
   ]
  },
  {
   "cell_type": "markdown",
   "id": "bf655246-a7a5-4a33-9a11-6cd155470bcf",
   "metadata": {},
   "source": [
    "Note that the function `linprog` assumes the objective function is to be **minimized** therefore we should enter our objective functions as $-\\mathbf{c}$."
   ]
  },
  {
   "cell_type": "markdown",
   "id": "c1730efa-164d-4536-965b-66a71a985dba",
   "metadata": {},
   "source": [
    "Compute the solutions of the examples above."
   ]
  },
  {
   "cell_type": "code",
   "execution_count": 21,
   "id": "6dfdef0b-ccc4-4a5d-a440-23733ba8a4b5",
   "metadata": {
    "tags": []
   },
   "outputs": [],
   "source": [
    "A = np.array([[0,2,3],[1,1,2],[1,2,3]])\n",
    "b = np.array([5,4,7])\n",
    "c = np.array([2,3,4])"
   ]
  },
  {
   "cell_type": "code",
   "execution_count": 22,
   "id": "5ee6f1cf-225d-4e46-9fce-102e7db34037",
   "metadata": {
    "tags": []
   },
   "outputs": [],
   "source": [
    "result = linprog(-c,A_ub=A,b_ub=b)"
   ]
  },
  {
   "cell_type": "code",
   "execution_count": 23,
   "id": "3cde5b23-b849-4b0b-9bc4-ccb6903df98c",
   "metadata": {
    "tags": []
   },
   "outputs": [
    {
     "data": {
      "text/plain": [
       "scipy.optimize._optimize.OptimizeResult"
      ]
     },
     "execution_count": 23,
     "metadata": {},
     "output_type": "execute_result"
    }
   ],
   "source": [
    "type(result)"
   ]
  },
  {
   "cell_type": "code",
   "execution_count": 24,
   "id": "463ea72e-9ad0-44ff-be42-bd1c275efbd2",
   "metadata": {
    "tags": []
   },
   "outputs": [
    {
     "data": {
      "text/plain": [
       "array([1.5, 2.5, 0. ])"
      ]
     },
     "execution_count": 24,
     "metadata": {},
     "output_type": "execute_result"
    }
   ],
   "source": [
    "result.x"
   ]
  },
  {
   "cell_type": "code",
   "execution_count": 25,
   "id": "72490dc4-cbc7-4670-8591-c516755c1f25",
   "metadata": {
    "tags": []
   },
   "outputs": [
    {
     "data": {
      "text/plain": [
       "        message: Optimization terminated successfully. (HiGHS Status 7: Optimal)\n",
       "        success: True\n",
       "         status: 0\n",
       "            fun: -10.5\n",
       "              x: [ 1.500e+00  2.500e+00  0.000e+00]\n",
       "            nit: 3\n",
       "          lower:  residual: [ 1.500e+00  2.500e+00  0.000e+00]\n",
       "                 marginals: [ 0.000e+00  0.000e+00  1.500e+00]\n",
       "          upper:  residual: [       inf        inf        inf]\n",
       "                 marginals: [ 0.000e+00  0.000e+00  0.000e+00]\n",
       "          eqlin:  residual: []\n",
       "                 marginals: []\n",
       "        ineqlin:  residual: [ 0.000e+00  0.000e+00  5.000e-01]\n",
       "                 marginals: [-5.000e-01 -2.000e+00 -0.000e+00]\n",
       " mip_node_count: 0\n",
       " mip_dual_bound: 0.0\n",
       "        mip_gap: 0.0"
      ]
     },
     "execution_count": 25,
     "metadata": {},
     "output_type": "execute_result"
    }
   ],
   "source": [
    "result"
   ]
  },
  {
   "cell_type": "code",
   "execution_count": 27,
   "id": "e7f185c5-ced6-4c6b-bcf8-3b075dae6459",
   "metadata": {
    "tags": []
   },
   "outputs": [
    {
     "data": {
      "text/plain": [
       "        message: Optimization terminated successfully. (HiGHS Status 7: Optimal)\n",
       "        success: True\n",
       "         status: 0\n",
       "            fun: 3.0\n",
       "              x: [ 0.000e+00  5.000e-01  1.500e+00]\n",
       "            nit: 3\n",
       "          lower:  residual: [ 0.000e+00  5.000e-01  1.500e+00]\n",
       "                 marginals: [ 1.000e+00  0.000e+00  0.000e+00]\n",
       "          upper:  residual: [       inf        inf        inf]\n",
       "                 marginals: [ 0.000e+00  0.000e+00  0.000e+00]\n",
       "          eqlin:  residual: []\n",
       "                 marginals: []\n",
       "        ineqlin:  residual: [ 0.000e+00  0.000e+00]\n",
       "                 marginals: [-3.000e+00 -3.000e+00]\n",
       " mip_node_count: 0\n",
       " mip_dual_bound: 0.0\n",
       "        mip_gap: 0.0"
      ]
     },
     "execution_count": 27,
     "metadata": {},
     "output_type": "execute_result"
    }
   ],
   "source": [
    "A = np.array([[-1,-1,-1],[2,-1,1]])\n",
    "b = np.array([-2,1])\n",
    "c = np.array([2,-6,0])\n",
    "result = linprog(-c,A_ub=A,b_ub=b)\n",
    "result"
   ]
  },
  {
   "cell_type": "markdown",
   "id": "4138f471-50eb-4c3c-af8d-293b0f244a2d",
   "metadata": {},
   "source": [
    "## Optimal Transport\n",
    "\n",
    "There are $n$ supply nodes and $m$ demand nodes. The cost to transport from supply node $i$ to demand node $j$ is proportional to the distance. The supply available at node $i$ is $s_i$. The supply transported to node $j$ is $d_j$. The total supply is equal to the total demand.\n",
    "\n",
    "Let $x_{ij}$ be the supply delivered from node $i$ to node $j$.\n",
    "\n",
    "Objective function is $\\sum_{i,j} c_{ij} x_{ij}$ where $c_{ij}$ is the distance from supply node $i$ to demand node $j$.\n",
    "\n",
    "Demand constraints:\n",
    "\n",
    "$$\n",
    "\\sum_{i} x_{ij} = d_j , j=0,\\dots,m-1\n",
    "$$\n",
    "\n",
    "Supply constraints:\n",
    "\n",
    "$$\n",
    "\\sum_{j} x_{ij} = s_i , i=0,\\dots,n-1\n",
    "$$\n",
    "\n",
    "**Question.** What is the matrix $A$ and vector $\\mathbf{b}$ for this problem in standard form?"
   ]
  },
  {
   "cell_type": "code",
   "execution_count": 31,
   "id": "d5decfbf-fb0a-4f4d-8501-22816b392af6",
   "metadata": {
    "tags": []
   },
   "outputs": [
    {
     "data": {
      "image/png": "[encoded data removed]",
      "text/plain": [
       "<Figure size 640x480 with 1 Axes>"
      ]
     },
     "metadata": {},
     "output_type": "display_data"
    }
   ],
   "source": [
    "n = 3\n",
    "m = 5\n",
    "supply_nodes = np.random.randn(2,n)\n",
    "supply = np.random.rand(n)\n",
    "plt.scatter(supply_nodes[0,:],supply_nodes[1,:],s=200*supply)\n",
    "demand_nodes = np.random.randn(2,m)\n",
    "demand = np.random.rand(m)\n",
    "demand = demand/np.sum(demand)*np.sum(supply)\n",
    "plt.scatter(demand_nodes[0,:],demand_nodes[1,:],s=200*demand)\n",
    "plt.grid(True)\n",
    "plt.show()"
   ]
  }
 ],
 "metadata": {
  "kernelspec": {
   "display_name": "Python 3 (ipykernel)",
   "language": "python",
   "name": "python3"
  },
  "language_info": {
   "codemirror_mode": {
    "name": "ipython",
    "version": 3
   },
   "file_extension": ".py",
   "mimetype": "text/x-python",
   "name": "python",
   "nbconvert_exporter": "python",
   "pygments_lexer": "ipython3",
   "version": "3.10.12"
  }
 },
 "nbformat": 4,
 "nbformat_minor": 5
}
