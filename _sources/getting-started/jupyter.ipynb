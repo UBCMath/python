{
 "cells": [
  {
   "cell_type": "markdown",
   "id": "1093e795-d794-4fe1-9a7b-e2684ab25e17",
   "metadata": {},
   "source": [
    "# JupyterLab\n",
    "\n",
    "## Jupyter Notebook\n",
    "\n",
    "A [Jupyter](https://jupyter.org) notebook is a computational document in which we run [Python](https://www.python.org) code, write math equations with [LaTeX](https://www.latex-project.org) and write explanatory text in [markdown](https://daringfireball.net/projects/markdown/). A Jupyter noteobok has file extension `.ipynb` and is in JSON format in its raw form.\n",
    "\n",
    "## Syzygy and JupyterLab\n",
    "\n",
    "[JupyterLab](https://jupyter.org) is a development environment for creating and managing Jupyter notebooks. [Syzygy](https://ubc.syzygy.ca) runs JupyterLab and hosts Jupyter notebooks in the cloud for all UBC students, faculty and staff. Login to Syzygy with your UBC CWL to get started! Once you login you should see the JupyterLab interface:\n",
    "\n",
    "1. Click **Notebook > Python 3 (ipykernel)** in the **Launcher** window to create a new Jupyter notebook \n",
    "2. Manage files and folders in the **Current Folder** window\n",
    "3. Click icons at the top of the **Current Folder** window to:\n",
    "   * Open a **Launcher** window\n",
    "   * Create a new folder\n",
    "   * Upload files\n",
    "   * Refresh the **Current Folder** window\n",
    "\n",
    "![jupyter.png](../img/jupyter.png)\n",
    "\n",
    "## Kernels\n",
    "\n",
    "Every time you open a Jupyter notebook a kernel is launched in JupyterLab. A kernel is a process that runs the Python code in your Jupyter notebook. Click the stop button icon on the left to view open kernels. **It is important to shutdown the kernel when you close a notebook!**\n",
    "\n",
    "![jupyter2.png](../img/jupyter2.png)\n",
    "\n",
    "## Anaconda\n",
    "\n",
    "See the [Anaconda Distribution](https://www.anaconda.com/download) to install Python and Jupyter on your own machine!"
   ]
  }
 ],
 "metadata": {
  "kernelspec": {
   "display_name": "Python 3 (ipykernel)",
   "language": "python",
   "name": "python3"
  },
  "language_info": {
   "codemirror_mode": {
    "name": "ipython",
    "version": 3
   },
   "file_extension": ".py",
   "mimetype": "text/x-python",
   "name": "python",
   "nbconvert_exporter": "python",
   "pygments_lexer": "ipython3",
   "version": "3.10.12"
  }
 },
 "nbformat": 4,
 "nbformat_minor": 5
}
