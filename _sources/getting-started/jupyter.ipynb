{
 "cells": [
  {
   "cell_type": "markdown",
   "id": "77cc701b-76a6-4cd1-b7b2-f46aae2eea7f",
   "metadata": {},
   "source": [
    "# Python and Jupyter\n",
    "\n",
    "A [Jupyter](https://jupyter.org) notebook is a computational document in which we run [Python](https://www.python.org) code, write math equations with [LaTeX](https://www.latex-project.org) and write explanatory text in [markdown](https://daringfireball.net/projects/markdown/). A Jupyter noteobok has file extension `.ipynb` and is in JSON format in its raw form.\n",
    "\n",
    ":::{seealso}\n",
    "Check out [Mathematical Python](https://patrickwalls.github.io/mathematicalpython/) for a comprehensive introduction to Python and Jupyter for mathematical computing.\n",
    ":::"
   ]
  },
  {
   "cell_type": "markdown",
   "id": "0342ef65-2869-4f19-842a-4dfdd0b65b51",
   "metadata": {},
   "source": [
    "## Syzygy\n",
    "\n",
    "[Syzygy](https://ubc.syzygy.ca) hosts Jupyter notebooks in the cloud for all UBC students, faculty and staff.\n",
    "\n",
    ":::{seealso}\n",
    "Login to [ubc.syzygy.ca](https://ubc.syzygy.ca) with your UBC CWL to get started!\n",
    ":::"
   ]
  },
  {
   "cell_type": "markdown",
   "id": "c179a938-3816-4728-82b9-170068806633",
   "metadata": {},
   "source": [
    "## JupyterLab\n",
    "\n",
    "[JupyterLab](https://jupyter.org) is a development environment for creating and managing Jupyter notebooks. Once you login to Syzygy, you should see the JupyterLab interface:\n",
    "\n",
    "1. Click **Notebook > Python 3 (ipykernel)** in the **Launcher** window to create a new Jupyter notebook \n",
    "2. Manage files and folders in the **Current Folder** window\n",
    "3. Click icons at the top of the **Current Folder** window to:\n",
    "   * Open a **Launcher** window\n",
    "   * Create a new folder\n",
    "   * Upload files\n",
    "   * Refresh the **Current Folder** window\n",
    "\n",
    "![jupyter.png](../img/jupyter.png)"
   ]
  },
  {
   "cell_type": "markdown",
   "id": "048a4ceb-bde2-463e-8647-67f909edfe64",
   "metadata": {},
   "source": [
    "## Kernels\n",
    "\n",
    "A new kernel is launched in JupyterLab every time you open a Jupyter notebook. A kernel is a process that runs the Python code in your Jupyter notebook. Click the stop button icon on the left to view open kernels. **It is important to shutdown the kernel when you close a notebook!**\n",
    "\n",
    "![jupyter2.png](../img/jupyter2.png)"
   ]
  },
  {
   "cell_type": "markdown",
   "id": "bc06785e-c408-4474-aebd-4be569d9706f",
   "metadata": {},
   "source": [
    "## Anaconda\n",
    "\n",
    "See the [Anaconda Distribution](https://www.anaconda.com/download) to install Python and Jupyter on your own machine!"
   ]
  }
 ],
 "metadata": {
  "kernelspec": {
   "display_name": "Python 3 (ipykernel)",
   "language": "python",
   "name": "python3"
  },
  "language_info": {
   "codemirror_mode": {
    "name": "ipython",
    "version": 3
   },
   "file_extension": ".py",
   "mimetype": "text/x-python",
   "name": "python",
   "nbconvert_exporter": "python",
   "pygments_lexer": "ipython3",
   "version": "3.10.12"
  }
 },
 "nbformat": 4,
 "nbformat_minor": 5
}
