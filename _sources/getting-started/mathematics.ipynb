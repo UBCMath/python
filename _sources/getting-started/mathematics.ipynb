{
 "cells": [
  {
   "cell_type": "markdown",
   "id": "0bb86649-fe6d-4722-af99-ad7ecfd2d449",
   "metadata": {},
   "source": [
    "# Elementary Mathematics\n",
    "\n",
    "We can use Python to solve all kinds of problems in calculus, linear algebra, differential equations and beyond. Let's take a look at some foundational concepts in Python that are relavant in all branches of mathematics such as numbers, vectors, matrices and functions.\n",
    "\n",
    ":::{seealso}\n",
    "Check out [Mathematical Python > Python](https://patrickwalls.github.io/mathematicalpython/python/numbers/) for more about numbers, variables and functions.\n",
    ":::"
   ]
  },
  {
   "cell_type": "markdown",
   "id": "6345c5ed-3b4c-4482-9c87-0bf79b2c1f46",
   "metadata": {},
   "source": [
    "## NumPy\n",
    "\n",
    "[NumPy](https://numpy.org) is an essential Python package for numerical computations. It includes all the mathematical objects and functions that we need to solve problems in calculus, linear algeabra and differential equations. Import the package with the keyword `import` and use the alias `np`."
   ]
  },
  {
   "cell_type": "code",
   "execution_count": 12,
   "id": "687d1598-772f-498b-b898-713e15747710",
   "metadata": {
    "tags": []
   },
   "outputs": [],
   "source": [
    "import numpy as np"
   ]
  },
  {
   "cell_type": "markdown",
   "id": "1f1559c4-d3d0-4edb-987c-8a68e1cea2a0",
   "metadata": {},
   "source": [
    "## Numbers\n",
    "\n",
    "We can use Python to perform all the usual arithmetic operations:\n",
    "\n",
    "| Operation | Python Syntax |\n",
    "| :---: | :---: |\n",
    "| addition | `+` |\n",
    "| subtraction | `-` |\n",
    "| multiplication | `*` |\n",
    "| division | `/` |\n",
    "| exponentiation | `**` |\n",
    "\n",
    "Let's do an example from calculus. Recall the [Taylor series](https://en.wikipedia.org/wiki/Taylor_series) of the exponential function is:\n",
    "\n",
    "$$\n",
    "e^x = \\sum_{n=0}^{\\infty} \\frac{x^n}{n!} =  1 + x + \\frac{x^2}{2} + \\frac{x^3}{2 \\cdot 3} + \\frac{x^4}{2 \\cdot 3 \\cdot 4} + \\frac{x^5}{2 \\cdot 3 \\cdot 4 \\cdot 5} + \\cdots\n",
    "$$\n",
    "\n",
    "Let's use the first 6 terms of the Taylor series to approximate the value:\n",
    "\n",
    "$$\n",
    "e^{-1/2} = \\frac{1}{\\sqrt{e}} \\approx  1 - (1/2) + \\frac{(1/2)^2}{2} - \\frac{(1/2)^3}{2 \\cdot 3} + \\frac{(1/2)^4}{2 \\cdot 3 \\cdot 4} - \\frac{(1/2)^5}{2 \\cdot 3 \\cdot 4 \\cdot 5}\n",
    "$$"
   ]
  },
  {
   "cell_type": "code",
   "execution_count": 13,
   "id": "c59085ca-8c4e-4116-a5f5-c10e44f7d7b3",
   "metadata": {
    "tags": []
   },
   "outputs": [
    {
     "data": {
      "text/plain": [
       "0.6065104166666666"
      ]
     },
     "execution_count": 13,
     "metadata": {},
     "output_type": "execute_result"
    }
   ],
   "source": [
    "1 - (1/2) + (1/2)**2/2 - (1/2)**3/(2*3) + (1/2)**4/(2*3*4) - (1/2)**5/(2*3*4*5)"
   ]
  },
  {
   "cell_type": "markdown",
   "id": "c04b6d3e-121e-459f-9960-138af15466a4",
   "metadata": {},
   "source": [
    "Note that we group operations together using parentheses `( ... )` in the computation above."
   ]
  },
  {
   "cell_type": "markdown",
   "id": "5968639e-cded-4664-94b6-6aab33b67078",
   "metadata": {},
   "source": [
    "## Constants $\\pi$ and $e$\n",
    "\n",
    "The constant $\\pi$ is entered as `np.pi`:"
   ]
  },
  {
   "cell_type": "code",
   "execution_count": 14,
   "id": "4878e070-01fd-44ea-a1cc-23a14edf9b2f",
   "metadata": {
    "tags": []
   },
   "outputs": [
    {
     "data": {
      "text/plain": [
       "3.141592653589793"
      ]
     },
     "execution_count": 14,
     "metadata": {},
     "output_type": "execute_result"
    }
   ],
   "source": [
    "np.pi"
   ]
  },
  {
   "cell_type": "markdown",
   "id": "04e8cb57-f328-4fd8-8e89-9563e703332f",
   "metadata": {},
   "source": [
    "The constant $e$ is entered as `np.e`:"
   ]
  },
  {
   "cell_type": "code",
   "execution_count": 15,
   "id": "9e3927d0-3c51-45cf-aed9-8d2c2fe9d156",
   "metadata": {
    "tags": []
   },
   "outputs": [
    {
     "data": {
      "text/plain": [
       "2.718281828459045"
      ]
     },
     "execution_count": 15,
     "metadata": {},
     "output_type": "execute_result"
    }
   ],
   "source": [
    "np.e"
   ]
  },
  {
   "cell_type": "markdown",
   "id": "7a7295d6-6487-4943-9cf2-b2e777b7013d",
   "metadata": {},
   "source": [
    "The exponential function $e^x$ is entered as `np.exp` therefore $e=e^1$ is also `np.exp(1)`:"
   ]
  },
  {
   "cell_type": "code",
   "execution_count": 16,
   "id": "6db46cec-33d6-4399-ac5b-94dcefa7caf2",
   "metadata": {
    "tags": []
   },
   "outputs": [
    {
     "data": {
      "text/plain": [
       "2.718281828459045"
      ]
     },
     "execution_count": 16,
     "metadata": {},
     "output_type": "execute_result"
    }
   ],
   "source": [
    "np.exp(1)"
   ]
  },
  {
   "cell_type": "markdown",
   "id": "2d2f65ad-81f9-4275-aa2c-26987b218508",
   "metadata": {},
   "source": [
    "We should use the function `np.exp(x)` when computing values of $e^x$ instead of the exponentiation operation `np.e**x`."
   ]
  },
  {
   "cell_type": "markdown",
   "id": "baae44ed-67b5-4936-a813-25cad199e05d",
   "metadata": {},
   "source": [
    "## Variables\n",
    "\n",
    "Just like the familiar variables $x$ and $y$ in mathematics, we use variables in programming to easily manipulate values. The assignment operator `=` assigns a value to a variable in Python. For example, let's compute the values $y = 1 + x + x^2$ and $y' = 1 + 2x$ for $x = 2$. Use the Python function `print` to display the values of a variable."
   ]
  },
  {
   "cell_type": "code",
   "execution_count": 19,
   "id": "7d454a34-d94b-4a43-ac4f-4dd0e1c47d69",
   "metadata": {
    "tags": []
   },
   "outputs": [
    {
     "name": "stdout",
     "output_type": "stream",
     "text": [
      "2\n"
     ]
    }
   ],
   "source": [
    "x = 2\n",
    "print(x)"
   ]
  },
  {
   "cell_type": "code",
   "execution_count": 20,
   "id": "5b324229-5597-4131-995b-0765599c4eb2",
   "metadata": {
    "tags": []
   },
   "outputs": [
    {
     "name": "stdout",
     "output_type": "stream",
     "text": [
      "7\n"
     ]
    }
   ],
   "source": [
    "y = 1 + x + x**2\n",
    "print(y)"
   ]
  },
  {
   "cell_type": "code",
   "execution_count": 21,
   "id": "54441a39-bd84-4183-ae1d-3256ff425b55",
   "metadata": {
    "tags": []
   },
   "outputs": [
    {
     "name": "stdout",
     "output_type": "stream",
     "text": [
      "5\n"
     ]
    }
   ],
   "source": [
    "dy = 1 + 2*x\n",
    "print(dy)"
   ]
  },
  {
   "cell_type": "markdown",
   "id": "84566773-1eb4-4bc2-87a4-dbc88ea70d76",
   "metadata": {},
   "source": [
    "## Mathematical Functions\n",
    "\n",
    "All the standard mathematical functions are available in NumPy:\n",
    "\n",
    "| Function | NumPy Syntax |\n",
    "| :---: | :---: |\n",
    "| $\\sin(x)$ | `np.sin(x)` |\n",
    "| $\\cos(x)$ | `np.cos(x)` |\n",
    "| $\\tan(x)$ | `np.tan(x)` |\n",
    "| $\\tan^{-1}(x)$ | `np.arctan(x)` |\n",
    "| $e^x$ | `np.exp(x)` |\n",
    "| $\\ln(x)$ | `np.log(x)` |\n",
    "| $\\log_{10}(x)$ | `np.log10(x)` |\n",
    "| $\\sqrt{x}$ | `np.sqrt(x)` |\n",
    "\n",
    "Let's compute some examples:"
   ]
  },
  {
   "cell_type": "code",
   "execution_count": 22,
   "id": "f2878313-b169-43f9-9c5f-bb59a66711a5",
   "metadata": {
    "tags": []
   },
   "outputs": [
    {
     "data": {
      "text/plain": [
       "0.7071067811865476"
      ]
     },
     "execution_count": 22,
     "metadata": {},
     "output_type": "execute_result"
    }
   ],
   "source": [
    "np.cos(np.pi/4)"
   ]
  },
  {
   "cell_type": "code",
   "execution_count": 23,
   "id": "8a283317-4c79-48ad-98d4-aa937348bf45",
   "metadata": {
    "tags": []
   },
   "outputs": [
    {
     "data": {
      "text/plain": [
       "0.7071067811865475"
      ]
     },
     "execution_count": 23,
     "metadata": {},
     "output_type": "execute_result"
    }
   ],
   "source": [
    "1/np.sqrt(2)"
   ]
  },
  {
   "cell_type": "code",
   "execution_count": 24,
   "id": "edd24472-840f-4e87-9a16-361dd7069e2d",
   "metadata": {
    "tags": []
   },
   "outputs": [
    {
     "data": {
      "text/plain": [
       "0.6931471805599453"
      ]
     },
     "execution_count": 24,
     "metadata": {},
     "output_type": "execute_result"
    }
   ],
   "source": [
    "np.log(2)"
   ]
  },
  {
   "cell_type": "code",
   "execution_count": 26,
   "id": "a7360663-65c5-4377-b2f2-4d41813baa35",
   "metadata": {
    "tags": []
   },
   "outputs": [
    {
     "data": {
      "text/plain": [
       "0.7853981633974483"
      ]
     },
     "execution_count": 26,
     "metadata": {},
     "output_type": "execute_result"
    }
   ],
   "source": [
    "np.arctan(1)"
   ]
  },
  {
   "cell_type": "code",
   "execution_count": 27,
   "id": "8f2fcd44-5770-4ce2-ad0a-ae86bc742c99",
   "metadata": {
    "tags": []
   },
   "outputs": [
    {
     "data": {
      "text/plain": [
       "0.3010299956639812"
      ]
     },
     "execution_count": 27,
     "metadata": {},
     "output_type": "execute_result"
    }
   ],
   "source": [
    "np.log10(2)"
   ]
  },
  {
   "cell_type": "code",
   "execution_count": 28,
   "id": "80592a00-61ad-4473-a2e0-cefb431ecbcd",
   "metadata": {
    "tags": []
   },
   "outputs": [
    {
     "data": {
      "text/plain": [
       "2.0"
      ]
     },
     "execution_count": 28,
     "metadata": {},
     "output_type": "execute_result"
    }
   ],
   "source": [
    "10**0.3010299956639812"
   ]
  },
  {
   "cell_type": "markdown",
   "id": "90b77e2c-8c79-4d07-a9c7-790990db361b",
   "metadata": {},
   "source": [
    "## Custom Functions\n",
    "\n",
    "Create custom functions using the `lambda` keyword. For example, let's create the function:\n",
    "\n",
    "$$\n",
    "f(x) = \\frac{1}{1 + x^2}\n",
    "$$"
   ]
  },
  {
   "cell_type": "code",
   "execution_count": 29,
   "id": "5033800c-5425-48fc-a9fe-520f4744e578",
   "metadata": {
    "tags": []
   },
   "outputs": [],
   "source": [
    "f = lambda x: 1/(1 + x**2)"
   ]
  },
  {
   "cell_type": "markdown",
   "id": "cb6f8769-4731-44fa-a444-83f12fbf6316",
   "metadata": {},
   "source": [
    "Compute some values of $f(x)$:"
   ]
  },
  {
   "cell_type": "code",
   "execution_count": 30,
   "id": "4ac74bd9-130c-4d93-b35d-44e7b391376c",
   "metadata": {
    "tags": []
   },
   "outputs": [
    {
     "data": {
      "text/plain": [
       "1.0"
      ]
     },
     "execution_count": 30,
     "metadata": {},
     "output_type": "execute_result"
    }
   ],
   "source": [
    "f(0)"
   ]
  },
  {
   "cell_type": "code",
   "execution_count": 31,
   "id": "57c4bd22-3064-4546-a400-dcbdab424d89",
   "metadata": {
    "tags": []
   },
   "outputs": [
    {
     "data": {
      "text/plain": [
       "0.5"
      ]
     },
     "execution_count": 31,
     "metadata": {},
     "output_type": "execute_result"
    }
   ],
   "source": [
    "f(1)"
   ]
  },
  {
   "cell_type": "code",
   "execution_count": 32,
   "id": "8cabfb40-2d2c-46ea-8154-5e57445eb0c8",
   "metadata": {
    "tags": []
   },
   "outputs": [
    {
     "data": {
      "text/plain": [
       "0.2"
      ]
     },
     "execution_count": 32,
     "metadata": {},
     "output_type": "execute_result"
    }
   ],
   "source": [
    "f(2)"
   ]
  }
 ],
 "metadata": {
  "kernelspec": {
   "display_name": "Python 3 (ipykernel)",
   "language": "python",
   "name": "python3"
  },
  "language_info": {
   "codemirror_mode": {
    "name": "ipython",
    "version": 3
   },
   "file_extension": ".py",
   "mimetype": "text/x-python",
   "name": "python",
   "nbconvert_exporter": "python",
   "pygments_lexer": "ipython3",
   "version": "3.10.12"
  }
 },
 "nbformat": 4,
 "nbformat_minor": 5
}
