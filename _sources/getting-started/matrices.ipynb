{
 "cells": [
  {
   "cell_type": "markdown",
   "id": "176c190e-e8da-4901-bcd3-e750ef5f1e6f",
   "metadata": {},
   "source": [
    "# Working with Matrices"
   ]
  },
  {
   "cell_type": "code",
   "execution_count": 2,
   "id": "d591ae74-3c40-477c-8194-7a707980a0ad",
   "metadata": {
    "tags": []
   },
   "outputs": [],
   "source": [
    "import numpy as np"
   ]
  },
  {
   "cell_type": "markdown",
   "id": "4cec6908-5980-4e57-b901-de99175579ca",
   "metadata": {},
   "source": [
    ":::{seealso}\n",
    "Check out [Mathematical Python > SciPy](https://patrickwalls.github.io/mathematicalpython/scipy/numpy/) to see more about working with matrices in NumPy.\n",
    ":::"
   ]
  },
  {
   "cell_type": "markdown",
   "id": "1fe549ee-fd9e-4df5-b95d-b18a0dc0f07d",
   "metadata": {},
   "source": [
    "## Manual Construction\n",
    "\n",
    "Matrices are represented in Python as NumPy arrays. The simplest way to construct a matrix is to use the function `np.array`. Enter the matrix as a list of rows. Write each row as a list of numbers in square brackets `[r0,r1,...,rn]` with each entry separated by a comma `,`. For example, let's create the matrix\n",
    "\n",
    "$$\n",
    "A = \\begin{bmatrix} 1 & 2 & 3 \\\\ 4 & 5 & 6 \\\\ 7 & 8 & 9 \\end{bmatrix}\n",
    "$$"
   ]
  },
  {
   "cell_type": "code",
   "execution_count": 3,
   "id": "42a6e766-f854-4fba-b60a-d5deee7a4d0a",
   "metadata": {
    "tags": []
   },
   "outputs": [
    {
     "name": "stdout",
     "output_type": "stream",
     "text": [
      "[[1. 2. 3.]\n",
      " [4. 5. 6.]\n",
      " [7. 8. 9.]]\n"
     ]
    }
   ],
   "source": [
    "A = np.array([[1.,2.,3.],[4.,5.,6.],[7.,8.,9.]])\n",
    "print(A)"
   ]
  },
  {
   "cell_type": "markdown",
   "id": "d669bd69-c53a-4231-893e-66cdcf0ea9d0",
   "metadata": {},
   "source": [
    "Note that we enter the numbers with decimal points (ie. `1.`) to ensure the entries of the matrix are floats instead of integers. This is good practice since most of our matheamtical computations result in decimal values and so we define our matrices with floats from the start."
   ]
  },
  {
   "cell_type": "markdown",
   "id": "142ac013-3636-40f1-a031-da1f0bb6174f",
   "metadata": {},
   "source": [
    "## Construction Functions\n",
    "\n",
    "There are NumPy functions such as `np.zeros`, `np.ones`, `np.eye` and `np.diag` for constructing matrices. For example, create a 2 by 5 matrix of zeros:"
   ]
  },
  {
   "cell_type": "code",
   "execution_count": 8,
   "id": "2303638b-c850-488f-80e7-99886e2280bb",
   "metadata": {
    "tags": []
   },
   "outputs": [
    {
     "data": {
      "text/plain": [
       "array([[0., 0., 0., 0., 0.],\n",
       "       [0., 0., 0., 0., 0.]])"
      ]
     },
     "execution_count": 8,
     "metadata": {},
     "output_type": "execute_result"
    }
   ],
   "source": [
    "np.zeros([2,5])"
   ]
  },
  {
   "cell_type": "markdown",
   "id": "1f747fe2-8bbf-4901-9776-44834cc11da3",
   "metadata": {},
   "source": [
    "Create the identity matrix of size 6:"
   ]
  },
  {
   "cell_type": "code",
   "execution_count": 9,
   "id": "b64da2c4-3162-45db-a7e1-d8606a464fc4",
   "metadata": {
    "tags": []
   },
   "outputs": [
    {
     "data": {
      "text/plain": [
       "array([[1., 0., 0., 0., 0., 0.],\n",
       "       [0., 1., 0., 0., 0., 0.],\n",
       "       [0., 0., 1., 0., 0., 0.],\n",
       "       [0., 0., 0., 1., 0., 0.],\n",
       "       [0., 0., 0., 0., 1., 0.],\n",
       "       [0., 0., 0., 0., 0., 1.]])"
      ]
     },
     "execution_count": 9,
     "metadata": {},
     "output_type": "execute_result"
    }
   ],
   "source": [
    "np.eye(6)"
   ]
  },
  {
   "cell_type": "markdown",
   "id": "fe0437f4-44c6-4642-8563-bf9635249d9a",
   "metadata": {},
   "source": [
    "Create a 3 by 2 matrix of ones:"
   ]
  },
  {
   "cell_type": "code",
   "execution_count": 11,
   "id": "63d33ecc-b00c-4955-b5d3-ff9853c3f8a3",
   "metadata": {
    "tags": []
   },
   "outputs": [
    {
     "data": {
      "text/plain": [
       "array([[1., 1.],\n",
       "       [1., 1.],\n",
       "       [1., 1.]])"
      ]
     },
     "execution_count": 11,
     "metadata": {},
     "output_type": "execute_result"
    }
   ],
   "source": [
    "np.ones([3,2])"
   ]
  },
  {
   "cell_type": "markdown",
   "id": "5933d584-71e8-4103-8b58-d101a1f63ac8",
   "metadata": {},
   "source": [
    "Create a diagonal matrix:"
   ]
  },
  {
   "cell_type": "code",
   "execution_count": 6,
   "id": "bb2df96d-7edd-4527-a423-aab5864b2c1b",
   "metadata": {
    "tags": []
   },
   "outputs": [
    {
     "data": {
      "text/plain": [
       "array([[1., 0., 0.],\n",
       "       [0., 2., 0.],\n",
       "       [0., 0., 3.]])"
      ]
     },
     "execution_count": 6,
     "metadata": {},
     "output_type": "execute_result"
    }
   ],
   "source": [
    "np.diag([1.,2.,3.])"
   ]
  },
  {
   "cell_type": "markdown",
   "id": "2920eedb-3563-4fea-8ac0-2ee61f9dca83",
   "metadata": {},
   "source": [
    "Create a matrix with entries on the upper diagonal:"
   ]
  },
  {
   "cell_type": "code",
   "execution_count": 5,
   "id": "88e82bfd-01d1-445a-9d14-a8e7fc4e0ad3",
   "metadata": {
    "tags": []
   },
   "outputs": [
    {
     "data": {
      "text/plain": [
       "array([[0., 1., 0., 0.],\n",
       "       [0., 0., 2., 0.],\n",
       "       [0., 0., 0., 3.],\n",
       "       [0., 0., 0., 0.]])"
      ]
     },
     "execution_count": 5,
     "metadata": {},
     "output_type": "execute_result"
    }
   ],
   "source": [
    "np.diag([1.,2.,3.],1)"
   ]
  },
  {
   "cell_type": "markdown",
   "id": "f2c01950-9235-4644-8b5d-d330c966c434",
   "metadata": {},
   "source": [
    "Create a matrix with entries on the lower diagonal:"
   ]
  },
  {
   "cell_type": "code",
   "execution_count": 4,
   "id": "fb385f06-f6fc-4ae6-8f85-553ea1f3b682",
   "metadata": {
    "tags": []
   },
   "outputs": [
    {
     "data": {
      "text/plain": [
       "array([[0., 0., 0., 0.],\n",
       "       [1., 0., 0., 0.],\n",
       "       [0., 2., 0., 0.],\n",
       "       [0., 0., 3., 0.]])"
      ]
     },
     "execution_count": 4,
     "metadata": {},
     "output_type": "execute_result"
    }
   ],
   "source": [
    "np.diag([1.,2.,3.],-1)"
   ]
  },
  {
   "cell_type": "markdown",
   "id": "1ac81284-ed61-4efb-b404-fe477b16e71e",
   "metadata": {},
   "source": [
    "## Stacking\n",
    "\n",
    "Use the functions `np.row_stack`, `np.column_stack` and `np.block` to stack vectors and matrices to create new ones. For example, create two vectors and put them into the columns of a matrix:"
   ]
  },
  {
   "cell_type": "code",
   "execution_count": 7,
   "id": "3d382e65-3590-4124-8937-a68a1106017b",
   "metadata": {
    "tags": []
   },
   "outputs": [
    {
     "name": "stdout",
     "output_type": "stream",
     "text": [
      "[[1. 3.]\n",
      " [2. 4.]]\n"
     ]
    }
   ],
   "source": [
    "c1 = np.array([1.,2.])\n",
    "c2 = np.array([3.,4.])\n",
    "A = np.column_stack([c1,c2])\n",
    "print(A)"
   ]
  },
  {
   "cell_type": "markdown",
   "id": "3ffbd0a8-7077-43d0-a5d4-828e7a9793b9",
   "metadata": {},
   "source": [
    "Create two row vectors and put them into the rows of a matrix:"
   ]
  },
  {
   "cell_type": "code",
   "execution_count": 8,
   "id": "32e45029-376e-4c8e-8442-07b5165cf5c3",
   "metadata": {
    "tags": []
   },
   "outputs": [
    {
     "name": "stdout",
     "output_type": "stream",
     "text": [
      "[[ 0. -1.]\n",
      " [ 5.  7.]]\n"
     ]
    }
   ],
   "source": [
    "r1 = np.array([0.,-1.])\n",
    "r2 = np.array([5.,7.])\n",
    "A = np.row_stack([r1,r2])\n",
    "print(A)"
   ]
  },
  {
   "cell_type": "markdown",
   "id": "4a276b5e-22a1-4d47-8bf9-601d0e10d610",
   "metadata": {},
   "source": [
    "Create the block matrix:\n",
    "\n",
    "$$\n",
    "A = \\left[ \\begin{array}{rrrr} 1 & \\phantom{+}1 & 0 & 0 \\\\ 1 & 1 & 0 & 0 \\\\ 0 & 0 & -1 & -1 \\\\ 0 & 0 & -1 & -1 \\end{array} \\right]\n",
    "$$"
   ]
  },
  {
   "cell_type": "code",
   "execution_count": 9,
   "id": "af68a3ee-f1fb-4bf4-ada2-896ba75ed1ac",
   "metadata": {
    "tags": []
   },
   "outputs": [
    {
     "name": "stdout",
     "output_type": "stream",
     "text": [
      "[[ 1.  1.  0.  0.]\n",
      " [ 1.  1.  0.  0.]\n",
      " [ 0.  0. -1. -1.]\n",
      " [ 0.  0. -1. -1.]]\n"
     ]
    }
   ],
   "source": [
    "B1 = np.ones([2,2])\n",
    "B2 = np.zeros([2,2])\n",
    "A = np.block([[B1,B2],[B2,-B1]])\n",
    "print(A)"
   ]
  },
  {
   "cell_type": "markdown",
   "id": "7fdc924e-15b9-4729-893a-0bba63664113",
   "metadata": {},
   "source": [
    "## Addition and Multiplication\n",
    "\n",
    "Use operators `+` and `-` for matrix addition and subtraction, and `*` for scalar multiplication. For example, let's use `np.eye`, `np.ones`, `np.diag`, matrix addition and scalar multiplication to construct the matrix:\n",
    "\n",
    "$$\n",
    "A = \\left[ \\begin{array}{rrrrr}\n",
    "2 & -1 & 0 & 0 & 0 \\\\\n",
    "-1 & 2 & -1 & 0 & 0 \\\\\n",
    "0 & -1 & 2 & -1 & 0 \\\\\n",
    "0 & 0 & -1 & 2 & -1 \\\\\n",
    "0 & 0 & 0 & -1 & 2 \\end{array} \\right]\n",
    "$$"
   ]
  },
  {
   "cell_type": "code",
   "execution_count": 17,
   "id": "aa2f0975-9a81-4367-8664-df4bc97daa95",
   "metadata": {
    "tags": []
   },
   "outputs": [
    {
     "name": "stdout",
     "output_type": "stream",
     "text": [
      "[[ 2. -1.  0.  0.  0.]\n",
      " [-1.  2. -1.  0.  0.]\n",
      " [ 0. -1.  2. -1.  0.]\n",
      " [ 0.  0. -1.  2. -1.]\n",
      " [ 0.  0.  0. -1.  2.]]\n"
     ]
    }
   ],
   "source": [
    "N = 4;\n",
    "A = 2*np.eye(N+1) - np.diag(np.ones(N),1) - np.diag(np.ones(N),-1)\n",
    "print(A)"
   ]
  },
  {
   "cell_type": "markdown",
   "id": "b18a7c15-8f07-403f-82ea-80212b7470d4",
   "metadata": {},
   "source": [
    "Use the operator `@` for matrix multiplication. For example, let's compute $A \\mathbf{x}$ where $A$ is the matrix above and $\\mathbf{x}$ is the vector:\n",
    "\n",
    "$$\n",
    "\\mathbf{x} = \\begin{bmatrix} 1 \\\\ 1 \\\\ 1 \\\\ 1 \\\\ 1 \\end{bmatrix}\n",
    "$$"
   ]
  },
  {
   "cell_type": "code",
   "execution_count": 19,
   "id": "895830e8-d430-4a90-8a14-d4ae04f9a49e",
   "metadata": {
    "tags": []
   },
   "outputs": [
    {
     "name": "stdout",
     "output_type": "stream",
     "text": [
      "[[1.]\n",
      " [0.]\n",
      " [0.]\n",
      " [0.]\n",
      " [1.]]\n"
     ]
    }
   ],
   "source": [
    "x = np.ones([N+1,1])\n",
    "y = A @ x\n",
    "print(y)"
   ]
  },
  {
   "cell_type": "markdown",
   "id": "ab894dd6-a59a-4ef8-acad-5fb3e7e39f61",
   "metadata": {},
   "source": [
    "## Indexing\n",
    "\n",
    "Access the entry of matrix $A$ at row $i$ and column $j$ using the syntax `A[i,j]`. Note that Python uses 0-indexing and so entries always start at index 0. For example, consider the matrix:"
   ]
  },
  {
   "cell_type": "code",
   "execution_count": 12,
   "id": "3a6a3f0e-139c-4f7b-a904-baf9a90f1796",
   "metadata": {
    "tags": []
   },
   "outputs": [
    {
     "name": "stdout",
     "output_type": "stream",
     "text": [
      "[[ 1.  0. -2.]\n",
      " [ 7.  5. -1.]\n",
      " [ 3.  4. -8.]]\n"
     ]
    }
   ],
   "source": [
    "A = np.array([[1.,0.,-2.],[7.,5.,-1.],[3.,4.,-8.]])\n",
    "print(A)"
   ]
  },
  {
   "cell_type": "markdown",
   "id": "711c0a95-60a7-4dea-aa65-c3f30196ed0a",
   "metadata": {},
   "source": [
    "Access the entry in row 1 and column 2:"
   ]
  },
  {
   "cell_type": "code",
   "execution_count": 13,
   "id": "a88b6f99-06c2-4b4b-8d3a-e5b2b9711ddc",
   "metadata": {
    "tags": []
   },
   "outputs": [
    {
     "data": {
      "text/plain": [
       "-1.0"
      ]
     },
     "execution_count": 13,
     "metadata": {},
     "output_type": "execute_result"
    }
   ],
   "source": [
    "A[1,2]"
   ]
  },
  {
   "cell_type": "markdown",
   "id": "47f56314-05f5-4a52-940a-0b69aee144ca",
   "metadata": {},
   "source": [
    "Use the colon `:` to select an entire row or column. For example, select row 2:"
   ]
  },
  {
   "cell_type": "code",
   "execution_count": 14,
   "id": "ce919220-0272-481c-a594-aa47988a2757",
   "metadata": {
    "tags": []
   },
   "outputs": [
    {
     "data": {
      "text/plain": [
       "array([ 3.,  4., -8.])"
      ]
     },
     "execution_count": 14,
     "metadata": {},
     "output_type": "execute_result"
    }
   ],
   "source": [
    "A[2,:]"
   ]
  },
  {
   "cell_type": "markdown",
   "id": "d2dff540-01c0-4fc3-a781-6da869f28283",
   "metadata": {},
   "source": [
    "Select column 1:"
   ]
  },
  {
   "cell_type": "code",
   "execution_count": 15,
   "id": "5689ae37-1bb7-4208-83c4-74ccc4a1f464",
   "metadata": {
    "tags": []
   },
   "outputs": [
    {
     "data": {
      "text/plain": [
       "array([0., 5., 4.])"
      ]
     },
     "execution_count": 15,
     "metadata": {},
     "output_type": "execute_result"
    }
   ],
   "source": [
    "A[:,1]"
   ]
  },
  {
   "cell_type": "markdown",
   "id": "026e2a17-88c4-4c57-ac23-cca1d255597a",
   "metadata": {},
   "source": [
    "## Vector Functions\n",
    "\n",
    "Compute the maximum value in a vector with the function `np.max`."
   ]
  },
  {
   "cell_type": "code",
   "execution_count": 79,
   "id": "a5c83eb5-0f3c-465a-8ed9-78f030630886",
   "metadata": {
    "tags": []
   },
   "outputs": [
    {
     "name": "stdout",
     "output_type": "stream",
     "text": [
      "[-4.9  1.4  2.2  6.5 -4.3]\n"
     ]
    }
   ],
   "source": [
    "x = np.array([-4.9,1.4,2.2,6.5,-4.3])\n",
    "print(x)"
   ]
  },
  {
   "cell_type": "code",
   "execution_count": 80,
   "id": "b92d3074-2834-4f78-b9fd-49834b3e9f51",
   "metadata": {
    "tags": []
   },
   "outputs": [
    {
     "data": {
      "text/plain": [
       "6.5"
      ]
     },
     "execution_count": 80,
     "metadata": {},
     "output_type": "execute_result"
    }
   ],
   "source": [
    "np.max(x)"
   ]
  },
  {
   "cell_type": "markdown",
   "id": "5ffd9744-fc29-49bc-96de-553b7a4982e5",
   "metadata": {},
   "source": [
    "Compute the minimum value with the function `np.min`."
   ]
  },
  {
   "cell_type": "code",
   "execution_count": 81,
   "id": "0fd705e2-fe93-4db3-b627-a028b435eacf",
   "metadata": {
    "tags": []
   },
   "outputs": [
    {
     "data": {
      "text/plain": [
       "-4.9"
      ]
     },
     "execution_count": 81,
     "metadata": {},
     "output_type": "execute_result"
    }
   ],
   "source": [
    "np.min(x)"
   ]
  },
  {
   "cell_type": "markdown",
   "id": "27614f43-038e-46ad-9fcd-ae36ece729ff",
   "metadata": {},
   "source": [
    "Compute the sum of the values in a vector with the function `np.sum`."
   ]
  },
  {
   "cell_type": "code",
   "execution_count": 82,
   "id": "2f9ef2ec-7677-4914-8dfd-3ef68943f24b",
   "metadata": {
    "tags": []
   },
   "outputs": [
    {
     "data": {
      "text/plain": [
       "0.8999999999999995"
      ]
     },
     "execution_count": 82,
     "metadata": {},
     "output_type": "execute_result"
    }
   ],
   "source": [
    "np.sum(x)"
   ]
  },
  {
   "cell_type": "markdown",
   "id": "1fcd5618-2ca7-4cf2-9c26-948200447085",
   "metadata": {},
   "source": [
    "Note that numerical computing always includes a little bit rounding error."
   ]
  }
 ],
 "metadata": {
  "kernelspec": {
   "display_name": "Python 3 (ipykernel)",
   "language": "python",
   "name": "python3"
  },
  "language_info": {
   "codemirror_mode": {
    "name": "ipython",
    "version": 3
   },
   "file_extension": ".py",
   "mimetype": "text/x-python",
   "name": "python",
   "nbconvert_exporter": "python",
   "pygments_lexer": "ipython3",
   "version": "3.10.12"
  }
 },
 "nbformat": 4,
 "nbformat_minor": 5
}
