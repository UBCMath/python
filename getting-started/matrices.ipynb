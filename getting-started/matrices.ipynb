{
 "cells": [
  {
   "cell_type": "markdown",
   "id": "d0129d34-2968-44a7-be12-4eecacf296f9",
   "metadata": {},
   "source": [
    "# Working with Matrices\n",
    "\n",
    "*Under construction*"
   ]
  }
 ],
 "metadata": {
  "kernelspec": {
   "display_name": "Python 3 (ipykernel)",
   "language": "python",
   "name": "python3"
  },
  "language_info": {
   "codemirror_mode": {
    "name": "ipython",
    "version": 3
   },
   "file_extension": ".py",
   "mimetype": "text/x-python",
   "name": "python",
   "nbconvert_exporter": "python",
   "pygments_lexer": "ipython3",
   "version": "3.10.12"
  }
 },
 "nbformat": 4,
 "nbformat_minor": 5
}
