{
 "cells": [
  {
   "cell_type": "markdown",
   "id": "0340f1fb-c68c-4b23-8f3d-a57db884b698",
   "metadata": {},
   "source": [
    "# Elementary Mathematics\n",
    "\n",
    "*Under construction*"
   ]
  }
 ],
 "metadata": {
  "kernelspec": {
   "display_name": "Python 3 (ipykernel)",
   "language": "python",
   "name": "python3"
  },
  "language_info": {
   "codemirror_mode": {
    "name": "ipython",
    "version": 3
   },
   "file_extension": ".py",
   "mimetype": "text/x-python",
   "name": "python",
   "nbconvert_exporter": "python",
   "pygments_lexer": "ipython3",
   "version": "3.10.12"
  }
 },
 "nbformat": 4,
 "nbformat_minor": 5
}
