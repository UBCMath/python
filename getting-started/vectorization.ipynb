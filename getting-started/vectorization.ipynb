{
 "cells": [
  {
   "cell_type": "markdown",
   "id": "dcb902f1-0754-470c-852d-5abc0a497fa8",
   "metadata": {},
   "source": [
    "# Vectorization and Plotting\n",
    "\n",
    "*Under construction*"
   ]
  }
 ],
 "metadata": {
  "kernelspec": {
   "display_name": "Python 3 (ipykernel)",
   "language": "python",
   "name": "python3"
  },
  "language_info": {
   "codemirror_mode": {
    "name": "ipython",
    "version": 3
   },
   "file_extension": ".py",
   "mimetype": "text/x-python",
   "name": "python",
   "nbconvert_exporter": "python",
   "pygments_lexer": "ipython3",
   "version": "3.10.12"
  }
 },
 "nbformat": 4,
 "nbformat_minor": 5
}
