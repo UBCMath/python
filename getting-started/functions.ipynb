{
 "cells": [
  {
   "cell_type": "markdown",
   "id": "fed5f21d-ab60-4f33-a5d0-1c78c7847a3e",
   "metadata": {},
   "source": [
    "# Defininng Functions"
   ]
  },
  {
   "cell_type": "code",
   "execution_count": 17,
   "id": "7dfd761c-e2dc-44d6-873f-8093178ebca2",
   "metadata": {
    "tags": []
   },
   "outputs": [],
   "source": [
    "import numpy as np"
   ]
  },
  {
   "cell_type": "markdown",
   "id": "6a8d3d45-df9c-4fe9-b84b-0bdd738446fb",
   "metadata": {},
   "source": [
    "## Mathematical Functions\n",
    "\n",
    "All the standard mathematical functions are available in NumPy:\n",
    "\n",
    "| Function | NumPy Syntax |\n",
    "| :---: | :---: |\n",
    "| $\\sin(x)$ | `np.sin(x)` |\n",
    "| $\\cos(x)$ | `np.cos(x)` |\n",
    "| $\\tan(x)$ | `np.tan(x)` |\n",
    "| $\\tan^{-1}(x)$ | `np.arctan(x)` |\n",
    "| $e^x$ | `np.exp(x)` |\n",
    "| $\\ln(x)$ | `np.log(x)` |\n",
    "| $\\log_{10}(x)$ | `np.log10(x)` |\n",
    "| $\\sqrt{x}$ | `np.sqrt(x)` |\n",
    "\n",
    "Let's compute some examples:"
   ]
  },
  {
   "cell_type": "code",
   "execution_count": 2,
   "id": "65469bc9-49cf-44dd-9edb-878602b1e59a",
   "metadata": {
    "tags": []
   },
   "outputs": [
    {
     "data": {
      "text/plain": [
       "0.7071067811865476"
      ]
     },
     "execution_count": 2,
     "metadata": {},
     "output_type": "execute_result"
    }
   ],
   "source": [
    "np.cos(np.pi/4)"
   ]
  },
  {
   "cell_type": "code",
   "execution_count": 3,
   "id": "846f6c16-ccb7-4211-a0f9-5391cdabf073",
   "metadata": {
    "tags": []
   },
   "outputs": [
    {
     "data": {
      "text/plain": [
       "0.7071067811865475"
      ]
     },
     "execution_count": 3,
     "metadata": {},
     "output_type": "execute_result"
    }
   ],
   "source": [
    "1/np.sqrt(2)"
   ]
  },
  {
   "cell_type": "code",
   "execution_count": 4,
   "id": "25c691be-8394-446a-acae-3d56c1d4de5e",
   "metadata": {
    "tags": []
   },
   "outputs": [
    {
     "data": {
      "text/plain": [
       "0.6931471805599453"
      ]
     },
     "execution_count": 4,
     "metadata": {},
     "output_type": "execute_result"
    }
   ],
   "source": [
    "np.log(2)"
   ]
  },
  {
   "cell_type": "code",
   "execution_count": 5,
   "id": "4abf48a5-31b5-462e-8f2a-306eed4d3a46",
   "metadata": {
    "tags": []
   },
   "outputs": [
    {
     "data": {
      "text/plain": [
       "0.7853981633974483"
      ]
     },
     "execution_count": 5,
     "metadata": {},
     "output_type": "execute_result"
    }
   ],
   "source": [
    "np.arctan(1)"
   ]
  },
  {
   "cell_type": "code",
   "execution_count": 6,
   "id": "34bef661-5418-4fbc-bce8-399bbcc257bc",
   "metadata": {
    "tags": []
   },
   "outputs": [
    {
     "data": {
      "text/plain": [
       "0.3010299956639812"
      ]
     },
     "execution_count": 6,
     "metadata": {},
     "output_type": "execute_result"
    }
   ],
   "source": [
    "np.log10(2)"
   ]
  },
  {
   "cell_type": "code",
   "execution_count": 7,
   "id": "b2a12a61-7472-43c9-bf25-79c2af5249a1",
   "metadata": {
    "tags": []
   },
   "outputs": [
    {
     "data": {
      "text/plain": [
       "2.0"
      ]
     },
     "execution_count": 7,
     "metadata": {},
     "output_type": "execute_result"
    }
   ],
   "source": [
    "10**0.3010299956639812"
   ]
  },
  {
   "cell_type": "markdown",
   "id": "b834e412-6085-48f6-a5c0-380eed55b702",
   "metadata": {},
   "source": [
    "## Defining Functions\n",
    "\n",
    "We can define our own custom functions. For example, let's write a function called `fun` which takes input parameters `x` and `y` and returns the value\n",
    "\n",
    "$$\n",
    "\\sqrt{x^2 + y^2}\n",
    "$$"
   ]
  },
  {
   "cell_type": "code",
   "execution_count": 22,
   "id": "0dc5ff5f-948d-4605-a248-ec28cfd89cc8",
   "metadata": {
    "tags": []
   },
   "outputs": [],
   "source": [
    "def fun(x,y):\n",
    "    value = np.sqrt(x**2 + y**2)\n",
    "    return value"
   ]
  },
  {
   "cell_type": "markdown",
   "id": "754f9181-0e1b-41d6-91e4-9c790feba8c2",
   "metadata": {},
   "source": [
    "Let's make some key observations about the construction:\n",
    "\n",
    "* `def` is a keyword that starts the function definition\n",
    "* `fun` is the name of the function\n",
    "* the input parameters are listed within parentheses `(x,y)`\n",
    "* `def` statement ends with a colon `:`\n",
    "* body of the function is indented 4 spaces\n",
    "* output value follows the `return` keyword"
   ]
  },
  {
   "cell_type": "code",
   "execution_count": 23,
   "id": "cc27ca3a-2a48-45b2-a8dc-54430cdc459f",
   "metadata": {
    "tags": []
   },
   "outputs": [
    {
     "data": {
      "text/plain": [
       "2.23606797749979"
      ]
     },
     "execution_count": 23,
     "metadata": {},
     "output_type": "execute_result"
    }
   ],
   "source": [
    "fun(1,2)"
   ]
  },
  {
   "cell_type": "code",
   "execution_count": 24,
   "id": "23eb1a1c-9a91-48ed-906f-eb124f92f8a8",
   "metadata": {
    "tags": []
   },
   "outputs": [
    {
     "data": {
      "text/plain": [
       "1.4142135623730951"
      ]
     },
     "execution_count": 24,
     "metadata": {},
     "output_type": "execute_result"
    }
   ],
   "source": [
    "fun(-1,1)"
   ]
  },
  {
   "cell_type": "markdown",
   "id": "9dd85fa9-4690-43ca-8836-5eb191c61b22",
   "metadata": {},
   "source": [
    "## `lambda` Functions\n",
    "\n",
    "We can also create simple functions using the `lambda` keyword. For example, let's create the function:\n",
    "\n",
    "$$\n",
    "f(x) = \\frac{1}{1 + x^2}\n",
    "$$"
   ]
  },
  {
   "cell_type": "code",
   "execution_count": 8,
   "id": "3c9e4618-a557-4298-8512-8e8cc1a5ff66",
   "metadata": {
    "tags": []
   },
   "outputs": [],
   "source": [
    "f = lambda x: 1/(1 + x**2)"
   ]
  },
  {
   "cell_type": "markdown",
   "id": "0c00f7cf-220d-4704-bd02-e6851bc80ea1",
   "metadata": {},
   "source": [
    "The keyword `lambda` starts the function definition, the input variable is `x` and the formula for the funciton output follows a colon `:`."
   ]
  },
  {
   "cell_type": "markdown",
   "id": "c9d1ffa3-1bbb-4f96-982b-d031388ff00e",
   "metadata": {},
   "source": [
    "Compute some values of $f(x)$:"
   ]
  },
  {
   "cell_type": "code",
   "execution_count": 12,
   "id": "76a8875f-757f-4a0e-9ca3-7087e1a93c5a",
   "metadata": {
    "tags": []
   },
   "outputs": [
    {
     "data": {
      "text/plain": [
       "1.0"
      ]
     },
     "execution_count": 12,
     "metadata": {},
     "output_type": "execute_result"
    }
   ],
   "source": [
    "f(0)"
   ]
  },
  {
   "cell_type": "code",
   "execution_count": 13,
   "id": "204a84ed-9762-43b0-b1e1-93d806353f95",
   "metadata": {
    "tags": []
   },
   "outputs": [
    {
     "data": {
      "text/plain": [
       "0.5"
      ]
     },
     "execution_count": 13,
     "metadata": {},
     "output_type": "execute_result"
    }
   ],
   "source": [
    "f(1)"
   ]
  },
  {
   "cell_type": "code",
   "execution_count": 14,
   "id": "92d19c4f-e17a-4c17-a52e-598a9327c24b",
   "metadata": {
    "tags": []
   },
   "outputs": [
    {
     "data": {
      "text/plain": [
       "0.2"
      ]
     },
     "execution_count": 14,
     "metadata": {},
     "output_type": "execute_result"
    }
   ],
   "source": [
    "f(2)"
   ]
  },
  {
   "cell_type": "markdown",
   "id": "96e5081a-3c82-47ec-b9ef-966721200a9c",
   "metadata": {},
   "source": [
    "Now let's construct the function\n",
    "\n",
    "$$\n",
    "h(x,y) = \\sqrt{x^2 + y^2}\n",
    "$$"
   ]
  },
  {
   "cell_type": "code",
   "execution_count": 19,
   "id": "c5eef138-aab6-4eac-808a-4e54f8517127",
   "metadata": {
    "tags": []
   },
   "outputs": [],
   "source": [
    "h = lambda x,y: np.sqrt(x**2 + y**2)"
   ]
  },
  {
   "cell_type": "code",
   "execution_count": 20,
   "id": "a4c017ba-e50c-4437-b506-8b146b5dc7d7",
   "metadata": {
    "tags": []
   },
   "outputs": [
    {
     "data": {
      "text/plain": [
       "2.23606797749979"
      ]
     },
     "execution_count": 20,
     "metadata": {},
     "output_type": "execute_result"
    }
   ],
   "source": [
    "h(1,2)"
   ]
  },
  {
   "cell_type": "code",
   "execution_count": 21,
   "id": "9fe63363-8a79-40b8-aeed-b41f66e7b89c",
   "metadata": {
    "tags": []
   },
   "outputs": [
    {
     "data": {
      "text/plain": [
       "1.4142135623730951"
      ]
     },
     "execution_count": 21,
     "metadata": {},
     "output_type": "execute_result"
    }
   ],
   "source": [
    "h(-1,1)"
   ]
  },
  {
   "cell_type": "markdown",
   "id": "ee116aec-1828-4a50-9d5c-1d3647a211c8",
   "metadata": {},
   "source": [
    "Lambda functions are helpful for defining simple functions but longer more complicated functions require the `def` construction."
   ]
  }
 ],
 "metadata": {
  "kernelspec": {
   "display_name": "Python 3 (ipykernel)",
   "language": "python",
   "name": "python3"
  },
  "language_info": {
   "codemirror_mode": {
    "name": "ipython",
    "version": 3
   },
   "file_extension": ".py",
   "mimetype": "text/x-python",
   "name": "python",
   "nbconvert_exporter": "python",
   "pygments_lexer": "ipython3",
   "version": "3.10.12"
  }
 },
 "nbformat": 4,
 "nbformat_minor": 5
}
